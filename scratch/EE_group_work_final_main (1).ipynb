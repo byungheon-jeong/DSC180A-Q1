{
 "cells": [
  {
   "cell_type": "markdown",
   "id": "46ccd53d",
   "metadata": {},
   "source": [
    "This demo will show how to programmatically access the Google Earth Engine API to obtain a time series of satellite images for a given time window and region. \n",
    "\n",
    "Prerequisites:\n",
    "- Google Earth Engine Python API package: ee\n",
    "- Third party Earth Engine wrapper package: geemap\n",
    "- GeoTIFF read, transform, and write package: rasterio\n"
   ]
  },
  {
   "cell_type": "code",
   "execution_count": 1,
   "id": "9f3b1849",
   "metadata": {},
   "outputs": [],
   "source": [
    "import ee \n",
    "import geemap\n",
    "from datetime import datetime\n",
    "import numpy as np\n",
    "import rasterio #for reading images\n",
    "import matplotlib.pyplot as plt \n",
    "import pandas as pd"
   ]
  },
  {
   "cell_type": "code",
   "execution_count": 2,
   "id": "ee09f6e9",
   "metadata": {},
   "outputs": [],
   "source": [
    " def cloudscore(image):\n",
    "        '''\n",
    "        Inner function for computing cloud score such that we can remove \n",
    "        bad images from the landsat collections we download.\n",
    "        Implementation in javascript can be found of Google Earth Engine \n",
    "        website under (landsat algorithms), translation to python by KH.\n",
    "        Further help from Nicholas Clinton at \n",
    "        https://urldefense.com/v3/__https://gis.stackexchange.com/questions/252685/filter-landsat-images-base-on-cloud-cover-over-a-region-of-interest*5Cn__;JQ!!LLK065n_VXAQ!zP9K-68-_oPkaNWFZdbTYYnai85ggL4j3FhdqssLkim-RneBr2NqD6Ka4fu6yw-v$         '''\n",
    "        cloud = ee.Algorithms.Landsat.simpleCloudScore(image).select('cloud')\n",
    "        cloudiness = cloud.reduceRegion(ee.Reducer.mean(),\n",
    "                                        geometry=region,\n",
    "                                        scale=30)\n",
    "        image = image.set(cloudiness)\n",
    "        return image"
   ]
  },
  {
   "cell_type": "code",
   "execution_count": 3,
   "id": "c2b42c2a",
   "metadata": {},
   "outputs": [
    {
     "data": {
      "text/html": [
       "<p>To authorize access needed by Earth Engine, open the following\n",
       "        URL in a web browser and follow the instructions:</p>\n",
       "        <p><a href=https://accounts.google.com/o/oauth2/auth?client_id=517222506229-vsmmajv00ul0bs7p89v5m89qs8eb9359.apps.googleusercontent.com&scope=https%3A%2F%2Fwww.googleapis.com%2Fauth%2Fearthengine+https%3A%2F%2Fwww.googleapis.com%2Fauth%2Fdevstorage.full_control&redirect_uri=urn%3Aietf%3Awg%3Aoauth%3A2.0%3Aoob&response_type=code&code_challenge=_EUfK6lVFxoOayzMcX_lNE7Y8i7uKP4D0DcFgqIU7Sw&code_challenge_method=S256>https://accounts.google.com/o/oauth2/auth?client_id=517222506229-vsmmajv00ul0bs7p89v5m89qs8eb9359.apps.googleusercontent.com&scope=https%3A%2F%2Fwww.googleapis.com%2Fauth%2Fearthengine+https%3A%2F%2Fwww.googleapis.com%2Fauth%2Fdevstorage.full_control&redirect_uri=urn%3Aietf%3Awg%3Aoauth%3A2.0%3Aoob&response_type=code&code_challenge=_EUfK6lVFxoOayzMcX_lNE7Y8i7uKP4D0DcFgqIU7Sw&code_challenge_method=S256</a></p>\n",
       "        <p>The authorization workflow will generate a code, which you\n",
       "        should paste in the box below</p>\n",
       "        "
      ],
      "text/plain": [
       "<IPython.core.display.HTML object>"
      ]
     },
     "metadata": {},
     "output_type": "display_data"
    },
    {
     "name": "stdout",
     "output_type": "stream",
     "text": [
      "Enter verification code: 4/1AX4XfWgMvT0PmaVvJTJlZwjUl9dCuPF-bK1TBxk_UobDX_527jpeXuBCjuo\n",
      "\n",
      "Successfully saved authorization token.\n"
     ]
    }
   ],
   "source": [
    "# Trigger the authentication flow\n",
    "ee.Authenticate()\n",
    "\n",
    "# Initialize the library\n",
    "ee.Initialize()"
   ]
  },
  {
   "cell_type": "markdown",
   "id": "33ac8bbf",
   "metadata": {},
   "source": [
    "This is where we define the lat-long bounding box that defines the region for our satellite images. Notice how that bounding box starts and ends in the same place"
   ]
  },
  {
   "cell_type": "code",
   "execution_count": 4,
   "id": "0c80deb1",
   "metadata": {},
   "outputs": [],
   "source": [
    "\n",
    "# bbox = [(-118.5218120749397,36.99786234125541),\n",
    "#     (-118.51807843999097,36.99786234125541),\n",
    "#     (-118.51807843999097,37.00010729974639),\n",
    "#     (-118.5218120749397,37.00010729974639),\n",
    "#     (-118.5218120749397,36.99786234125541)]\n",
    "\n",
    "# = [(7.0089096, 45.978629149999996),\n",
    "#  (7.0466264, 45.978629149999996),\n",
    "#  (7.0466264, 46.02018385),\n",
    "#  (7.0089096, 46.02018385),\n",
    "#  (7.0089096, 45.978629149999996)]\n",
    "\n",
    "# format:\n",
    "#     bbox = [(),\n",
    "#     (-118.51270890110236,37.006279860016086),\n",
    "#     (-118.5332653509925,37.006279860016086),\n",
    "#     (-118.5332653509925,36.99695760726187)]\n",
    "\n",
    "#this one was my dataset\n",
    "\n",
    "#  bbox = [(-118.51270890110236,36.99695760726187),\n",
    "#     (-118.51270890110236,37.006279860016086),\n",
    "#     (-118.5332653509925,37.006279860016086),\n",
    "#     (-118.5332653509925,36.99695760726187)]\n",
    "\n",
    "bbox =[(79.8096398872554,42.295437794411406),\n",
    "(79.8096398872554,42.169352359125746),\n",
    "(80.24634643022415,42.169352359125746),\n",
    "(80.24634643022415,42.295437794411406)]"
   ]
  },
  {
   "cell_type": "markdown",
   "id": "3436efc5",
   "metadata": {},
   "source": [
    "Here we obtain an EE image collection for LANDSAT 8 from a specified date range and region"
   ]
  },
  {
   "cell_type": "code",
   "execution_count": 5,
   "id": "04550c9c",
   "metadata": {},
   "outputs": [],
   "source": [
    "#old dates\n",
    "# start_date = datetime(2020,1,1)\n",
    "# end_date = datetime(2021,10,1)\n",
    "start_date = datetime(1999,1,1)\n",
    "#test with 97 return to 99\n",
    "end_date = datetime(2003,1,1)\n",
    "\n",
    "region = ee.Geometry.Polygon(bbox)\n",
    "\n",
    "# col = ee.ImageCollection('LANDSAT/LT05/C01/T1_TOA')# Landsat 5\n",
    "# col = ee.ImageCollection('LANDSAT/LE07/C01/T1_TOA') # Landsat 7 - has defects\n",
    "# collection = ee.ImageCollection('LANDSAT/LC08/C01/T1_TOA').filterDate(start_date,end_date).filterBounds(region)\n",
    "collection = ee.ImageCollection('LANDSAT/LE07/C01/T1_TOA').filterDate(start_date,end_date).filterBounds(region)"
   ]
  },
  {
   "cell_type": "markdown",
   "id": "4eda3e76",
   "metadata": {},
   "source": [
    "Here we filter out cloudy images. The lower the cloud_tol, the less cloud tolerance"
   ]
  },
  {
   "cell_type": "code",
   "execution_count": 6,
   "id": "f08f7749",
   "metadata": {},
   "outputs": [
    {
     "data": {
      "text/plain": [
       "ee.imagecollection.ImageCollection"
      ]
     },
     "execution_count": 6,
     "metadata": {},
     "output_type": "execute_result"
    }
   ],
   "source": [
    "cloud_tol=15\n",
    "collection = collection.map(algorithm=cloudscore).filter(ee.Filter.lt('cloud', cloud_tol))\n",
    "type(collection)\n",
    "# average_land7 = collection.map(algorithm=cloudscore).filter(ee.Filter.lt('cloud', cloud_tol))"
   ]
  },
  {
   "cell_type": "code",
   "execution_count": 7,
   "id": "a1f48890",
   "metadata": {},
   "outputs": [
    {
     "ename": "NameError",
     "evalue": "name 'dates' is not defined",
     "output_type": "error",
     "traceback": [
      "\u001b[1;31m---------------------------------------------------------------------------\u001b[0m",
      "\u001b[1;31mNameError\u001b[0m                                 Traceback (most recent call last)",
      "\u001b[1;32m~\\AppData\\Local\\Temp/ipykernel_7444/141200979.py\u001b[0m in \u001b[0;36m<module>\u001b[1;34m\u001b[0m\n\u001b[0;32m      1\u001b[0m \u001b[0mfiltered\u001b[0m \u001b[1;33m=\u001b[0m \u001b[0mcollection\u001b[0m\u001b[1;33m\u001b[0m\u001b[1;33m\u001b[0m\u001b[0m\n\u001b[1;32m----> 2\u001b[1;33m \u001b[1;32mfor\u001b[0m \u001b[0mi\u001b[0m \u001b[1;32min\u001b[0m \u001b[0mdates\u001b[0m\u001b[1;33m[\u001b[0m\u001b[1;36m6\u001b[0m\u001b[1;33m:\u001b[0m\u001b[1;33m]\u001b[0m\u001b[1;33m:\u001b[0m\u001b[1;33m\u001b[0m\u001b[1;33m\u001b[0m\u001b[0m\n\u001b[0m\u001b[0;32m      3\u001b[0m     \u001b[0mfiltered\u001b[0m \u001b[1;33m=\u001b[0m \u001b[0mfiltered\u001b[0m\u001b[1;33m.\u001b[0m\u001b[0mfilter\u001b[0m\u001b[1;33m(\u001b[0m\u001b[0mee\u001b[0m\u001b[1;33m.\u001b[0m\u001b[0mFilter\u001b[0m\u001b[1;33m.\u001b[0m\u001b[0mdate\u001b[0m\u001b[1;33m(\u001b[0m\u001b[0mi\u001b[0m\u001b[1;33m,\u001b[0m \u001b[0mi\u001b[0m\u001b[1;33m)\u001b[0m\u001b[1;33m.\u001b[0m\u001b[0mNot\u001b[0m\u001b[1;33m(\u001b[0m\u001b[1;33m)\u001b[0m\u001b[1;33m)\u001b[0m\u001b[1;33m\u001b[0m\u001b[1;33m\u001b[0m\u001b[0m\n",
      "\u001b[1;31mNameError\u001b[0m: name 'dates' is not defined"
     ]
    }
   ],
   "source": [
    "filtered = collection\n",
    "for i in dates[6:]:\n",
    "    filtered = filtered.filter(ee.Filter.date(i, i).Not())\n"
   ]
  },
  {
   "cell_type": "code",
   "execution_count": 8,
   "id": "4003146c",
   "metadata": {},
   "outputs": [],
   "source": [
    "collection = filtered"
   ]
  },
  {
   "cell_type": "code",
   "execution_count": 165,
   "id": "ed21496d",
   "metadata": {},
   "outputs": [],
   "source": [
    "collection = collection.select(['B1','B2','B3', 'B4', 'B5', 'B6_VCID_1', 'B6_VCID_2', 'B7', 'B8'])\n"
   ]
  },
  {
   "cell_type": "code",
   "execution_count": 166,
   "id": "7b4e371c",
   "metadata": {},
   "outputs": [],
   "source": [
    "# # collection[:6]\n",
    "# image_names"
   ]
  },
  {
   "cell_type": "markdown",
   "id": "eee8cbe8",
   "metadata": {},
   "source": [
    "### average this bitch ass collection with the 6 compatible images using no bands"
   ]
  },
  {
   "cell_type": "code",
   "execution_count": 187,
   "id": "bf2c518b",
   "metadata": {},
   "outputs": [
    {
     "data": {
      "text/plain": [
       "ee.image.Image"
      ]
     },
     "execution_count": 187,
     "metadata": {},
     "output_type": "execute_result"
    }
   ],
   "source": [
    "avg_img_lan7 = collection.mean()\n",
    "type(avg_img_lan7 )"
   ]
  },
  {
   "cell_type": "markdown",
   "id": "7b3c48ec",
   "metadata": {},
   "source": [
    "To see a full list of Landsat 8 bands visit: https://urldefense.com/v3/__https://developers.google.com/earth-engine/datasets/catalog/LANDSAT_LC08_C01_T2_SR__;!!LLK065n_VXAQ!zP9K-68-_oPkaNWFZdbTYYnai85ggL4j3FhdqssLkim-RneBr2NqD6Ka4QdkmbFN$ . Here we select: B2-blue; B3-green; B4-red; B5-near infrared; B6-shortwave infrared 1; B7-shortwave infrared 2; "
   ]
  },
  {
   "cell_type": "code",
   "execution_count": 188,
   "id": "ef9da6c3",
   "metadata": {},
   "outputs": [],
   "source": [
    "# collection = collection.select(['B5'])\n",
    "# avg_img_lan7 = collection.select(['B1','B2','B3', 'B4', 'B5', 'B6_VCID_1', 'B6_VCID_2', 'B7', 'B8'])\n",
    "# collection = collection.select([])"
   ]
  },
  {
   "cell_type": "code",
   "execution_count": 189,
   "id": "81517882",
   "metadata": {},
   "outputs": [
    {
     "data": {
      "text/plain": [
       "<ee.image.Image at 0x14a608bddc0>"
      ]
     },
     "execution_count": 189,
     "metadata": {},
     "output_type": "execute_result"
    }
   ],
   "source": [
    "avg_img_lan7"
   ]
  },
  {
   "cell_type": "code",
   "execution_count": 190,
   "id": "2109fcb7",
   "metadata": {},
   "outputs": [],
   "source": [
    "# img"
   ]
  },
  {
   "cell_type": "code",
   "execution_count": 191,
   "id": "a28dddcc",
   "metadata": {},
   "outputs": [
    {
     "data": {
      "text/plain": [
       "{'type': 'Image',\n",
       " 'bands': [{'id': 'B2',\n",
       "   'data_type': {'type': 'PixelType', 'precision': 'float'},\n",
       "   'crs': 'EPSG:4326',\n",
       "   'crs_transform': [1, 0, 0, 0, 1, 0]}]}"
      ]
     },
     "execution_count": 191,
     "metadata": {},
     "output_type": "execute_result"
    }
   ],
   "source": [
    "# # Load a 5-year Landsat 7 composite 1999-2003.\n",
    "average_land7 = ee.Image('LANDSAT/LE7_TOA_5YEAR/1999_2003')\n",
    "# average_land7 = ee.ImageCollection('LANDSAT/LE07/C01/T1_TOA').filterDate(start_date,end_date).filterBounds(region)# # Compute NDVI.\n",
    "# # 'Engilchek_Glacier_2001-10-02.tif'\n",
    "# NDSI_avg_test = (average_land7.select('B2').subtract(average_land7.select('B5'))\n",
    "#              .divide(average_land7.select('B5').add(average_land7.select('B5'))))\n",
    "NDSI_avg = (avg_img_lan7.select('B2').subtract(avg_img_lan7.select('B5'))\n",
    "             .divide(avg_img_lan7.select('B5').add(avg_img_lan7.select('B5'))))\n",
    "\n",
    "# with rasterio.open(NDSI_avg) as src:\n",
    "#     first_band = src.read(1)\n",
    "#     NDSI_avg_img = src.read()\n",
    "# rolled_img = np.rollaxis(NDSI_avg_img, 0,3)\n",
    "# print(rolled_img.shape)\n",
    "# plt.imshow(rolled_img[:,:,0:3])\n",
    "\n",
    "#ignore after\n",
    "NDSI_avg = (avg_img_lan7.select('B2').subtract(avg_img_lan7.select('B5'))\n",
    "             .divide(avg_img_lan7.select('B5').add(avg_img_lan7.select('B5'))))\n",
    "NDSI_avg.getInfo()"
   ]
  },
  {
   "cell_type": "code",
   "execution_count": 174,
   "id": "3634d5b8",
   "metadata": {},
   "outputs": [],
   "source": [
    "# band_names = avg_img_lan7.bandNames()\n",
    "# print('Band names:', band_names.getInfo())  # "
   ]
  },
  {
   "cell_type": "code",
   "execution_count": 192,
   "id": "9a3ebd3d",
   "metadata": {},
   "outputs": [
    {
     "name": "stdout",
     "output_type": "stream",
     "text": [
      "Generating URL ...\n",
      "Downloading data from https://urldefense.proofpoint.com/v2/url?u=https-3A__earthengine.googleapis.com_v1alpha_projects_earthengine-2Dlegacy_thumbnails_7bd03a2d07fe3c830e9139e65c8c7006-2Dd9ca54da0da589d6e5adec0fb848c9ee-3AgetPixels-255Cn&d=DwIGAg&c=-35OiAkTchMrZOngvJPOeA&r=D1EPOQw7iT2rfi0jWjWTnZkYQh-F5WCqnQ4vW6VmEU8&m=-F2RAL_Zy5uB7gmCq3jE-1w_r3x7X_aAUjVa63Ry1jN8eM_kDAhizt-i2Rzm5uYs&s=fGJjy2BudHJ_Qs_vz81fz37Vt2eMo6w9BjnNyaFMMnM&e= Please wait ...\n",
      "Data downloaded to C:\\Users\\Administrator\\ee folder\\Engilchek_glacier_{PERFECTION}.tif\n"
     ]
    }
   ],
   "source": [
    "#     image = ee.Image(collection_list.get(i))\n",
    "geemap.ee_export_image(NDSI_avg, filename = \"Engilchek_glacier_{PERFECTION}.tif\", scale = 100, region = region, file_per_band = False)"
   ]
  },
  {
   "cell_type": "code",
   "execution_count": 194,
   "id": "92157556",
   "metadata": {},
   "outputs": [],
   "source": [
    "with rasterio.open('Engilchek_glacier_{PERFECTION}.tif') as src:\n",
    "    first_band = src.read(1)\n",
    "    img = src.read()"
   ]
  },
  {
   "cell_type": "code",
   "execution_count": 195,
   "id": "a2558e8b",
   "metadata": {},
   "outputs": [
    {
     "name": "stdout",
     "output_type": "stream",
     "text": [
      "(142, 487, 1)\n"
     ]
    },
    {
     "data": {
      "text/plain": [
       "<matplotlib.image.AxesImage at 0x14a608dc610>"
      ]
     },
     "execution_count": 195,
     "metadata": {},
     "output_type": "execute_result"
    },
    {
     "data": {
      "image/png": "[encoded data removed]",
      "text/plain": [
       "<Figure size 432x288 with 1 Axes>"
      ]
     },
     "metadata": {
      "needs_background": "light"
     },
     "output_type": "display_data"
    }
   ],
   "source": [
    "rolled_img = np.rollaxis(img, 0,3)\n",
    "print(rolled_img.shape)\n",
    "plt.imshow(rolled_img[:,:,0:3])"
   ]
  },
  {
   "cell_type": "code",
   "execution_count": 94,
   "id": "317d46eb",
   "metadata": {},
   "outputs": [],
   "source": [
    "# collection = collection.select(['B2','B3', 'B5', 'B6', 'B7'])\n",
    "# #[\"B1\",\"B2\",\"B3\"]"
   ]
  },
  {
   "cell_type": "code",
   "execution_count": 95,
   "id": "817071bc",
   "metadata": {},
   "outputs": [],
   "source": [
    "# collection_list = collection_2.toList(collection_2.size())\n",
    "# # type(collection_list)\n",
    "# collection_size = collection_list.size().getInfo()\n",
    "# dates = geemap.image_dates(collection_2, date_format='YYYY-MM-dd').getInfo()"
   ]
  },
  {
   "cell_type": "code",
   "execution_count": 106,
   "id": "6c1c8df1",
   "metadata": {},
   "outputs": [],
   "source": [
    "collection_list = collection.toList(collection.size())\n",
    "# type(collection_list)\n",
    "collection_size = collection_list.size().getInfo()\n",
    "dates = geemap.image_dates(collection, date_format='YYYY-MM-dd').getInfo()"
   ]
  },
  {
   "cell_type": "markdown",
   "id": "55222eaf",
   "metadata": {},
   "source": [
    "Next, we will write the images from the image collection to our local machine as a geotiff"
   ]
  },
  {
   "cell_type": "code",
   "execution_count": 107,
   "id": "da952c1b",
   "metadata": {},
   "outputs": [
    {
     "name": "stdout",
     "output_type": "stream",
     "text": [
      "Generating URL ...\n",
      "An error occurred while downloading.\n",
      "Expression evaluates to an image with no bands.\n",
      "Generating URL ...\n",
      "An error occurred while downloading.\n",
      "Expression evaluates to an image with no bands.\n",
      "Generating URL ...\n",
      "An error occurred while downloading.\n",
      "Expression evaluates to an image with no bands.\n",
      "Generating URL ...\n",
      "An error occurred while downloading.\n",
      "Expression evaluates to an image with no bands.\n",
      "Generating URL ...\n",
      "An error occurred while downloading.\n",
      "Expression evaluates to an image with no bands.\n",
      "Generating URL ...\n",
      "An error occurred while downloading.\n",
      "Expression evaluates to an image with no bands.\n",
      "Generating URL ...\n",
      "An error occurred while downloading.\n",
      "Expression evaluates to an image with no bands.\n",
      "Generating URL ...\n",
      "An error occurred while downloading.\n",
      "Expression evaluates to an image with no bands.\n",
      "Generating URL ...\n",
      "An error occurred while downloading.\n",
      "Expression evaluates to an image with no bands.\n",
      "Generating URL ...\n",
      "An error occurred while downloading.\n",
      "Expression evaluates to an image with no bands.\n",
      "Generating URL ...\n",
      "An error occurred while downloading.\n",
      "Expression evaluates to an image with no bands.\n",
      "Generating URL ...\n",
      "An error occurred while downloading.\n",
      "Expression evaluates to an image with no bands.\n",
      "Generating URL ...\n",
      "An error occurred while downloading.\n",
      "Expression evaluates to an image with no bands.\n",
      "Generating URL ...\n",
      "An error occurred while downloading.\n",
      "Expression evaluates to an image with no bands.\n",
      "Generating URL ...\n",
      "An error occurred while downloading.\n",
      "Expression evaluates to an image with no bands.\n",
      "Generating URL ...\n",
      "An error occurred while downloading.\n",
      "Expression evaluates to an image with no bands.\n",
      "Generating URL ...\n",
      "An error occurred while downloading.\n",
      "Expression evaluates to an image with no bands.\n",
      "Generating URL ...\n",
      "An error occurred while downloading.\n",
      "Expression evaluates to an image with no bands.\n",
      "Generating URL ...\n",
      "An error occurred while downloading.\n",
      "Expression evaluates to an image with no bands.\n",
      "Generating URL ...\n",
      "An error occurred while downloading.\n",
      "Expression evaluates to an image with no bands.\n",
      "Generating URL ...\n",
      "An error occurred while downloading.\n",
      "Expression evaluates to an image with no bands.\n"
     ]
    }
   ],
   "source": [
    "list_a = []\n",
    "for i, date in enumerate(dates):\n",
    "    image = ee.Image(collection_list.get(i))\n",
    "    geemap.ee_export_image(image, filename = \"Engilchek_glacier_{}.tif\".format(date), scale = 100, region = region, file_per_band = False)\n",
    "#     list_a.append(filename)"
   ]
  },
  {
   "cell_type": "markdown",
   "id": "b14b8650",
   "metadata": {},
   "source": [
    "We will to use rasterio to read the geotiff from our local machine"
   ]
  },
  {
   "cell_type": "code",
   "execution_count": 108,
   "id": "60a312f2",
   "metadata": {},
   "outputs": [],
   "source": [
    "# \"LANDSAT7_{}.tif\".format(date)\n",
    "image_names = []\n",
    "for i, date in enumerate(dates):\n",
    "    image_names.append(\"Engilchek_Glacier_{}.tif\".format(date))"
   ]
  },
  {
   "cell_type": "code",
   "execution_count": 109,
   "id": "ef5370f9",
   "metadata": {
    "scrolled": true
   },
   "outputs": [],
   "source": [
    "# image_names"
   ]
  },
  {
   "cell_type": "code",
   "execution_count": 110,
   "id": "6b3141ec",
   "metadata": {
    "scrolled": true
   },
   "outputs": [
    {
     "ename": "RasterioIOError",
     "evalue": "Engilchek_glacier_2002-10-05.tif: No such file or directory",
     "output_type": "error",
     "traceback": [
      "\u001b[1;31m---------------------------------------------------------------------------\u001b[0m",
      "\u001b[1;31mCPLE_OpenFailedError\u001b[0m                      Traceback (most recent call last)",
      "\u001b[1;32mrasterio\\_base.pyx\u001b[0m in \u001b[0;36mrasterio._base.DatasetBase.__init__\u001b[1;34m()\u001b[0m\n",
      "\u001b[1;32mrasterio\\_shim.pyx\u001b[0m in \u001b[0;36mrasterio._shim.open_dataset\u001b[1;34m()\u001b[0m\n",
      "\u001b[1;32mrasterio\\_err.pyx\u001b[0m in \u001b[0;36mrasterio._err.exc_wrap_pointer\u001b[1;34m()\u001b[0m\n",
      "\u001b[1;31mCPLE_OpenFailedError\u001b[0m: Engilchek_glacier_2002-10-05.tif: No such file or directory",
      "\nDuring handling of the above exception, another exception occurred:\n",
      "\u001b[1;31mRasterioIOError\u001b[0m                           Traceback (most recent call last)",
      "\u001b[1;32mC:\\Users\\ADMINI~1\\AppData\\Local\\Temp/ipykernel_14728/1641291272.py\u001b[0m in \u001b[0;36m<module>\u001b[1;34m\u001b[0m\n\u001b[1;32m----> 1\u001b[1;33m \u001b[1;32mwith\u001b[0m \u001b[0mrasterio\u001b[0m\u001b[1;33m.\u001b[0m\u001b[0mopen\u001b[0m\u001b[1;33m(\u001b[0m\u001b[1;34m'Engilchek_glacier_2002-10-05.tif'\u001b[0m\u001b[1;33m)\u001b[0m \u001b[1;32mas\u001b[0m \u001b[0msrc\u001b[0m\u001b[1;33m:\u001b[0m\u001b[1;33m\u001b[0m\u001b[1;33m\u001b[0m\u001b[0m\n\u001b[0m\u001b[0;32m      2\u001b[0m     \u001b[0mfirst_band\u001b[0m \u001b[1;33m=\u001b[0m \u001b[0msrc\u001b[0m\u001b[1;33m.\u001b[0m\u001b[0mread\u001b[0m\u001b[1;33m(\u001b[0m\u001b[1;36m1\u001b[0m\u001b[1;33m)\u001b[0m\u001b[1;33m\u001b[0m\u001b[1;33m\u001b[0m\u001b[0m\n\u001b[0;32m      3\u001b[0m     \u001b[0mimg\u001b[0m \u001b[1;33m=\u001b[0m \u001b[0msrc\u001b[0m\u001b[1;33m.\u001b[0m\u001b[0mread\u001b[0m\u001b[1;33m(\u001b[0m\u001b[1;33m)\u001b[0m\u001b[1;33m\u001b[0m\u001b[1;33m\u001b[0m\u001b[0m\n\u001b[0;32m      4\u001b[0m \u001b[1;31m# print(img.shape)\u001b[0m\u001b[1;33m\u001b[0m\u001b[1;33m\u001b[0m\u001b[0m\n\u001b[0;32m      5\u001b[0m \u001b[1;31m#LANDSAT8_2020-01-25.tif\u001b[0m\u001b[1;33m\u001b[0m\u001b[1;33m\u001b[0m\u001b[0m\n",
      "\u001b[1;32mC:\\ProgramData\\Anaconda3\\envs\\ee\\lib\\site-packages\\rasterio\\env.py\u001b[0m in \u001b[0;36mwrapper\u001b[1;34m(*args, **kwds)\u001b[0m\n\u001b[0;32m    435\u001b[0m \u001b[1;33m\u001b[0m\u001b[0m\n\u001b[0;32m    436\u001b[0m         \u001b[1;32mwith\u001b[0m \u001b[0menv_ctor\u001b[0m\u001b[1;33m(\u001b[0m\u001b[0msession\u001b[0m\u001b[1;33m=\u001b[0m\u001b[0msession\u001b[0m\u001b[1;33m)\u001b[0m\u001b[1;33m:\u001b[0m\u001b[1;33m\u001b[0m\u001b[1;33m\u001b[0m\u001b[0m\n\u001b[1;32m--> 437\u001b[1;33m             \u001b[1;32mreturn\u001b[0m \u001b[0mf\u001b[0m\u001b[1;33m(\u001b[0m\u001b[1;33m*\u001b[0m\u001b[0margs\u001b[0m\u001b[1;33m,\u001b[0m \u001b[1;33m**\u001b[0m\u001b[0mkwds\u001b[0m\u001b[1;33m)\u001b[0m\u001b[1;33m\u001b[0m\u001b[1;33m\u001b[0m\u001b[0m\n\u001b[0m\u001b[0;32m    438\u001b[0m \u001b[1;33m\u001b[0m\u001b[0m\n\u001b[0;32m    439\u001b[0m     \u001b[1;32mreturn\u001b[0m \u001b[0mwrapper\u001b[0m\u001b[1;33m\u001b[0m\u001b[1;33m\u001b[0m\u001b[0m\n",
      "\u001b[1;32mC:\\ProgramData\\Anaconda3\\envs\\ee\\lib\\site-packages\\rasterio\\__init__.py\u001b[0m in \u001b[0;36mopen\u001b[1;34m(fp, mode, driver, width, height, count, crs, transform, dtype, nodata, sharing, **kwargs)\u001b[0m\n\u001b[0;32m    218\u001b[0m         \u001b[1;31m# None.\u001b[0m\u001b[1;33m\u001b[0m\u001b[1;33m\u001b[0m\u001b[0m\n\u001b[0;32m    219\u001b[0m         \u001b[1;32mif\u001b[0m \u001b[0mmode\u001b[0m \u001b[1;33m==\u001b[0m \u001b[1;34m'r'\u001b[0m\u001b[1;33m:\u001b[0m\u001b[1;33m\u001b[0m\u001b[1;33m\u001b[0m\u001b[0m\n\u001b[1;32m--> 220\u001b[1;33m             \u001b[0ms\u001b[0m \u001b[1;33m=\u001b[0m \u001b[0mDatasetReader\u001b[0m\u001b[1;33m(\u001b[0m\u001b[0mpath\u001b[0m\u001b[1;33m,\u001b[0m \u001b[0mdriver\u001b[0m\u001b[1;33m=\u001b[0m\u001b[0mdriver\u001b[0m\u001b[1;33m,\u001b[0m \u001b[0msharing\u001b[0m\u001b[1;33m=\u001b[0m\u001b[0msharing\u001b[0m\u001b[1;33m,\u001b[0m \u001b[1;33m**\u001b[0m\u001b[0mkwargs\u001b[0m\u001b[1;33m)\u001b[0m\u001b[1;33m\u001b[0m\u001b[1;33m\u001b[0m\u001b[0m\n\u001b[0m\u001b[0;32m    221\u001b[0m         \u001b[1;32melif\u001b[0m \u001b[0mmode\u001b[0m \u001b[1;33m==\u001b[0m \u001b[1;34m\"r+\"\u001b[0m\u001b[1;33m:\u001b[0m\u001b[1;33m\u001b[0m\u001b[1;33m\u001b[0m\u001b[0m\n\u001b[0;32m    222\u001b[0m             s = get_writer_for_path(path, driver=driver)(\n",
      "\u001b[1;32mrasterio\\_base.pyx\u001b[0m in \u001b[0;36mrasterio._base.DatasetBase.__init__\u001b[1;34m()\u001b[0m\n",
      "\u001b[1;31mRasterioIOError\u001b[0m: Engilchek_glacier_2002-10-05.tif: No such file or directory"
     ]
    }
   ],
   "source": [
    "with rasterio.open('Engilchek_glacier_2002-10-05.tif') as src:\n",
    "    first_band = src.read(1)\n",
    "    img = src.read()\n",
    "# print(img.shape)\n",
    "#LANDSAT8_2020-01-25.tif\n",
    "#LANDSAT7_1999-08-17.tif"
   ]
  },
  {
   "cell_type": "markdown",
   "id": "a5888e8e",
   "metadata": {},
   "source": [
    "Finally, we can view our image with matplotlib's pyplot"
   ]
  },
  {
   "cell_type": "code",
   "execution_count": 100,
   "id": "d80bb7ef",
   "metadata": {},
   "outputs": [
    {
     "name": "stdout",
     "output_type": "stream",
     "text": [
      "(145, 363, 10)\n"
     ]
    },
    {
     "data": {
      "text/plain": [
       "<matplotlib.image.AxesImage at 0x14a5da8e700>"
      ]
     },
     "execution_count": 100,
     "metadata": {},
     "output_type": "execute_result"
    },
    {
     "data": {
      "image/png": "[encoded data removed]",
      "text/plain": [
       "<Figure size 432x288 with 1 Axes>"
      ]
     },
     "metadata": {
      "needs_background": "light"
     },
     "output_type": "display_data"
    }
   ],
   "source": [
    "rolled_img = np.rollaxis(img, 0,3)\n",
    "print(rolled_img.shape)\n",
    "plt.imshow(rolled_img[:,:,0:3])"
   ]
  },
  {
   "cell_type": "code",
   "execution_count": 101,
   "id": "76b07ca9",
   "metadata": {},
   "outputs": [],
   "source": [
    "s_imgs = []\n",
    "for i in range(len(dates)):\n",
    "    with rasterio.open('Engilchek_Glacier_2001-10-02.tif') as src:\n",
    "        first_band = src.read(1)\n",
    "        img = src.read()\n",
    "        s_imgs.append(img)\n",
    "s_imgs = np.array(s_imgs)\n",
    "# print(img.shape)\n",
    "#LANDSAT8_2020-01-25.tif\n",
    "#LANDSAT7_1999-08-17.tif"
   ]
  },
  {
   "cell_type": "code",
   "execution_count": 87,
   "id": "5a31d23e",
   "metadata": {},
   "outputs": [
    {
     "data": {
      "text/plain": [
       "numpy.ndarray"
      ]
     },
     "execution_count": 87,
     "metadata": {},
     "output_type": "execute_result"
    }
   ],
   "source": []
  },
  {
   "cell_type": "code",
   "execution_count": 46,
   "id": "8ce1be04",
   "metadata": {},
   "outputs": [],
   "source": [
    "# band 1,2,3 clips the data, and 5 as well it seems"
   ]
  },
  {
   "cell_type": "code",
   "execution_count": 47,
   "id": "0ffedf6b",
   "metadata": {},
   "outputs": [],
   "source": [
    "### Do some research and apply different bands"
   ]
  },
  {
   "cell_type": "code",
   "execution_count": 48,
   "id": "5524579e",
   "metadata": {},
   "outputs": [],
   "source": [
    "### Perhaps it would be better to expand this image even more to see features."
   ]
  },
  {
   "cell_type": "code",
   "execution_count": 49,
   "id": "37fac7bd",
   "metadata": {},
   "outputs": [],
   "source": [
    "### segementationa dn creating a time series."
   ]
  },
  {
   "cell_type": "code",
   "execution_count": 50,
   "id": "19d3dc8c",
   "metadata": {},
   "outputs": [],
   "source": [
    "### Make some form of analyses on the features, maybe used feature classification."
   ]
  },
  {
   "cell_type": "code",
   "execution_count": 51,
   "id": "ba827409",
   "metadata": {},
   "outputs": [],
   "source": [
    "# TO DO:\n",
    "\n",
    "# A SINGLE DATAFRAME: GLACIER IMAGE, GEOGRAPHICAL REGION, DATES, META DATA, IMAGE ITSELF, LABEL\n",
    "# EMPTY NUMPY ARRAY, NONES, \n",
    "\n",
    "# META DATA, RAW IMAGE, DATES, SAME DIMENSIONS AS RAW IMAGE. "
   ]
  },
  {
   "cell_type": "code",
   "execution_count": 20,
   "id": "6bcfb73e",
   "metadata": {},
   "outputs": [],
   "source": [
    "import pandas as pd"
   ]
  },
  {
   "cell_type": "code",
   "execution_count": 21,
   "id": "13163863",
   "metadata": {},
   "outputs": [],
   "source": [
    "s_imgs_empty = s_imgs.copy()\n",
    "s_imgs_empty.fill(None)\n",
    "# s_imgs_empty = pd.Series(s_imgs_empty)"
   ]
  },
  {
   "cell_type": "code",
   "execution_count": 22,
   "id": "e25c14ba",
   "metadata": {},
   "outputs": [
    {
     "data": {
      "text/plain": [
       "array([[[[nan, nan, nan, ..., nan, nan, nan],\n",
       "         [nan, nan, nan, ..., nan, nan, nan],\n",
       "         [nan, nan, nan, ..., nan, nan, nan],\n",
       "         ...,\n",
       "         [nan, nan, nan, ..., nan, nan, nan],\n",
       "         [nan, nan, nan, ..., nan, nan, nan],\n",
       "         [nan, nan, nan, ..., nan, nan, nan]],\n",
       "\n",
       "        [[nan, nan, nan, ..., nan, nan, nan],\n",
       "         [nan, nan, nan, ..., nan, nan, nan],\n",
       "         [nan, nan, nan, ..., nan, nan, nan],\n",
       "         ...,\n",
       "         [nan, nan, nan, ..., nan, nan, nan],\n",
       "         [nan, nan, nan, ..., nan, nan, nan],\n",
       "         [nan, nan, nan, ..., nan, nan, nan]],\n",
       "\n",
       "        [[nan, nan, nan, ..., nan, nan, nan],\n",
       "         [nan, nan, nan, ..., nan, nan, nan],\n",
       "         [nan, nan, nan, ..., nan, nan, nan],\n",
       "         ...,\n",
       "         [nan, nan, nan, ..., nan, nan, nan],\n",
       "         [nan, nan, nan, ..., nan, nan, nan],\n",
       "         [nan, nan, nan, ..., nan, nan, nan]],\n",
       "\n",
       "        ...,\n",
       "\n",
       "        [[nan, nan, nan, ..., nan, nan, nan],\n",
       "         [nan, nan, nan, ..., nan, nan, nan],\n",
       "         [nan, nan, nan, ..., nan, nan, nan],\n",
       "         ...,\n",
       "         [nan, nan, nan, ..., nan, nan, nan],\n",
       "         [nan, nan, nan, ..., nan, nan, nan],\n",
       "         [nan, nan, nan, ..., nan, nan, nan]],\n",
       "\n",
       "        [[nan, nan, nan, ..., nan, nan, nan],\n",
       "         [nan, nan, nan, ..., nan, nan, nan],\n",
       "         [nan, nan, nan, ..., nan, nan, nan],\n",
       "         ...,\n",
       "         [nan, nan, nan, ..., nan, nan, nan],\n",
       "         [nan, nan, nan, ..., nan, nan, nan],\n",
       "         [nan, nan, nan, ..., nan, nan, nan]],\n",
       "\n",
       "        [[nan, nan, nan, ..., nan, nan, nan],\n",
       "         [nan, nan, nan, ..., nan, nan, nan],\n",
       "         [nan, nan, nan, ..., nan, nan, nan],\n",
       "         ...,\n",
       "         [nan, nan, nan, ..., nan, nan, nan],\n",
       "         [nan, nan, nan, ..., nan, nan, nan],\n",
       "         [nan, nan, nan, ..., nan, nan, nan]]],\n",
       "\n",
       "\n",
       "       [[[nan, nan, nan, ..., nan, nan, nan],\n",
       "         [nan, nan, nan, ..., nan, nan, nan],\n",
       "         [nan, nan, nan, ..., nan, nan, nan],\n",
       "         ...,\n",
       "         [nan, nan, nan, ..., nan, nan, nan],\n",
       "         [nan, nan, nan, ..., nan, nan, nan],\n",
       "         [nan, nan, nan, ..., nan, nan, nan]],\n",
       "\n",
       "        [[nan, nan, nan, ..., nan, nan, nan],\n",
       "         [nan, nan, nan, ..., nan, nan, nan],\n",
       "         [nan, nan, nan, ..., nan, nan, nan],\n",
       "         ...,\n",
       "         [nan, nan, nan, ..., nan, nan, nan],\n",
       "         [nan, nan, nan, ..., nan, nan, nan],\n",
       "         [nan, nan, nan, ..., nan, nan, nan]],\n",
       "\n",
       "        [[nan, nan, nan, ..., nan, nan, nan],\n",
       "         [nan, nan, nan, ..., nan, nan, nan],\n",
       "         [nan, nan, nan, ..., nan, nan, nan],\n",
       "         ...,\n",
       "         [nan, nan, nan, ..., nan, nan, nan],\n",
       "         [nan, nan, nan, ..., nan, nan, nan],\n",
       "         [nan, nan, nan, ..., nan, nan, nan]],\n",
       "\n",
       "        ...,\n",
       "\n",
       "        [[nan, nan, nan, ..., nan, nan, nan],\n",
       "         [nan, nan, nan, ..., nan, nan, nan],\n",
       "         [nan, nan, nan, ..., nan, nan, nan],\n",
       "         ...,\n",
       "         [nan, nan, nan, ..., nan, nan, nan],\n",
       "         [nan, nan, nan, ..., nan, nan, nan],\n",
       "         [nan, nan, nan, ..., nan, nan, nan]],\n",
       "\n",
       "        [[nan, nan, nan, ..., nan, nan, nan],\n",
       "         [nan, nan, nan, ..., nan, nan, nan],\n",
       "         [nan, nan, nan, ..., nan, nan, nan],\n",
       "         ...,\n",
       "         [nan, nan, nan, ..., nan, nan, nan],\n",
       "         [nan, nan, nan, ..., nan, nan, nan],\n",
       "         [nan, nan, nan, ..., nan, nan, nan]],\n",
       "\n",
       "        [[nan, nan, nan, ..., nan, nan, nan],\n",
       "         [nan, nan, nan, ..., nan, nan, nan],\n",
       "         [nan, nan, nan, ..., nan, nan, nan],\n",
       "         ...,\n",
       "         [nan, nan, nan, ..., nan, nan, nan],\n",
       "         [nan, nan, nan, ..., nan, nan, nan],\n",
       "         [nan, nan, nan, ..., nan, nan, nan]]],\n",
       "\n",
       "\n",
       "       [[[nan, nan, nan, ..., nan, nan, nan],\n",
       "         [nan, nan, nan, ..., nan, nan, nan],\n",
       "         [nan, nan, nan, ..., nan, nan, nan],\n",
       "         ...,\n",
       "         [nan, nan, nan, ..., nan, nan, nan],\n",
       "         [nan, nan, nan, ..., nan, nan, nan],\n",
       "         [nan, nan, nan, ..., nan, nan, nan]],\n",
       "\n",
       "        [[nan, nan, nan, ..., nan, nan, nan],\n",
       "         [nan, nan, nan, ..., nan, nan, nan],\n",
       "         [nan, nan, nan, ..., nan, nan, nan],\n",
       "         ...,\n",
       "         [nan, nan, nan, ..., nan, nan, nan],\n",
       "         [nan, nan, nan, ..., nan, nan, nan],\n",
       "         [nan, nan, nan, ..., nan, nan, nan]],\n",
       "\n",
       "        [[nan, nan, nan, ..., nan, nan, nan],\n",
       "         [nan, nan, nan, ..., nan, nan, nan],\n",
       "         [nan, nan, nan, ..., nan, nan, nan],\n",
       "         ...,\n",
       "         [nan, nan, nan, ..., nan, nan, nan],\n",
       "         [nan, nan, nan, ..., nan, nan, nan],\n",
       "         [nan, nan, nan, ..., nan, nan, nan]],\n",
       "\n",
       "        ...,\n",
       "\n",
       "        [[nan, nan, nan, ..., nan, nan, nan],\n",
       "         [nan, nan, nan, ..., nan, nan, nan],\n",
       "         [nan, nan, nan, ..., nan, nan, nan],\n",
       "         ...,\n",
       "         [nan, nan, nan, ..., nan, nan, nan],\n",
       "         [nan, nan, nan, ..., nan, nan, nan],\n",
       "         [nan, nan, nan, ..., nan, nan, nan]],\n",
       "\n",
       "        [[nan, nan, nan, ..., nan, nan, nan],\n",
       "         [nan, nan, nan, ..., nan, nan, nan],\n",
       "         [nan, nan, nan, ..., nan, nan, nan],\n",
       "         ...,\n",
       "         [nan, nan, nan, ..., nan, nan, nan],\n",
       "         [nan, nan, nan, ..., nan, nan, nan],\n",
       "         [nan, nan, nan, ..., nan, nan, nan]],\n",
       "\n",
       "        [[nan, nan, nan, ..., nan, nan, nan],\n",
       "         [nan, nan, nan, ..., nan, nan, nan],\n",
       "         [nan, nan, nan, ..., nan, nan, nan],\n",
       "         ...,\n",
       "         [nan, nan, nan, ..., nan, nan, nan],\n",
       "         [nan, nan, nan, ..., nan, nan, nan],\n",
       "         [nan, nan, nan, ..., nan, nan, nan]]],\n",
       "\n",
       "\n",
       "       ...,\n",
       "\n",
       "\n",
       "       [[[nan, nan, nan, ..., nan, nan, nan],\n",
       "         [nan, nan, nan, ..., nan, nan, nan],\n",
       "         [nan, nan, nan, ..., nan, nan, nan],\n",
       "         ...,\n",
       "         [nan, nan, nan, ..., nan, nan, nan],\n",
       "         [nan, nan, nan, ..., nan, nan, nan],\n",
       "         [nan, nan, nan, ..., nan, nan, nan]],\n",
       "\n",
       "        [[nan, nan, nan, ..., nan, nan, nan],\n",
       "         [nan, nan, nan, ..., nan, nan, nan],\n",
       "         [nan, nan, nan, ..., nan, nan, nan],\n",
       "         ...,\n",
       "         [nan, nan, nan, ..., nan, nan, nan],\n",
       "         [nan, nan, nan, ..., nan, nan, nan],\n",
       "         [nan, nan, nan, ..., nan, nan, nan]],\n",
       "\n",
       "        [[nan, nan, nan, ..., nan, nan, nan],\n",
       "         [nan, nan, nan, ..., nan, nan, nan],\n",
       "         [nan, nan, nan, ..., nan, nan, nan],\n",
       "         ...,\n",
       "         [nan, nan, nan, ..., nan, nan, nan],\n",
       "         [nan, nan, nan, ..., nan, nan, nan],\n",
       "         [nan, nan, nan, ..., nan, nan, nan]],\n",
       "\n",
       "        ...,\n",
       "\n",
       "        [[nan, nan, nan, ..., nan, nan, nan],\n",
       "         [nan, nan, nan, ..., nan, nan, nan],\n",
       "         [nan, nan, nan, ..., nan, nan, nan],\n",
       "         ...,\n",
       "         [nan, nan, nan, ..., nan, nan, nan],\n",
       "         [nan, nan, nan, ..., nan, nan, nan],\n",
       "         [nan, nan, nan, ..., nan, nan, nan]],\n",
       "\n",
       "        [[nan, nan, nan, ..., nan, nan, nan],\n",
       "         [nan, nan, nan, ..., nan, nan, nan],\n",
       "         [nan, nan, nan, ..., nan, nan, nan],\n",
       "         ...,\n",
       "         [nan, nan, nan, ..., nan, nan, nan],\n",
       "         [nan, nan, nan, ..., nan, nan, nan],\n",
       "         [nan, nan, nan, ..., nan, nan, nan]],\n",
       "\n",
       "        [[nan, nan, nan, ..., nan, nan, nan],\n",
       "         [nan, nan, nan, ..., nan, nan, nan],\n",
       "         [nan, nan, nan, ..., nan, nan, nan],\n",
       "         ...,\n",
       "         [nan, nan, nan, ..., nan, nan, nan],\n",
       "         [nan, nan, nan, ..., nan, nan, nan],\n",
       "         [nan, nan, nan, ..., nan, nan, nan]]],\n",
       "\n",
       "\n",
       "       [[[nan, nan, nan, ..., nan, nan, nan],\n",
       "         [nan, nan, nan, ..., nan, nan, nan],\n",
       "         [nan, nan, nan, ..., nan, nan, nan],\n",
       "         ...,\n",
       "         [nan, nan, nan, ..., nan, nan, nan],\n",
       "         [nan, nan, nan, ..., nan, nan, nan],\n",
       "         [nan, nan, nan, ..., nan, nan, nan]],\n",
       "\n",
       "        [[nan, nan, nan, ..., nan, nan, nan],\n",
       "         [nan, nan, nan, ..., nan, nan, nan],\n",
       "         [nan, nan, nan, ..., nan, nan, nan],\n",
       "         ...,\n",
       "         [nan, nan, nan, ..., nan, nan, nan],\n",
       "         [nan, nan, nan, ..., nan, nan, nan],\n",
       "         [nan, nan, nan, ..., nan, nan, nan]],\n",
       "\n",
       "        [[nan, nan, nan, ..., nan, nan, nan],\n",
       "         [nan, nan, nan, ..., nan, nan, nan],\n",
       "         [nan, nan, nan, ..., nan, nan, nan],\n",
       "         ...,\n",
       "         [nan, nan, nan, ..., nan, nan, nan],\n",
       "         [nan, nan, nan, ..., nan, nan, nan],\n",
       "         [nan, nan, nan, ..., nan, nan, nan]],\n",
       "\n",
       "        ...,\n",
       "\n",
       "        [[nan, nan, nan, ..., nan, nan, nan],\n",
       "         [nan, nan, nan, ..., nan, nan, nan],\n",
       "         [nan, nan, nan, ..., nan, nan, nan],\n",
       "         ...,\n",
       "         [nan, nan, nan, ..., nan, nan, nan],\n",
       "         [nan, nan, nan, ..., nan, nan, nan],\n",
       "         [nan, nan, nan, ..., nan, nan, nan]],\n",
       "\n",
       "        [[nan, nan, nan, ..., nan, nan, nan],\n",
       "         [nan, nan, nan, ..., nan, nan, nan],\n",
       "         [nan, nan, nan, ..., nan, nan, nan],\n",
       "         ...,\n",
       "         [nan, nan, nan, ..., nan, nan, nan],\n",
       "         [nan, nan, nan, ..., nan, nan, nan],\n",
       "         [nan, nan, nan, ..., nan, nan, nan]],\n",
       "\n",
       "        [[nan, nan, nan, ..., nan, nan, nan],\n",
       "         [nan, nan, nan, ..., nan, nan, nan],\n",
       "         [nan, nan, nan, ..., nan, nan, nan],\n",
       "         ...,\n",
       "         [nan, nan, nan, ..., nan, nan, nan],\n",
       "         [nan, nan, nan, ..., nan, nan, nan],\n",
       "         [nan, nan, nan, ..., nan, nan, nan]]],\n",
       "\n",
       "\n",
       "       [[[nan, nan, nan, ..., nan, nan, nan],\n",
       "         [nan, nan, nan, ..., nan, nan, nan],\n",
       "         [nan, nan, nan, ..., nan, nan, nan],\n",
       "         ...,\n",
       "         [nan, nan, nan, ..., nan, nan, nan],\n",
       "         [nan, nan, nan, ..., nan, nan, nan],\n",
       "         [nan, nan, nan, ..., nan, nan, nan]],\n",
       "\n",
       "        [[nan, nan, nan, ..., nan, nan, nan],\n",
       "         [nan, nan, nan, ..., nan, nan, nan],\n",
       "         [nan, nan, nan, ..., nan, nan, nan],\n",
       "         ...,\n",
       "         [nan, nan, nan, ..., nan, nan, nan],\n",
       "         [nan, nan, nan, ..., nan, nan, nan],\n",
       "         [nan, nan, nan, ..., nan, nan, nan]],\n",
       "\n",
       "        [[nan, nan, nan, ..., nan, nan, nan],\n",
       "         [nan, nan, nan, ..., nan, nan, nan],\n",
       "         [nan, nan, nan, ..., nan, nan, nan],\n",
       "         ...,\n",
       "         [nan, nan, nan, ..., nan, nan, nan],\n",
       "         [nan, nan, nan, ..., nan, nan, nan],\n",
       "         [nan, nan, nan, ..., nan, nan, nan]],\n",
       "\n",
       "        ...,\n",
       "\n",
       "        [[nan, nan, nan, ..., nan, nan, nan],\n",
       "         [nan, nan, nan, ..., nan, nan, nan],\n",
       "         [nan, nan, nan, ..., nan, nan, nan],\n",
       "         ...,\n",
       "         [nan, nan, nan, ..., nan, nan, nan],\n",
       "         [nan, nan, nan, ..., nan, nan, nan],\n",
       "         [nan, nan, nan, ..., nan, nan, nan]],\n",
       "\n",
       "        [[nan, nan, nan, ..., nan, nan, nan],\n",
       "         [nan, nan, nan, ..., nan, nan, nan],\n",
       "         [nan, nan, nan, ..., nan, nan, nan],\n",
       "         ...,\n",
       "         [nan, nan, nan, ..., nan, nan, nan],\n",
       "         [nan, nan, nan, ..., nan, nan, nan],\n",
       "         [nan, nan, nan, ..., nan, nan, nan]],\n",
       "\n",
       "        [[nan, nan, nan, ..., nan, nan, nan],\n",
       "         [nan, nan, nan, ..., nan, nan, nan],\n",
       "         [nan, nan, nan, ..., nan, nan, nan],\n",
       "         ...,\n",
       "         [nan, nan, nan, ..., nan, nan, nan],\n",
       "         [nan, nan, nan, ..., nan, nan, nan],\n",
       "         [nan, nan, nan, ..., nan, nan, nan]]]], dtype=float32)"
      ]
     },
     "execution_count": 22,
     "metadata": {},
     "output_type": "execute_result"
    }
   ],
   "source": [
    "s_imgs_empty"
   ]
  },
  {
   "cell_type": "code",
   "execution_count": null,
   "id": "1548d074",
   "metadata": {},
   "outputs": [],
   "source": [
    "image = np.array(s_imgs[:6]).mean(axis=(0,1))\n",
    "# print(avg_img.shape)\n",
    "\n",
    "image.shape\n",
    "var axes = { image:0, band:1 }\n",
    "var sort = array.arraySlice(axes.band, 0, 1); "
   ]
  },
  {
   "cell_type": "code",
   "execution_count": 24,
   "id": "01313c57",
   "metadata": {},
   "outputs": [
    {
     "ename": "AxisError",
     "evalue": "'start' arg requires -2 <= start < 3, but 3 was passed in",
     "output_type": "error",
     "traceback": [
      "\u001b[1;31m---------------------------------------------------------------------------\u001b[0m",
      "\u001b[1;31mAxisError\u001b[0m                                 Traceback (most recent call last)",
      "\u001b[1;32mC:\\Users\\ADMINI~1\\AppData\\Local\\Temp/ipykernel_14728/2900043918.py\u001b[0m in \u001b[0;36m<module>\u001b[1;34m\u001b[0m\n\u001b[0;32m      4\u001b[0m \u001b[1;31m# img = src.read()\u001b[0m\u001b[1;33m\u001b[0m\u001b[1;33m\u001b[0m\u001b[0m\n\u001b[0;32m      5\u001b[0m \u001b[1;33m\u001b[0m\u001b[0m\n\u001b[1;32m----> 6\u001b[1;33m \u001b[0mrolled_img\u001b[0m \u001b[1;33m=\u001b[0m \u001b[0mnp\u001b[0m\u001b[1;33m.\u001b[0m\u001b[0mrollaxis\u001b[0m\u001b[1;33m(\u001b[0m\u001b[0mavg_img\u001b[0m\u001b[1;33m,\u001b[0m \u001b[1;36m0\u001b[0m\u001b[1;33m,\u001b[0m\u001b[1;36m3\u001b[0m\u001b[1;33m)\u001b[0m\u001b[1;33m\u001b[0m\u001b[1;33m\u001b[0m\u001b[0m\n\u001b[0m\u001b[0;32m      7\u001b[0m \u001b[0mprint\u001b[0m\u001b[1;33m(\u001b[0m\u001b[0mrolled_img\u001b[0m\u001b[1;33m.\u001b[0m\u001b[0mshape\u001b[0m\u001b[1;33m)\u001b[0m\u001b[1;33m\u001b[0m\u001b[1;33m\u001b[0m\u001b[0m\n\u001b[0;32m      8\u001b[0m \u001b[0mplt\u001b[0m\u001b[1;33m.\u001b[0m\u001b[0mimshow\u001b[0m\u001b[1;33m(\u001b[0m\u001b[0mrolled_img\u001b[0m\u001b[1;33m[\u001b[0m\u001b[1;33m:\u001b[0m\u001b[1;33m,\u001b[0m\u001b[1;33m:\u001b[0m\u001b[1;33m,\u001b[0m\u001b[1;36m0\u001b[0m\u001b[1;33m:\u001b[0m\u001b[1;36m3\u001b[0m\u001b[1;33m]\u001b[0m\u001b[1;33m)\u001b[0m\u001b[1;33m\u001b[0m\u001b[1;33m\u001b[0m\u001b[0m\n",
      "\u001b[1;32m<__array_function__ internals>\u001b[0m in \u001b[0;36mrollaxis\u001b[1;34m(*args, **kwargs)\u001b[0m\n",
      "\u001b[1;32mC:\\ProgramData\\Anaconda3\\envs\\ee\\lib\\site-packages\\numpy\\core\\numeric.py\u001b[0m in \u001b[0;36mrollaxis\u001b[1;34m(a, axis, start)\u001b[0m\n\u001b[0;32m   1321\u001b[0m     \u001b[0mmsg\u001b[0m \u001b[1;33m=\u001b[0m \u001b[1;34m\"'%s' arg requires %d <= %s < %d, but %d was passed in\"\u001b[0m\u001b[1;33m\u001b[0m\u001b[1;33m\u001b[0m\u001b[0m\n\u001b[0;32m   1322\u001b[0m     \u001b[1;32mif\u001b[0m \u001b[1;32mnot\u001b[0m \u001b[1;33m(\u001b[0m\u001b[1;36m0\u001b[0m \u001b[1;33m<=\u001b[0m \u001b[0mstart\u001b[0m \u001b[1;33m<\u001b[0m \u001b[0mn\u001b[0m \u001b[1;33m+\u001b[0m \u001b[1;36m1\u001b[0m\u001b[1;33m)\u001b[0m\u001b[1;33m:\u001b[0m\u001b[1;33m\u001b[0m\u001b[1;33m\u001b[0m\u001b[0m\n\u001b[1;32m-> 1323\u001b[1;33m         \u001b[1;32mraise\u001b[0m \u001b[0mAxisError\u001b[0m\u001b[1;33m(\u001b[0m\u001b[0mmsg\u001b[0m \u001b[1;33m%\u001b[0m \u001b[1;33m(\u001b[0m\u001b[1;34m'start'\u001b[0m\u001b[1;33m,\u001b[0m \u001b[1;33m-\u001b[0m\u001b[0mn\u001b[0m\u001b[1;33m,\u001b[0m \u001b[1;34m'start'\u001b[0m\u001b[1;33m,\u001b[0m \u001b[0mn\u001b[0m \u001b[1;33m+\u001b[0m \u001b[1;36m1\u001b[0m\u001b[1;33m,\u001b[0m \u001b[0mstart\u001b[0m\u001b[1;33m)\u001b[0m\u001b[1;33m)\u001b[0m\u001b[1;33m\u001b[0m\u001b[1;33m\u001b[0m\u001b[0m\n\u001b[0m\u001b[0;32m   1324\u001b[0m     \u001b[1;32mif\u001b[0m \u001b[0maxis\u001b[0m \u001b[1;33m<\u001b[0m \u001b[0mstart\u001b[0m\u001b[1;33m:\u001b[0m\u001b[1;33m\u001b[0m\u001b[1;33m\u001b[0m\u001b[0m\n\u001b[0;32m   1325\u001b[0m         \u001b[1;31m# it's been removed\u001b[0m\u001b[1;33m\u001b[0m\u001b[1;33m\u001b[0m\u001b[0m\n",
      "\u001b[1;31mAxisError\u001b[0m: 'start' arg requires -2 <= start < 3, but 3 was passed in"
     ]
    }
   ],
   "source": [
    "# for i in range(len(dates)):\n",
    "#     with rasterio.open('Engilchek_Glacier_2001-10-02.tif') as src:\n",
    "#         first_band = src.read(1)\n",
    "# img = src.read()\n",
    "\n",
    "# rolled_img = np.rollaxis(avg_img, 0,3)\n",
    "# print(rolled_img.shape)\n",
    "# plt.imshow(rolled_img[:,:,0:3])"
   ]
  },
  {
   "cell_type": "code",
   "execution_count": null,
   "id": "64f08571",
   "metadata": {},
   "outputs": [],
   "source": []
  },
  {
   "cell_type": "code",
   "execution_count": 112,
   "id": "69c6ae62",
   "metadata": {},
   "outputs": [],
   "source": [
    "#Series version\n",
    "# list_a = []\n",
    "s_pixels = pd.Series(list(s_imgs), name = 'image_data')\n",
    "s_pixels_empty = pd.Series(list(s_imgs_empty), name = 'image_empty')\n",
    "s_dates = pd.Series(dates, name = 'dates')\n",
    "# list(img.shape) # for one instance\n",
    "s_bbox = pd.Series([bbox]*len(dates), name = 'bbox')\n",
    "s_image_names = pd.Series(image_names, name = 'image _names')\n",
    "\n",
    "# s_pixels"
   ]
  },
  {
   "cell_type": "code",
   "execution_count": 114,
   "id": "f429f502",
   "metadata": {},
   "outputs": [
    {
     "data": {
      "text/plain": [
       "['2000-08-12',\n",
       " '2000-09-13',\n",
       " '2001-10-02',\n",
       " '2002-07-17',\n",
       " '2002-08-18',\n",
       " '2002-10-05',\n",
       " '1999-07-16',\n",
       " '1999-08-17',\n",
       " '1999-12-07',\n",
       " '2001-08-22',\n",
       " '2002-06-22',\n",
       " '2002-07-24',\n",
       " '2002-08-25',\n",
       " '1999-07-16',\n",
       " '1999-08-17',\n",
       " '1999-12-07',\n",
       " '2001-08-22',\n",
       " '2001-09-07',\n",
       " '2002-06-22',\n",
       " '2002-07-24',\n",
       " '2002-08-25']"
      ]
     },
     "execution_count": 114,
     "metadata": {},
     "output_type": "execute_result"
    }
   ],
   "source": [
    "dates"
   ]
  },
  {
   "cell_type": "code",
   "execution_count": 56,
   "id": "d5c5070e",
   "metadata": {},
   "outputs": [
    {
     "data": {
      "text/plain": [
       "()"
      ]
     },
     "execution_count": 56,
     "metadata": {},
     "output_type": "execute_result"
    }
   ],
   "source": [
    "# image = np.array(s_imgs[:6]).mean()\n",
    "# # print(avg_img.shape)\n",
    "\n",
    "# image.shape\n",
    "# # var axes = { image:0, band:1 }\n",
    "# # var sort = array.arraySlice(axes.band, 0, 1); "
   ]
  },
  {
   "cell_type": "code",
   "execution_count": 59,
   "id": "d9d049af",
   "metadata": {},
   "outputs": [
    {
     "ename": "NameError",
     "evalue": "name 'band' is not defined",
     "output_type": "error",
     "traceback": [
      "\u001b[1;31m---------------------------------------------------------------------------\u001b[0m",
      "\u001b[1;31mNameError\u001b[0m                                 Traceback (most recent call last)",
      "\u001b[1;32mC:\\Users\\ADMINI~1\\AppData\\Local\\Temp/ipykernel_14728/3143448496.py\u001b[0m in \u001b[0;36m<module>\u001b[1;34m\u001b[0m\n\u001b[0;32m      2\u001b[0m \u001b[1;31m# mean_lan7.shape\u001b[0m\u001b[1;33m\u001b[0m\u001b[1;33m\u001b[0m\u001b[0m\n\u001b[0;32m      3\u001b[0m \u001b[1;33m\u001b[0m\u001b[0m\n\u001b[1;32m----> 4\u001b[1;33m \u001b[0maxes\u001b[0m \u001b[1;33m=\u001b[0m \u001b[1;33m{\u001b[0m \u001b[0mimage\u001b[0m\u001b[1;33m:\u001b[0m\u001b[1;36m0\u001b[0m\u001b[1;33m,\u001b[0m \u001b[0mband\u001b[0m\u001b[1;33m:\u001b[0m\u001b[1;36m1\u001b[0m \u001b[1;33m}\u001b[0m\u001b[1;33m\u001b[0m\u001b[1;33m\u001b[0m\u001b[0m\n\u001b[0m\u001b[0;32m      5\u001b[0m \u001b[0msort\u001b[0m \u001b[1;33m=\u001b[0m \u001b[0marray\u001b[0m\u001b[1;33m.\u001b[0m\u001b[0marraySlice\u001b[0m\u001b[1;33m(\u001b[0m\u001b[0maxes\u001b[0m\u001b[1;33m.\u001b[0m\u001b[0mband\u001b[0m\u001b[1;33m,\u001b[0m \u001b[1;36m0\u001b[0m\u001b[1;33m,\u001b[0m \u001b[1;36m1\u001b[0m\u001b[1;33m)\u001b[0m\u001b[1;33m;\u001b[0m\u001b[1;33m\u001b[0m\u001b[1;33m\u001b[0m\u001b[0m\n",
      "\u001b[1;31mNameError\u001b[0m: name 'band' is not defined"
     ]
    }
   ],
   "source": [
    "image = np.mean(s_pixels[:6])\n",
    "# mean_lan7.shape\n",
    "\n",
    "axes = { image:0, band:1 }\n",
    "sort = array.arraySlice(axes.band, 0, 1); "
   ]
  },
  {
   "cell_type": "code",
   "execution_count": 42,
   "id": "04c282a0",
   "metadata": {},
   "outputs": [
    {
     "ename": "EEException",
     "evalue": "Unrecognized argument type to convert to an Image: [[[ 3.4318474e-01  2.9881302e-01  3.0435947e-01 ...  1.7956407e-01\n    1.6292469e-01  1.0191359e-01]\n  [ 3.8755643e-01  4.7907308e-01  3.2654533e-01 ...  1.7401761e-01\n    1.8511055e-01  1.7679085e-01]\n  [ 3.7646350e-01  4.4856748e-01  4.2083523e-01 ...  1.5183176e-01\n    1.7124438e-01  1.8788375e-01]\n  ...\n  [ 5.9554881e-01  5.6504321e-01  6.0109526e-01 ...  3.0158624e-01\n    2.7662718e-01  2.7662718e-01]\n  [ 3.9310288e-01  3.9310288e-01  5.9277552e-01 ...  2.5444129e-01\n    3.0990598e-01  2.3780192e-01]\n  [ 3.8200995e-01  4.4024780e-01  4.2360839e-01 ...  2.4889486e-01\n    2.9603979e-01  2.7662718e-01]]\n\n [[ 3.3264372e-01  2.8588474e-01  2.9835379e-01 ...  1.2690426e-01\n    1.1755250e-01  6.4559005e-02]\n  [ 3.7316814e-01  4.6356878e-01  3.1082284e-01 ...  1.1443522e-01\n    1.2690426e-01  1.2690426e-01]\n  [ 3.6381635e-01  4.4798246e-01  4.2927888e-01 ...  9.5731646e-02\n    1.1755250e-01  1.3313879e-01]\n  ...\n  [ 5.8514208e-01  5.5708671e-01  5.9137660e-01 ...  2.5159481e-01\n    2.2977400e-01  2.3289128e-01]\n  [ 3.6069909e-01  3.6693361e-01  5.8202481e-01 ...  2.0795314e-01\n    2.6094663e-01  1.8613230e-01]\n  [ 3.4511277e-01  4.0745804e-01  3.9498898e-01 ...  2.0171861e-01\n    2.4224305e-01  2.2042222e-01]]\n\n [[ 3.4194627e-01  2.9761255e-01  3.0352375e-01 ...  9.6633054e-02\n    9.0721898e-02  4.9343765e-02]\n  [ 3.8332438e-01  4.8085856e-01  3.2125720e-01 ...  8.4810734e-02\n    9.9588640e-02  1.0254421e-01]\n  [ 3.7741324e-01  4.6903625e-01  4.5721391e-01 ...  6.7077249e-02\n    8.7766312e-02  1.0845538e-01]\n  ...\n  [ 6.0499293e-01  5.7839274e-01  6.1385971e-01 ...  2.3554535e-01\n    2.1190071e-01  2.1485628e-01]\n  [ 3.5376859e-01  3.6559090e-01  6.0203737e-01 ...  1.9121164e-01\n    2.3258977e-01  1.5870024e-01]\n  [ 3.5081300e-01  4.0696904e-01  3.9514673e-01 ...  1.7938931e-01\n    2.1781187e-01  1.9416724e-01]]\n\n ...\n\n [[ 7.7136867e-02  8.4953576e-02  8.1045218e-02 ...  2.8780836e-03\n    2.8780836e-03  6.7864400e-03]\n  [ 5.7595078e-02  4.5870006e-02  6.9320150e-02 ...  2.8780836e-03\n    2.8780836e-03 -1.0302729e-03]\n  [ 6.1503436e-02  8.1045218e-02  9.2770286e-02 ...  2.8780836e-03\n    2.8780836e-03  2.8780836e-03]\n  ...\n  [ 3.8053293e-02  3.4144938e-02  3.8053293e-02 ...  2.8780836e-03\n    2.8780836e-03  2.8780836e-03]\n  [ 2.2419868e-02  2.2419868e-02  4.1961651e-02 ... -1.0302729e-03\n    2.8780836e-03  2.8780836e-03]\n  [ 2.2419868e-02  2.6328223e-02  3.0236581e-02 ...  2.8780836e-03\n    6.7864400e-03 -1.0302729e-03]]\n\n [[ 3.3665752e-01  3.0836174e-01  2.9421386e-01 ...  9.9680424e-02\n    9.2606477e-02  5.0162818e-02]\n  [ 4.0739694e-01  5.0643212e-01  3.4019449e-01 ...  8.9069508e-02\n    9.9680424e-02  9.9680424e-02]\n  [ 3.8617513e-01  4.7106245e-01  4.7459939e-01 ...  6.7847677e-02\n    8.9069508e-02  1.0675436e-01]\n  ...\n  [ 6.0193038e-01  5.5241281e-01  6.1607832e-01 ...  2.3054837e-01\n    1.9871563e-01  2.0932652e-01]\n  [ 3.1897268e-01  3.4019449e-01  5.8778244e-01 ...  1.9517864e-01\n    2.1993746e-01  1.5627195e-01]\n  [ 3.7556422e-01  4.5337757e-01  3.8971210e-01 ...  1.8456773e-01\n    2.0932652e-01  1.9164169e-01]]\n\n [[ 1.6960000e+03  1.6960000e+03  1.6960000e+03 ...  6.7200000e+02\n    6.7200000e+02  6.7200000e+02]\n  [ 1.6960000e+03  1.6960000e+03  1.7280000e+03 ...  6.7200000e+02\n    6.7200000e+02  6.7200000e+02]\n  [ 1.6960000e+03  1.6960000e+03  1.6960000e+03 ...  6.7200000e+02\n    6.7200000e+02  6.7200000e+02]\n  ...\n  [ 1.6960000e+03  1.6960000e+03  1.6960000e+03 ...  1.6960000e+03\n    1.6960000e+03  1.6960000e+03]\n  [ 1.6960000e+03  1.6960000e+03  1.6960000e+03 ...  1.6960000e+03\n    1.6960000e+03  1.6960000e+03]\n  [ 1.6960000e+03  1.6960000e+03  1.6960000e+03 ...  6.7200000e+02\n    1.6960000e+03  1.6960000e+03]]]",
     "output_type": "error",
     "traceback": [
      "\u001b[1;31m---------------------------------------------------------------------------\u001b[0m",
      "\u001b[1;31mEEException\u001b[0m                               Traceback (most recent call last)",
      "\u001b[1;32mC:\\Users\\ADMINI~1\\AppData\\Local\\Temp/ipykernel_14728/483483288.py\u001b[0m in \u001b[0;36m<module>\u001b[1;34m\u001b[0m\n\u001b[1;32m----> 1\u001b[1;33m \u001b[0mee\u001b[0m\u001b[1;33m.\u001b[0m\u001b[0mImage\u001b[0m\u001b[1;33m(\u001b[0m\u001b[0mmean_lan7\u001b[0m\u001b[1;33m)\u001b[0m\u001b[1;33m\u001b[0m\u001b[1;33m\u001b[0m\u001b[0m\n\u001b[0m",
      "\u001b[1;32mC:\\ProgramData\\Anaconda3\\envs\\ee\\lib\\site-packages\\ee\\computedobject.py\u001b[0m in \u001b[0;36m__call__\u001b[1;34m(cls, *args, **kwargs)\u001b[0m\n\u001b[0;32m     30\u001b[0m       \u001b[1;32mreturn\u001b[0m \u001b[0margs\u001b[0m\u001b[1;33m[\u001b[0m\u001b[1;36m0\u001b[0m\u001b[1;33m]\u001b[0m\u001b[1;33m\u001b[0m\u001b[1;33m\u001b[0m\u001b[0m\n\u001b[0;32m     31\u001b[0m     \u001b[1;32melse\u001b[0m\u001b[1;33m:\u001b[0m\u001b[1;33m\u001b[0m\u001b[1;33m\u001b[0m\u001b[0m\n\u001b[1;32m---> 32\u001b[1;33m       \u001b[1;32mreturn\u001b[0m \u001b[0mtype\u001b[0m\u001b[1;33m.\u001b[0m\u001b[0m__call__\u001b[0m\u001b[1;33m(\u001b[0m\u001b[0mcls\u001b[0m\u001b[1;33m,\u001b[0m \u001b[1;33m*\u001b[0m\u001b[0margs\u001b[0m\u001b[1;33m,\u001b[0m \u001b[1;33m**\u001b[0m\u001b[0mkwargs\u001b[0m\u001b[1;33m)\u001b[0m\u001b[1;33m\u001b[0m\u001b[1;33m\u001b[0m\u001b[0m\n\u001b[0m\u001b[0;32m     33\u001b[0m \u001b[1;33m\u001b[0m\u001b[0m\n\u001b[0;32m     34\u001b[0m \u001b[1;33m\u001b[0m\u001b[0m\n",
      "\u001b[1;32mC:\\ProgramData\\Anaconda3\\envs\\ee\\lib\\site-packages\\ee\\image.py\u001b[0m in \u001b[0;36m__init__\u001b[1;34m(self, args, version)\u001b[0m\n\u001b[0;32m     91\u001b[0m           {'image': Image(0), 'mask': Image(0)})\n\u001b[0;32m     92\u001b[0m     \u001b[1;32melse\u001b[0m\u001b[1;33m:\u001b[0m\u001b[1;33m\u001b[0m\u001b[1;33m\u001b[0m\u001b[0m\n\u001b[1;32m---> 93\u001b[1;33m       raise ee_exception.EEException(\n\u001b[0m\u001b[0;32m     94\u001b[0m           'Unrecognized argument type to convert to an Image: %s' % args)\n\u001b[0;32m     95\u001b[0m \u001b[1;33m\u001b[0m\u001b[0m\n",
      "\u001b[1;31mEEException\u001b[0m: Unrecognized argument type to convert to an Image: [[[ 3.4318474e-01  2.9881302e-01  3.0435947e-01 ...  1.7956407e-01\n    1.6292469e-01  1.0191359e-01]\n  [ 3.8755643e-01  4.7907308e-01  3.2654533e-01 ...  1.7401761e-01\n    1.8511055e-01  1.7679085e-01]\n  [ 3.7646350e-01  4.4856748e-01  4.2083523e-01 ...  1.5183176e-01\n    1.7124438e-01  1.8788375e-01]\n  ...\n  [ 5.9554881e-01  5.6504321e-01  6.0109526e-01 ...  3.0158624e-01\n    2.7662718e-01  2.7662718e-01]\n  [ 3.9310288e-01  3.9310288e-01  5.9277552e-01 ...  2.5444129e-01\n    3.0990598e-01  2.3780192e-01]\n  [ 3.8200995e-01  4.4024780e-01  4.2360839e-01 ...  2.4889486e-01\n    2.9603979e-01  2.7662718e-01]]\n\n [[ 3.3264372e-01  2.8588474e-01  2.9835379e-01 ...  1.2690426e-01\n    1.1755250e-01  6.4559005e-02]\n  [ 3.7316814e-01  4.6356878e-01  3.1082284e-01 ...  1.1443522e-01\n    1.2690426e-01  1.2690426e-01]\n  [ 3.6381635e-01  4.4798246e-01  4.2927888e-01 ...  9.5731646e-02\n    1.1755250e-01  1.3313879e-01]\n  ...\n  [ 5.8514208e-01  5.5708671e-01  5.9137660e-01 ...  2.5159481e-01\n    2.2977400e-01  2.3289128e-01]\n  [ 3.6069909e-01  3.6693361e-01  5.8202481e-01 ...  2.0795314e-01\n    2.6094663e-01  1.8613230e-01]\n  [ 3.4511277e-01  4.0745804e-01  3.9498898e-01 ...  2.0171861e-01\n    2.4224305e-01  2.2042222e-01]]\n\n [[ 3.4194627e-01  2.9761255e-01  3.0352375e-01 ...  9.6633054e-02\n    9.0721898e-02  4.9343765e-02]\n  [ 3.8332438e-01  4.8085856e-01  3.2125720e-01 ...  8.4810734e-02\n    9.9588640e-02  1.0254421e-01]\n  [ 3.7741324e-01  4.6903625e-01  4.5721391e-01 ...  6.7077249e-02\n    8.7766312e-02  1.0845538e-01]\n  ...\n  [ 6.0499293e-01  5.7839274e-01  6.1385971e-01 ...  2.3554535e-01\n    2.1190071e-01  2.1485628e-01]\n  [ 3.5376859e-01  3.6559090e-01  6.0203737e-01 ...  1.9121164e-01\n    2.3258977e-01  1.5870024e-01]\n  [ 3.5081300e-01  4.0696904e-01  3.9514673e-01 ...  1.7938931e-01\n    2.1781187e-01  1.9416724e-01]]\n\n ...\n\n [[ 7.7136867e-02  8.4953576e-02  8.1045218e-02 ...  2.8780836e-03\n    2.8780836e-03  6.7864400e-03]\n  [ 5.7595078e-02  4.5870006e-02  6.9320150e-02 ...  2.8780836e-03\n    2.8780836e-03 -1.0302729e-03]\n  [ 6.1503436e-02  8.1045218e-02  9.2770286e-02 ...  2.8780836e-03\n    2.8780836e-03  2.8780836e-03]\n  ...\n  [ 3.8053293e-02  3.4144938e-02  3.8053293e-02 ...  2.8780836e-03\n    2.8780836e-03  2.8780836e-03]\n  [ 2.2419868e-02  2.2419868e-02  4.1961651e-02 ... -1.0302729e-03\n    2.8780836e-03  2.8780836e-03]\n  [ 2.2419868e-02  2.6328223e-02  3.0236581e-02 ...  2.8780836e-03\n    6.7864400e-03 -1.0302729e-03]]\n\n [[ 3.3665752e-01  3.0836174e-01  2.9421386e-01 ...  9.9680424e-02\n    9.2606477e-02  5.0162818e-02]\n  [ 4.0739694e-01  5.0643212e-01  3.4019449e-01 ...  8.9069508e-02\n    9.9680424e-02  9.9680424e-02]\n  [ 3.8617513e-01  4.7106245e-01  4.7459939e-01 ...  6.7847677e-02\n    8.9069508e-02  1.0675436e-01]\n  ...\n  [ 6.0193038e-01  5.5241281e-01  6.1607832e-01 ...  2.3054837e-01\n    1.9871563e-01  2.0932652e-01]\n  [ 3.1897268e-01  3.4019449e-01  5.8778244e-01 ...  1.9517864e-01\n    2.1993746e-01  1.5627195e-01]\n  [ 3.7556422e-01  4.5337757e-01  3.8971210e-01 ...  1.8456773e-01\n    2.0932652e-01  1.9164169e-01]]\n\n [[ 1.6960000e+03  1.6960000e+03  1.6960000e+03 ...  6.7200000e+02\n    6.7200000e+02  6.7200000e+02]\n  [ 1.6960000e+03  1.6960000e+03  1.7280000e+03 ...  6.7200000e+02\n    6.7200000e+02  6.7200000e+02]\n  [ 1.6960000e+03  1.6960000e+03  1.6960000e+03 ...  6.7200000e+02\n    6.7200000e+02  6.7200000e+02]\n  ...\n  [ 1.6960000e+03  1.6960000e+03  1.6960000e+03 ...  1.6960000e+03\n    1.6960000e+03  1.6960000e+03]\n  [ 1.6960000e+03  1.6960000e+03  1.6960000e+03 ...  1.6960000e+03\n    1.6960000e+03  1.6960000e+03]\n  [ 1.6960000e+03  1.6960000e+03  1.6960000e+03 ...  6.7200000e+02\n    1.6960000e+03  1.6960000e+03]]]"
     ]
    }
   ],
   "source": [
    "ee.Image(mean_lan7)"
   ]
  },
  {
   "cell_type": "code",
   "execution_count": 33,
   "id": "0544a927",
   "metadata": {},
   "outputs": [
    {
     "data": {
      "text/plain": [
       "<ee.imagecollection.ImageCollection at 0x14a5aee12e0>"
      ]
     },
     "execution_count": 33,
     "metadata": {},
     "output_type": "execute_result"
    }
   ],
   "source": [
    "# # Load a 5-year Landsat 7 composite 1999-2003.\n",
    "# average_land7 = ee.Image('LANDSAT/LE7_TOA_5YEAR/1999_2003')\n",
    "average_land7 = ee.ImageCollection('LANDSAT/LE07/C01/T1_TOA').filterDate(start_date,end_date).filterBounds(region)# # Compute NDVI.\n",
    "\n",
    "# NDSI_avg = (average_land7.select('B2').subtract(average_land7.select('B5'))\n",
    "#              .divide(average_land7.select('B5').add(average_land7.select('B5'))))\n",
    "\n",
    "average_land7"
   ]
  },
  {
   "cell_type": "code",
   "execution_count": 52,
   "id": "158251eb",
   "metadata": {},
   "outputs": [],
   "source": [
    "main_df = pd.DataFrame([s_image_names, s_dates, s_bbox, s_pixels, s_pixels_empty]).T"
   ]
  },
  {
   "cell_type": "code",
   "execution_count": 53,
   "id": "7187c2b6",
   "metadata": {},
   "outputs": [
    {
     "data": {
      "text/html": [
       "<div>\n",
       "<style scoped>\n",
       "    .dataframe tbody tr th:only-of-type {\n",
       "        vertical-align: middle;\n",
       "    }\n",
       "\n",
       "    .dataframe tbody tr th {\n",
       "        vertical-align: top;\n",
       "    }\n",
       "\n",
       "    .dataframe thead th {\n",
       "        text-align: right;\n",
       "    }\n",
       "</style>\n",
       "<table border=\"1\" class=\"dataframe\">\n",
       "  <thead>\n",
       "    <tr style=\"text-align: right;\">\n",
       "      <th></th>\n",
       "      <th>image _names</th>\n",
       "      <th>dates</th>\n",
       "      <th>bbox</th>\n",
       "      <th>image_data</th>\n",
       "      <th>image_empty</th>\n",
       "    </tr>\n",
       "  </thead>\n",
       "  <tbody>\n",
       "    <tr>\n",
       "      <th>0</th>\n",
       "      <td>Engilchek_Glacier_2000-08-12.tif</td>\n",
       "      <td>2000-08-12</td>\n",
       "      <td>[(79.8096398872554, 42.295437794411406), (79.8...</td>\n",
       "      <td>[[[0.34318474, 0.29881302, 0.3043595, 0.395876...</td>\n",
       "      <td>[[[nan, nan, nan, nan, nan, nan, nan, nan, nan...</td>\n",
       "    </tr>\n",
       "    <tr>\n",
       "      <th>1</th>\n",
       "      <td>Engilchek_Glacier_2000-09-13.tif</td>\n",
       "      <td>2000-09-13</td>\n",
       "      <td>[(79.8096398872554, 42.295437794411406), (79.8...</td>\n",
       "      <td>[[[0.34318474, 0.29881302, 0.3043595, 0.395876...</td>\n",
       "      <td>[[[nan, nan, nan, nan, nan, nan, nan, nan, nan...</td>\n",
       "    </tr>\n",
       "    <tr>\n",
       "      <th>2</th>\n",
       "      <td>Engilchek_Glacier_2001-10-02.tif</td>\n",
       "      <td>2001-10-02</td>\n",
       "      <td>[(79.8096398872554, 42.295437794411406), (79.8...</td>\n",
       "      <td>[[[0.34318474, 0.29881302, 0.3043595, 0.395876...</td>\n",
       "      <td>[[[nan, nan, nan, nan, nan, nan, nan, nan, nan...</td>\n",
       "    </tr>\n",
       "    <tr>\n",
       "      <th>3</th>\n",
       "      <td>Engilchek_Glacier_2002-07-17.tif</td>\n",
       "      <td>2002-07-17</td>\n",
       "      <td>[(79.8096398872554, 42.295437794411406), (79.8...</td>\n",
       "      <td>[[[0.34318474, 0.29881302, 0.3043595, 0.395876...</td>\n",
       "      <td>[[[nan, nan, nan, nan, nan, nan, nan, nan, nan...</td>\n",
       "    </tr>\n",
       "    <tr>\n",
       "      <th>4</th>\n",
       "      <td>Engilchek_Glacier_2002-08-18.tif</td>\n",
       "      <td>2002-08-18</td>\n",
       "      <td>[(79.8096398872554, 42.295437794411406), (79.8...</td>\n",
       "      <td>[[[0.34318474, 0.29881302, 0.3043595, 0.395876...</td>\n",
       "      <td>[[[nan, nan, nan, nan, nan, nan, nan, nan, nan...</td>\n",
       "    </tr>\n",
       "    <tr>\n",
       "      <th>5</th>\n",
       "      <td>Engilchek_Glacier_2002-10-05.tif</td>\n",
       "      <td>2002-10-05</td>\n",
       "      <td>[(79.8096398872554, 42.295437794411406), (79.8...</td>\n",
       "      <td>[[[0.34318474, 0.29881302, 0.3043595, 0.395876...</td>\n",
       "      <td>[[[nan, nan, nan, nan, nan, nan, nan, nan, nan...</td>\n",
       "    </tr>\n",
       "    <tr>\n",
       "      <th>6</th>\n",
       "      <td>Engilchek_Glacier_1999-07-16.tif</td>\n",
       "      <td>1999-07-16</td>\n",
       "      <td>[(79.8096398872554, 42.295437794411406), (79.8...</td>\n",
       "      <td>[[[0.34318474, 0.29881302, 0.3043595, 0.395876...</td>\n",
       "      <td>[[[nan, nan, nan, nan, nan, nan, nan, nan, nan...</td>\n",
       "    </tr>\n",
       "    <tr>\n",
       "      <th>7</th>\n",
       "      <td>Engilchek_Glacier_1999-08-17.tif</td>\n",
       "      <td>1999-08-17</td>\n",
       "      <td>[(79.8096398872554, 42.295437794411406), (79.8...</td>\n",
       "      <td>[[[0.34318474, 0.29881302, 0.3043595, 0.395876...</td>\n",
       "      <td>[[[nan, nan, nan, nan, nan, nan, nan, nan, nan...</td>\n",
       "    </tr>\n",
       "    <tr>\n",
       "      <th>8</th>\n",
       "      <td>Engilchek_Glacier_1999-12-07.tif</td>\n",
       "      <td>1999-12-07</td>\n",
       "      <td>[(79.8096398872554, 42.295437794411406), (79.8...</td>\n",
       "      <td>[[[0.34318474, 0.29881302, 0.3043595, 0.395876...</td>\n",
       "      <td>[[[nan, nan, nan, nan, nan, nan, nan, nan, nan...</td>\n",
       "    </tr>\n",
       "    <tr>\n",
       "      <th>9</th>\n",
       "      <td>Engilchek_Glacier_2001-08-22.tif</td>\n",
       "      <td>2001-08-22</td>\n",
       "      <td>[(79.8096398872554, 42.295437794411406), (79.8...</td>\n",
       "      <td>[[[0.34318474, 0.29881302, 0.3043595, 0.395876...</td>\n",
       "      <td>[[[nan, nan, nan, nan, nan, nan, nan, nan, nan...</td>\n",
       "    </tr>\n",
       "    <tr>\n",
       "      <th>10</th>\n",
       "      <td>Engilchek_Glacier_2002-06-22.tif</td>\n",
       "      <td>2002-06-22</td>\n",
       "      <td>[(79.8096398872554, 42.295437794411406), (79.8...</td>\n",
       "      <td>[[[0.34318474, 0.29881302, 0.3043595, 0.395876...</td>\n",
       "      <td>[[[nan, nan, nan, nan, nan, nan, nan, nan, nan...</td>\n",
       "    </tr>\n",
       "    <tr>\n",
       "      <th>11</th>\n",
       "      <td>Engilchek_Glacier_2002-07-24.tif</td>\n",
       "      <td>2002-07-24</td>\n",
       "      <td>[(79.8096398872554, 42.295437794411406), (79.8...</td>\n",
       "      <td>[[[0.34318474, 0.29881302, 0.3043595, 0.395876...</td>\n",
       "      <td>[[[nan, nan, nan, nan, nan, nan, nan, nan, nan...</td>\n",
       "    </tr>\n",
       "    <tr>\n",
       "      <th>12</th>\n",
       "      <td>Engilchek_Glacier_2002-08-25.tif</td>\n",
       "      <td>2002-08-25</td>\n",
       "      <td>[(79.8096398872554, 42.295437794411406), (79.8...</td>\n",
       "      <td>[[[0.34318474, 0.29881302, 0.3043595, 0.395876...</td>\n",
       "      <td>[[[nan, nan, nan, nan, nan, nan, nan, nan, nan...</td>\n",
       "    </tr>\n",
       "    <tr>\n",
       "      <th>13</th>\n",
       "      <td>Engilchek_Glacier_1999-07-16.tif</td>\n",
       "      <td>1999-07-16</td>\n",
       "      <td>[(79.8096398872554, 42.295437794411406), (79.8...</td>\n",
       "      <td>[[[0.34318474, 0.29881302, 0.3043595, 0.395876...</td>\n",
       "      <td>[[[nan, nan, nan, nan, nan, nan, nan, nan, nan...</td>\n",
       "    </tr>\n",
       "    <tr>\n",
       "      <th>14</th>\n",
       "      <td>Engilchek_Glacier_1999-08-17.tif</td>\n",
       "      <td>1999-08-17</td>\n",
       "      <td>[(79.8096398872554, 42.295437794411406), (79.8...</td>\n",
       "      <td>[[[0.34318474, 0.29881302, 0.3043595, 0.395876...</td>\n",
       "      <td>[[[nan, nan, nan, nan, nan, nan, nan, nan, nan...</td>\n",
       "    </tr>\n",
       "    <tr>\n",
       "      <th>15</th>\n",
       "      <td>Engilchek_Glacier_1999-12-07.tif</td>\n",
       "      <td>1999-12-07</td>\n",
       "      <td>[(79.8096398872554, 42.295437794411406), (79.8...</td>\n",
       "      <td>[[[0.34318474, 0.29881302, 0.3043595, 0.395876...</td>\n",
       "      <td>[[[nan, nan, nan, nan, nan, nan, nan, nan, nan...</td>\n",
       "    </tr>\n",
       "    <tr>\n",
       "      <th>16</th>\n",
       "      <td>Engilchek_Glacier_2001-08-22.tif</td>\n",
       "      <td>2001-08-22</td>\n",
       "      <td>[(79.8096398872554, 42.295437794411406), (79.8...</td>\n",
       "      <td>[[[0.34318474, 0.29881302, 0.3043595, 0.395876...</td>\n",
       "      <td>[[[nan, nan, nan, nan, nan, nan, nan, nan, nan...</td>\n",
       "    </tr>\n",
       "    <tr>\n",
       "      <th>17</th>\n",
       "      <td>Engilchek_Glacier_2001-09-07.tif</td>\n",
       "      <td>2001-09-07</td>\n",
       "      <td>[(79.8096398872554, 42.295437794411406), (79.8...</td>\n",
       "      <td>[[[0.34318474, 0.29881302, 0.3043595, 0.395876...</td>\n",
       "      <td>[[[nan, nan, nan, nan, nan, nan, nan, nan, nan...</td>\n",
       "    </tr>\n",
       "    <tr>\n",
       "      <th>18</th>\n",
       "      <td>Engilchek_Glacier_2002-06-22.tif</td>\n",
       "      <td>2002-06-22</td>\n",
       "      <td>[(79.8096398872554, 42.295437794411406), (79.8...</td>\n",
       "      <td>[[[0.34318474, 0.29881302, 0.3043595, 0.395876...</td>\n",
       "      <td>[[[nan, nan, nan, nan, nan, nan, nan, nan, nan...</td>\n",
       "    </tr>\n",
       "    <tr>\n",
       "      <th>19</th>\n",
       "      <td>Engilchek_Glacier_2002-07-24.tif</td>\n",
       "      <td>2002-07-24</td>\n",
       "      <td>[(79.8096398872554, 42.295437794411406), (79.8...</td>\n",
       "      <td>[[[0.34318474, 0.29881302, 0.3043595, 0.395876...</td>\n",
       "      <td>[[[nan, nan, nan, nan, nan, nan, nan, nan, nan...</td>\n",
       "    </tr>\n",
       "    <tr>\n",
       "      <th>20</th>\n",
       "      <td>Engilchek_Glacier_2002-08-25.tif</td>\n",
       "      <td>2002-08-25</td>\n",
       "      <td>[(79.8096398872554, 42.295437794411406), (79.8...</td>\n",
       "      <td>[[[0.34318474, 0.29881302, 0.3043595, 0.395876...</td>\n",
       "      <td>[[[nan, nan, nan, nan, nan, nan, nan, nan, nan...</td>\n",
       "    </tr>\n",
       "  </tbody>\n",
       "</table>\n",
       "</div>"
      ],
      "text/plain": [
       "                        image _names       dates  \\\n",
       "0   Engilchek_Glacier_2000-08-12.tif  2000-08-12   \n",
       "1   Engilchek_Glacier_2000-09-13.tif  2000-09-13   \n",
       "2   Engilchek_Glacier_2001-10-02.tif  2001-10-02   \n",
       "3   Engilchek_Glacier_2002-07-17.tif  2002-07-17   \n",
       "4   Engilchek_Glacier_2002-08-18.tif  2002-08-18   \n",
       "5   Engilchek_Glacier_2002-10-05.tif  2002-10-05   \n",
       "6   Engilchek_Glacier_1999-07-16.tif  1999-07-16   \n",
       "7   Engilchek_Glacier_1999-08-17.tif  1999-08-17   \n",
       "8   Engilchek_Glacier_1999-12-07.tif  1999-12-07   \n",
       "9   Engilchek_Glacier_2001-08-22.tif  2001-08-22   \n",
       "10  Engilchek_Glacier_2002-06-22.tif  2002-06-22   \n",
       "11  Engilchek_Glacier_2002-07-24.tif  2002-07-24   \n",
       "12  Engilchek_Glacier_2002-08-25.tif  2002-08-25   \n",
       "13  Engilchek_Glacier_1999-07-16.tif  1999-07-16   \n",
       "14  Engilchek_Glacier_1999-08-17.tif  1999-08-17   \n",
       "15  Engilchek_Glacier_1999-12-07.tif  1999-12-07   \n",
       "16  Engilchek_Glacier_2001-08-22.tif  2001-08-22   \n",
       "17  Engilchek_Glacier_2001-09-07.tif  2001-09-07   \n",
       "18  Engilchek_Glacier_2002-06-22.tif  2002-06-22   \n",
       "19  Engilchek_Glacier_2002-07-24.tif  2002-07-24   \n",
       "20  Engilchek_Glacier_2002-08-25.tif  2002-08-25   \n",
       "\n",
       "                                                 bbox  \\\n",
       "0   [(79.8096398872554, 42.295437794411406), (79.8...   \n",
       "1   [(79.8096398872554, 42.295437794411406), (79.8...   \n",
       "2   [(79.8096398872554, 42.295437794411406), (79.8...   \n",
       "3   [(79.8096398872554, 42.295437794411406), (79.8...   \n",
       "4   [(79.8096398872554, 42.295437794411406), (79.8...   \n",
       "5   [(79.8096398872554, 42.295437794411406), (79.8...   \n",
       "6   [(79.8096398872554, 42.295437794411406), (79.8...   \n",
       "7   [(79.8096398872554, 42.295437794411406), (79.8...   \n",
       "8   [(79.8096398872554, 42.295437794411406), (79.8...   \n",
       "9   [(79.8096398872554, 42.295437794411406), (79.8...   \n",
       "10  [(79.8096398872554, 42.295437794411406), (79.8...   \n",
       "11  [(79.8096398872554, 42.295437794411406), (79.8...   \n",
       "12  [(79.8096398872554, 42.295437794411406), (79.8...   \n",
       "13  [(79.8096398872554, 42.295437794411406), (79.8...   \n",
       "14  [(79.8096398872554, 42.295437794411406), (79.8...   \n",
       "15  [(79.8096398872554, 42.295437794411406), (79.8...   \n",
       "16  [(79.8096398872554, 42.295437794411406), (79.8...   \n",
       "17  [(79.8096398872554, 42.295437794411406), (79.8...   \n",
       "18  [(79.8096398872554, 42.295437794411406), (79.8...   \n",
       "19  [(79.8096398872554, 42.295437794411406), (79.8...   \n",
       "20  [(79.8096398872554, 42.295437794411406), (79.8...   \n",
       "\n",
       "                                           image_data  \\\n",
       "0   [[[0.34318474, 0.29881302, 0.3043595, 0.395876...   \n",
       "1   [[[0.34318474, 0.29881302, 0.3043595, 0.395876...   \n",
       "2   [[[0.34318474, 0.29881302, 0.3043595, 0.395876...   \n",
       "3   [[[0.34318474, 0.29881302, 0.3043595, 0.395876...   \n",
       "4   [[[0.34318474, 0.29881302, 0.3043595, 0.395876...   \n",
       "5   [[[0.34318474, 0.29881302, 0.3043595, 0.395876...   \n",
       "6   [[[0.34318474, 0.29881302, 0.3043595, 0.395876...   \n",
       "7   [[[0.34318474, 0.29881302, 0.3043595, 0.395876...   \n",
       "8   [[[0.34318474, 0.29881302, 0.3043595, 0.395876...   \n",
       "9   [[[0.34318474, 0.29881302, 0.3043595, 0.395876...   \n",
       "10  [[[0.34318474, 0.29881302, 0.3043595, 0.395876...   \n",
       "11  [[[0.34318474, 0.29881302, 0.3043595, 0.395876...   \n",
       "12  [[[0.34318474, 0.29881302, 0.3043595, 0.395876...   \n",
       "13  [[[0.34318474, 0.29881302, 0.3043595, 0.395876...   \n",
       "14  [[[0.34318474, 0.29881302, 0.3043595, 0.395876...   \n",
       "15  [[[0.34318474, 0.29881302, 0.3043595, 0.395876...   \n",
       "16  [[[0.34318474, 0.29881302, 0.3043595, 0.395876...   \n",
       "17  [[[0.34318474, 0.29881302, 0.3043595, 0.395876...   \n",
       "18  [[[0.34318474, 0.29881302, 0.3043595, 0.395876...   \n",
       "19  [[[0.34318474, 0.29881302, 0.3043595, 0.395876...   \n",
       "20  [[[0.34318474, 0.29881302, 0.3043595, 0.395876...   \n",
       "\n",
       "                                          image_empty  \n",
       "0   [[[nan, nan, nan, nan, nan, nan, nan, nan, nan...  \n",
       "1   [[[nan, nan, nan, nan, nan, nan, nan, nan, nan...  \n",
       "2   [[[nan, nan, nan, nan, nan, nan, nan, nan, nan...  \n",
       "3   [[[nan, nan, nan, nan, nan, nan, nan, nan, nan...  \n",
       "4   [[[nan, nan, nan, nan, nan, nan, nan, nan, nan...  \n",
       "5   [[[nan, nan, nan, nan, nan, nan, nan, nan, nan...  \n",
       "6   [[[nan, nan, nan, nan, nan, nan, nan, nan, nan...  \n",
       "7   [[[nan, nan, nan, nan, nan, nan, nan, nan, nan...  \n",
       "8   [[[nan, nan, nan, nan, nan, nan, nan, nan, nan...  \n",
       "9   [[[nan, nan, nan, nan, nan, nan, nan, nan, nan...  \n",
       "10  [[[nan, nan, nan, nan, nan, nan, nan, nan, nan...  \n",
       "11  [[[nan, nan, nan, nan, nan, nan, nan, nan, nan...  \n",
       "12  [[[nan, nan, nan, nan, nan, nan, nan, nan, nan...  \n",
       "13  [[[nan, nan, nan, nan, nan, nan, nan, nan, nan...  \n",
       "14  [[[nan, nan, nan, nan, nan, nan, nan, nan, nan...  \n",
       "15  [[[nan, nan, nan, nan, nan, nan, nan, nan, nan...  \n",
       "16  [[[nan, nan, nan, nan, nan, nan, nan, nan, nan...  \n",
       "17  [[[nan, nan, nan, nan, nan, nan, nan, nan, nan...  \n",
       "18  [[[nan, nan, nan, nan, nan, nan, nan, nan, nan...  \n",
       "19  [[[nan, nan, nan, nan, nan, nan, nan, nan, nan...  \n",
       "20  [[[nan, nan, nan, nan, nan, nan, nan, nan, nan...  "
      ]
     },
     "execution_count": 53,
     "metadata": {},
     "output_type": "execute_result"
    }
   ],
   "source": [
    "main_df"
   ]
  },
  {
   "cell_type": "code",
   "execution_count": 57,
   "id": "354fe6d4",
   "metadata": {},
   "outputs": [],
   "source": [
    "df_csv = main_df.copy()\n",
    "df_csv.to_csv('out.csv',)"
   ]
  },
  {
   "cell_type": "code",
   "execution_count": 113,
   "id": "7ebe9794",
   "metadata": {},
   "outputs": [],
   "source": [
    "# citations\n",
    "#// Load a 5-year Landsat 7 composite 1999-2003.\n",
    "# var landsat1999 = ee.Image('LANDSAT/LE7_TOA_5YEAR/1999_2003');\n",
    "\n",
    "# // Compute NDVI.\n",
    "# var ndvi1999 = landsat1999.select('B4').subtract(landsat1999.select('B3'))\n",
    "#   .divide(landsat1999.select('B4').add(landsat1999.select('B3')));"
   ]
  },
  {
   "cell_type": "code",
   "execution_count": 163,
   "id": "0371810d",
   "metadata": {},
   "outputs": [
    {
     "ename": "RasterioIOError",
     "evalue": "E: No such file or directory",
     "output_type": "error",
     "traceback": [
      "\u001b[1;31m---------------------------------------------------------------------------\u001b[0m",
      "\u001b[1;31mCPLE_OpenFailedError\u001b[0m                      Traceback (most recent call last)",
      "\u001b[1;32mrasterio\\_base.pyx\u001b[0m in \u001b[0;36mrasterio._base.DatasetBase.__init__\u001b[1;34m()\u001b[0m\n",
      "\u001b[1;32mrasterio\\_shim.pyx\u001b[0m in \u001b[0;36mrasterio._shim.open_dataset\u001b[1;34m()\u001b[0m\n",
      "\u001b[1;32mrasterio\\_err.pyx\u001b[0m in \u001b[0;36mrasterio._err.exc_wrap_pointer\u001b[1;34m()\u001b[0m\n",
      "\u001b[1;31mCPLE_OpenFailedError\u001b[0m: E: No such file or directory",
      "\nDuring handling of the above exception, another exception occurred:\n",
      "\u001b[1;31mRasterioIOError\u001b[0m                           Traceback (most recent call last)",
      "\u001b[1;32mC:\\Users\\ADMINI~1\\AppData\\Local\\Temp/ipykernel_4396/2709194367.py\u001b[0m in \u001b[0;36m<module>\u001b[1;34m\u001b[0m\n\u001b[0;32m      1\u001b[0m \u001b[1;32mfor\u001b[0m \u001b[0mi\u001b[0m \u001b[1;32min\u001b[0m \u001b[0mlist\u001b[0m\u001b[1;33m(\u001b[0m\u001b[0ms_image_names\u001b[0m\u001b[1;33m)\u001b[0m\u001b[1;33m[\u001b[0m\u001b[1;36m3\u001b[0m\u001b[1;33m]\u001b[0m\u001b[1;33m:\u001b[0m\u001b[1;33m\u001b[0m\u001b[1;33m\u001b[0m\u001b[0m\n\u001b[1;32m----> 2\u001b[1;33m     \u001b[1;32mwith\u001b[0m \u001b[0mrasterio\u001b[0m\u001b[1;33m.\u001b[0m\u001b[0mopen\u001b[0m\u001b[1;33m(\u001b[0m\u001b[0mi\u001b[0m\u001b[1;33m)\u001b[0m \u001b[1;32mas\u001b[0m \u001b[0msrc\u001b[0m\u001b[1;33m:\u001b[0m\u001b[1;33m\u001b[0m\u001b[1;33m\u001b[0m\u001b[0m\n\u001b[0m\u001b[0;32m      3\u001b[0m         \u001b[0mfirst_band\u001b[0m \u001b[1;33m=\u001b[0m \u001b[0msrc\u001b[0m\u001b[1;33m.\u001b[0m\u001b[0mread\u001b[0m\u001b[1;33m(\u001b[0m\u001b[1;36m1\u001b[0m\u001b[1;33m)\u001b[0m\u001b[1;33m\u001b[0m\u001b[1;33m\u001b[0m\u001b[0m\n\u001b[0;32m      4\u001b[0m         \u001b[0mimg\u001b[0m \u001b[1;33m=\u001b[0m \u001b[0msrc\u001b[0m\u001b[1;33m.\u001b[0m\u001b[0mread\u001b[0m\u001b[1;33m(\u001b[0m\u001b[1;33m)\u001b[0m\u001b[1;33m\u001b[0m\u001b[1;33m\u001b[0m\u001b[0m\n\u001b[0;32m      5\u001b[0m \u001b[1;33m\u001b[0m\u001b[0m\n",
      "\u001b[1;32mC:\\ProgramData\\Anaconda3\\envs\\ee\\lib\\site-packages\\rasterio\\env.py\u001b[0m in \u001b[0;36mwrapper\u001b[1;34m(*args, **kwds)\u001b[0m\n\u001b[0;32m    435\u001b[0m \u001b[1;33m\u001b[0m\u001b[0m\n\u001b[0;32m    436\u001b[0m         \u001b[1;32mwith\u001b[0m \u001b[0menv_ctor\u001b[0m\u001b[1;33m(\u001b[0m\u001b[0msession\u001b[0m\u001b[1;33m=\u001b[0m\u001b[0msession\u001b[0m\u001b[1;33m)\u001b[0m\u001b[1;33m:\u001b[0m\u001b[1;33m\u001b[0m\u001b[1;33m\u001b[0m\u001b[0m\n\u001b[1;32m--> 437\u001b[1;33m             \u001b[1;32mreturn\u001b[0m \u001b[0mf\u001b[0m\u001b[1;33m(\u001b[0m\u001b[1;33m*\u001b[0m\u001b[0margs\u001b[0m\u001b[1;33m,\u001b[0m \u001b[1;33m**\u001b[0m\u001b[0mkwds\u001b[0m\u001b[1;33m)\u001b[0m\u001b[1;33m\u001b[0m\u001b[1;33m\u001b[0m\u001b[0m\n\u001b[0m\u001b[0;32m    438\u001b[0m \u001b[1;33m\u001b[0m\u001b[0m\n\u001b[0;32m    439\u001b[0m     \u001b[1;32mreturn\u001b[0m \u001b[0mwrapper\u001b[0m\u001b[1;33m\u001b[0m\u001b[1;33m\u001b[0m\u001b[0m\n",
      "\u001b[1;32mC:\\ProgramData\\Anaconda3\\envs\\ee\\lib\\site-packages\\rasterio\\__init__.py\u001b[0m in \u001b[0;36mopen\u001b[1;34m(fp, mode, driver, width, height, count, crs, transform, dtype, nodata, sharing, **kwargs)\u001b[0m\n\u001b[0;32m    218\u001b[0m         \u001b[1;31m# None.\u001b[0m\u001b[1;33m\u001b[0m\u001b[1;33m\u001b[0m\u001b[0m\n\u001b[0;32m    219\u001b[0m         \u001b[1;32mif\u001b[0m \u001b[0mmode\u001b[0m \u001b[1;33m==\u001b[0m \u001b[1;34m'r'\u001b[0m\u001b[1;33m:\u001b[0m\u001b[1;33m\u001b[0m\u001b[1;33m\u001b[0m\u001b[0m\n\u001b[1;32m--> 220\u001b[1;33m             \u001b[0ms\u001b[0m \u001b[1;33m=\u001b[0m \u001b[0mDatasetReader\u001b[0m\u001b[1;33m(\u001b[0m\u001b[0mpath\u001b[0m\u001b[1;33m,\u001b[0m \u001b[0mdriver\u001b[0m\u001b[1;33m=\u001b[0m\u001b[0mdriver\u001b[0m\u001b[1;33m,\u001b[0m \u001b[0msharing\u001b[0m\u001b[1;33m=\u001b[0m\u001b[0msharing\u001b[0m\u001b[1;33m,\u001b[0m \u001b[1;33m**\u001b[0m\u001b[0mkwargs\u001b[0m\u001b[1;33m)\u001b[0m\u001b[1;33m\u001b[0m\u001b[1;33m\u001b[0m\u001b[0m\n\u001b[0m\u001b[0;32m    221\u001b[0m         \u001b[1;32melif\u001b[0m \u001b[0mmode\u001b[0m \u001b[1;33m==\u001b[0m \u001b[1;34m\"r+\"\u001b[0m\u001b[1;33m:\u001b[0m\u001b[1;33m\u001b[0m\u001b[1;33m\u001b[0m\u001b[0m\n\u001b[0;32m    222\u001b[0m             s = get_writer_for_path(path, driver=driver)(\n",
      "\u001b[1;32mrasterio\\_base.pyx\u001b[0m in \u001b[0;36mrasterio._base.DatasetBase.__init__\u001b[1;34m()\u001b[0m\n",
      "\u001b[1;31mRasterioIOError\u001b[0m: E: No such file or directory"
     ]
    }
   ],
   "source": [
    "for i in list(s_image_names)[3]:\n",
    "    with rasterio.open(i) as src:\n",
    "        first_band = src.read(1)\n",
    "        img = src.read()\n",
    "    \n",
    "    rolled_img = np.rollaxis(img, 0,3)\n",
    "#     print(rolled_img.shape)\n",
    "    plt.imshow(rolled_img[:,:,0:3])\n",
    "    \n",
    "#     with rasterio.open('Engilchek_Glacier_2001-10-02.tif') as src:\n",
    "#     first_band = src.read(1)\n",
    "#     img = src.read()"
   ]
  },
  {
   "cell_type": "code",
   "execution_count": 137,
   "id": "612ecd67",
   "metadata": {},
   "outputs": [
    {
     "data": {
      "text/plain": [
       "0    Engilchek_Glacier_2000-08-12.tif\n",
       "1    Engilchek_Glacier_2000-09-13.tif\n",
       "Name: image _names, dtype: object"
      ]
     },
     "execution_count": 137,
     "metadata": {},
     "output_type": "execute_result"
    }
   ],
   "source": [
    "# good images 7, 8, 9, 10, 11 bad"
   ]
  },
  {
   "cell_type": "code",
   "execution_count": 165,
   "id": "1be9a545",
   "metadata": {},
   "outputs": [
    {
     "data": {
      "text/plain": [
       "'Engilchek_Glacier_2000-08-12.tif'"
      ]
     },
     "execution_count": 165,
     "metadata": {},
     "output_type": "execute_result"
    }
   ],
   "source": [
    "list(s_image_names)[0]"
   ]
  },
  {
   "cell_type": "code",
   "execution_count": null,
   "id": "8dc54da7",
   "metadata": {},
   "outputs": [],
   "source": []
  }
 ],
 "metadata": {
  "kernelspec": {
   "display_name": "Python 3 (ipykernel)",
   "language": "python",
   "name": "python3"
  },
  "language_info": {
   "codemirror_mode": {
    "name": "ipython",
    "version": 3
   },
   "file_extension": ".py",
   "mimetype": "text/x-python",
   "name": "python",
   "nbconvert_exporter": "python",
   "pygments_lexer": "ipython3",
   "version": "3.8.12"
  }
 },
 "nbformat": 4,
 "nbformat_minor": 5
}
