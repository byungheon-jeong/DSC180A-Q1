{
 "cells": [
  {
   "cell_type": "code",
   "execution_count": 267,
   "id": "376c6395",
   "metadata": {},
   "outputs": [],
   "source": [
    "import sklearn as sk\n",
    "import numpy as np\n",
    "import pandas as pd\n",
    "import rasterio, os, napari\n",
    "from sklearn.model_selection import train_test_split\n",
    "from sklearn.ensemble import RandomForestClassifier\n",
    "from sklearn.svm import SVC\n",
    "from sklearn.cluster import KMeans"
   ]
  },
  {
   "cell_type": "code",
   "execution_count": 268,
   "id": "c93da2ce",
   "metadata": {
    "scrolled": true
   },
   "outputs": [],
   "source": [
    "with open(r\"C:\\Users\\marke\\Documents\\DSC180A-Q1\\raw_data\\checkpoints\\data.npy\", \"rb\") as file:\n",
    "    data = np.load(file)"
   ]
  },
  {
   "cell_type": "code",
   "execution_count": 155,
   "id": "88a3485e",
   "metadata": {},
   "outputs": [],
   "source": [
    "with open(r\"C:\\Users\\marke\\Documents\\DSC180A-Q1\\testing_data\\checkpoints\\labels.npy\", \"rb\") as file:\n",
    "    labels = np.load(file)"
   ]
  },
  {
   "cell_type": "code",
   "execution_count": 270,
   "id": "2408a5fc",
   "metadata": {},
   "outputs": [
    {
     "data": {
      "text/plain": [
       "(12669, 9)"
      ]
     },
     "execution_count": 270,
     "metadata": {},
     "output_type": "execute_result"
    }
   ],
   "source": [
    "data.shape"
   ]
  },
  {
   "cell_type": "code",
   "execution_count": 154,
   "id": "6fdf3895",
   "metadata": {},
   "outputs": [
    {
     "data": {
      "text/plain": [
       "(7658, 9)"
      ]
     },
     "execution_count": 154,
     "metadata": {},
     "output_type": "execute_result"
    }
   ],
   "source": [
    "data.shape"
   ]
  },
  {
   "cell_type": "code",
   "execution_count": 94,
   "id": "02314089",
   "metadata": {},
   "outputs": [
    {
     "data": {
      "text/plain": [
       "(58737,)"
      ]
     },
     "execution_count": 94,
     "metadata": {},
     "output_type": "execute_result"
    }
   ],
   "source": [
    "labels.shape"
   ]
  },
  {
   "cell_type": "code",
   "execution_count": 157,
   "id": "3b8c52ce",
   "metadata": {},
   "outputs": [],
   "source": [
    " X_train, X_test, y_train, y_test = train_test_split(data,labels, test_size=0.2)"
   ]
  },
  {
   "cell_type": "code",
   "execution_count": 158,
   "id": "a6d76365",
   "metadata": {},
   "outputs": [
    {
     "data": {
      "text/plain": [
       "array([[1.62146568e-01, 1.66878968e-01, 1.84082046e-01, ...,\n",
       "        2.87476715e+02, 1.70462698e-01, 1.83871254e-01],\n",
       "       [3.76224101e-01, 4.23249632e-01, 4.00827229e-01, ...,\n",
       "        2.71747742e+02, 3.45703885e-02, 7.36823678e-01],\n",
       "       [3.76224101e-01, 4.23249632e-01, 4.00827229e-01, ...,\n",
       "        2.62050262e+02, 3.51652443e-01, 6.45157754e-01],\n",
       "       ...,\n",
       "       [1.16272815e-01, 1.06657669e-01, 1.02598883e-01, ...,\n",
       "        2.91664246e+02, 5.18265553e-02, 9.81192812e-02],\n",
       "       [2.15665951e-01, 2.13335395e-01, 2.24823624e-01, ...,\n",
       "        2.79252716e+02, 1.87718868e-01, 1.95699126e-01],\n",
       "       [9.48650613e-02, 7.74073228e-02, 7.16352835e-02, ...,\n",
       "        2.79581024e+02, 4.31984700e-02, 7.44635612e-02]])"
      ]
     },
     "execution_count": 158,
     "metadata": {},
     "output_type": "execute_result"
    }
   ],
   "source": [
    "X_train"
   ]
  },
  {
   "cell_type": "code",
   "execution_count": 159,
   "id": "69d0027c",
   "metadata": {},
   "outputs": [
    {
     "name": "stdout",
     "output_type": "stream",
     "text": [
      "Not Ice    3665\n",
      "Ice        2461\n",
      "dtype: int64\n",
      "\n",
      "\n",
      "Not Ice    891\n",
      "Ice        641\n",
      "dtype: int64\n"
     ]
    }
   ],
   "source": [
    "a = pd.Series(y_train).value_counts()\n",
    "b = pd.Series(y_test).value_counts()\n",
    "\n",
    "print(a)\n",
    "print(\"\\n\")\n",
    "print(b)"
   ]
  },
  {
   "cell_type": "markdown",
   "id": "1794cf98",
   "metadata": {},
   "source": [
    "### Random Forest"
   ]
  },
  {
   "cell_type": "code",
   "execution_count": 160,
   "id": "bccb7e16",
   "metadata": {},
   "outputs": [],
   "source": [
    "fclf = RandomForestClassifier(max_depth=5, n_estimators=10, max_features=1)"
   ]
  },
  {
   "cell_type": "code",
   "execution_count": 161,
   "id": "d648052b",
   "metadata": {},
   "outputs": [
    {
     "data": {
      "text/plain": [
       "RandomForestClassifier(max_depth=5, max_features=1, n_estimators=10)"
      ]
     },
     "execution_count": 161,
     "metadata": {},
     "output_type": "execute_result"
    }
   ],
   "source": [
    "fclf.fit(X_train, y_train)"
   ]
  },
  {
   "cell_type": "code",
   "execution_count": 162,
   "id": "ef80e97c",
   "metadata": {},
   "outputs": [
    {
     "data": {
      "text/plain": [
       "0.9347258485639687"
      ]
     },
     "execution_count": 162,
     "metadata": {},
     "output_type": "execute_result"
    }
   ],
   "source": [
    "fclf.score(X_test, y_test)"
   ]
  },
  {
   "cell_type": "code",
   "execution_count": 163,
   "id": "a105e0b3",
   "metadata": {},
   "outputs": [
    {
     "data": {
      "text/plain": [
       "array(['Not Ice', 'Not Ice', 'Not Ice', ..., 'Not Ice', 'Ice', 'Not Ice'],\n",
       "      dtype='<U32')"
      ]
     },
     "execution_count": 163,
     "metadata": {},
     "output_type": "execute_result"
    }
   ],
   "source": [
    "fclf.predict(X_test)\n"
   ]
  },
  {
   "cell_type": "code",
   "execution_count": 164,
   "id": "b7595d2a",
   "metadata": {},
   "outputs": [
    {
     "data": {
      "text/plain": [
       "array(['Not Ice', 'Not Ice', 'Not Ice', ..., 'Not Ice', 'Ice', 'Not Ice'],\n",
       "      dtype='<U32')"
      ]
     },
     "execution_count": 164,
     "metadata": {},
     "output_type": "execute_result"
    }
   ],
   "source": [
    "fclf.predict(X_test)"
   ]
  },
  {
   "cell_type": "code",
   "execution_count": 165,
   "id": "a63f2746",
   "metadata": {},
   "outputs": [
    {
     "data": {
      "text/plain": [
       "0.9432463110102157"
      ]
     },
     "execution_count": 165,
     "metadata": {},
     "output_type": "execute_result"
    }
   ],
   "source": [
    "sklearn.metrics.f1_score(y_test,fclf.predict(X_test), pos_label='Not Ice')"
   ]
  },
  {
   "cell_type": "code",
   "execution_count": null,
   "id": "e7fd96f1",
   "metadata": {},
   "outputs": [],
   "source": []
  },
  {
   "cell_type": "markdown",
   "id": "2792d545",
   "metadata": {},
   "source": [
    "### SVM"
   ]
  },
  {
   "cell_type": "code",
   "execution_count": null,
   "id": "06680bb4",
   "metadata": {},
   "outputs": [],
   "source": [
    "sclf = SVC(gamma='auto')"
   ]
  },
  {
   "cell_type": "code",
   "execution_count": 259,
   "id": "bb41372d",
   "metadata": {},
   "outputs": [
    {
     "data": {
      "text/plain": [
       "SVC(gamma='auto')"
      ]
     },
     "execution_count": 259,
     "metadata": {},
     "output_type": "execute_result"
    }
   ],
   "source": [
    "sclf.fit(X_train,y_train)"
   ]
  },
  {
   "cell_type": "code",
   "execution_count": 262,
   "id": "5abba881",
   "metadata": {},
   "outputs": [
    {
     "data": {
      "text/plain": [
       "0.8838120104438643"
      ]
     },
     "execution_count": 262,
     "metadata": {},
     "output_type": "execute_result"
    }
   ],
   "source": [
    "sclf.score(X_test, y_test)"
   ]
  },
  {
   "cell_type": "code",
   "execution_count": 261,
   "id": "59eb4a75",
   "metadata": {},
   "outputs": [
    {
     "data": {
      "text/plain": [
       "0.8960280373831776"
      ]
     },
     "execution_count": 261,
     "metadata": {},
     "output_type": "execute_result"
    }
   ],
   "source": [
    "sklearn.metrics.f1_score(y_test,sclf.predict(X_test), pos_label='Not Ice')"
   ]
  },
  {
   "cell_type": "code",
   "execution_count": null,
   "id": "486c4424",
   "metadata": {},
   "outputs": [],
   "source": []
  },
  {
   "cell_type": "markdown",
   "id": "bffd8165",
   "metadata": {},
   "source": [
    "### Dimentionality Reduction"
   ]
  },
  {
   "cell_type": "code",
   "execution_count": 87,
   "id": "c9217981",
   "metadata": {},
   "outputs": [],
   "source": [
    "cclf = KMeans()"
   ]
  },
  {
   "cell_type": "code",
   "execution_count": 88,
   "id": "9e8c006f",
   "metadata": {},
   "outputs": [
    {
     "data": {
      "text/plain": [
       "KMeans()"
      ]
     },
     "execution_count": 88,
     "metadata": {},
     "output_type": "execute_result"
    }
   ],
   "source": [
    "cclf.fit(X_train)"
   ]
  },
  {
   "cell_type": "markdown",
   "id": "f9bfdf4a",
   "metadata": {},
   "source": [
    "# Display prediction"
   ]
  },
  {
   "cell_type": "code",
   "execution_count": 273,
   "id": "57044ac7",
   "metadata": {},
   "outputs": [],
   "source": [
    "test_img = \"Engilchek_glacier_2008-07-17.tif\""
   ]
  },
  {
   "cell_type": "code",
   "execution_count": 274,
   "id": "451c2af0",
   "metadata": {},
   "outputs": [],
   "source": [
    "full_directory = os.path.join(r\"C:\\Users\\marke\\Documents\\DSC180A-Q1\\raw_data\\full_img\",test_img)\n",
    "ndsi_directory = os.path.join(r\"C:\\Users\\marke\\Documents\\DSC180A-Q1\\raw_data\\ndsi_imgs\",test_img)"
   ]
  },
  {
   "cell_type": "code",
   "execution_count": 281,
   "id": "795e461a",
   "metadata": {},
   "outputs": [],
   "source": [
    "def runNapari(img_path, full_img_path):\n",
    "    with rasterio.open(img_path) as src:\n",
    "        img = src.read()\n",
    "    \n",
    "    with rasterio.open(full_img_path) as src:\n",
    "        img_full = src.read()\n",
    "\n",
    "    viewer = napari.view_image(img)\n",
    "    return viewer, img, img_full\n"
   ]
  },
  {
   "cell_type": "code",
   "execution_count": 298,
   "id": "9eaac253",
   "metadata": {},
   "outputs": [],
   "source": [
    "def loadAndTest(full_directory,ndsi_directory, trained_model):\n",
    "    \n",
    "    viewer,ndsi,full = runNapari(ndsi_directory,full_directory)\n",
    "    e_dims = full.shape\n",
    "    print(e_dims)\n",
    "    testbals = np.rollaxis(full.reshape(9,e_dims[1]*e_dims[2]),0,2)\n",
    "    print(testbals)\n",
    "    prediction = trained_model.predict(testbals)\n",
    "\n",
    "    prediction = prediction.reshape(e_dims[1],e_dims[2])\n",
    "    # np.count_nonzero(testbals.reshape(9,145,363) != full)\n",
    "    display_dims = prediction.shape\n",
    "    img_coordinates = np.array(list(zip(np.arange(0,display_dims[0]),np.arange(0,display_dims[1]))))\n",
    "    \n",
    "    ice_indexes = np.where(prediction == \"Ice\")\n",
    "    non_ice_indexes = np.where(prediction == \"Not Ice\")\n",
    "    ice_coordinates = list(zip(ice_indexes[0],ice_indexes[1]))\n",
    "    non_ice_coordinates = list(zip(non_ice_indexes[0], non_ice_indexes[1]))\n",
    "    \n",
    "    viewer = napari.view_image(ndsi)\n",
    "    viewer.add_points(ice_coordinates,face_color=\"red\",edge_color =\"red\",size=1, name=\"Ice\")\n",
    "    viewer.add_points(non_ice_coordinates,face_color=\"blue\",edge_color =\"blue\",size=1, name=\"Not Ice\")\n"
   ]
  },
  {
   "cell_type": "code",
   "execution_count": 299,
   "id": "94e50c27",
   "metadata": {},
   "outputs": [
    {
     "name": "stdout",
     "output_type": "stream",
     "text": [
      "(9, 145, 363)\n",
      "[[         -inf          -inf          -inf ...          -inf\n",
      "           -inf          -inf]\n",
      " [         -inf          -inf          -inf ...          -inf\n",
      "           -inf          -inf]\n",
      " [         -inf          -inf          -inf ...          -inf\n",
      "           -inf          -inf]\n",
      " ...\n",
      " [3.6893350e-01 3.3491743e-01 3.2438216e-01 ... 2.6086160e+02\n",
      "  2.0393865e-02 3.6762175e-01]\n",
      " [5.3433710e-01 5.8119780e-01 5.6246895e-01 ... 2.6125961e+02\n",
      "  5.3694814e-02 6.6625053e-01]\n",
      " [5.2789277e-01 5.7636875e-01 5.4415458e-01 ... 2.6244296e+02\n",
      "  5.6722172e-02 5.8679885e-01]]\n"
     ]
    },
    {
     "ename": "ValueError",
     "evalue": "Input contains NaN, infinity or a value too large for dtype('float64').",
     "output_type": "error",
     "traceback": [
      "\u001b[1;31m---------------------------------------------------------------------------\u001b[0m",
      "\u001b[1;31mValueError\u001b[0m                                Traceback (most recent call last)",
      "\u001b[1;32m~\\AppData\\Local\\Temp/ipykernel_24480/4054344538.py\u001b[0m in \u001b[0;36m<module>\u001b[1;34m\u001b[0m\n\u001b[1;32m----> 1\u001b[1;33m \u001b[0mloadAndTest\u001b[0m\u001b[1;33m(\u001b[0m\u001b[0mfull_directory\u001b[0m\u001b[1;33m,\u001b[0m \u001b[0mndsi_directory\u001b[0m\u001b[1;33m,\u001b[0m \u001b[0msclf\u001b[0m\u001b[1;33m)\u001b[0m\u001b[1;33m\u001b[0m\u001b[1;33m\u001b[0m\u001b[0m\n\u001b[0m",
      "\u001b[1;32m~\\AppData\\Local\\Temp/ipykernel_24480/2029174586.py\u001b[0m in \u001b[0;36mloadAndTest\u001b[1;34m(full_directory, ndsi_directory, trained_model)\u001b[0m\n\u001b[0;32m      6\u001b[0m     \u001b[0mtestbals\u001b[0m \u001b[1;33m=\u001b[0m \u001b[0mnp\u001b[0m\u001b[1;33m.\u001b[0m\u001b[0mrollaxis\u001b[0m\u001b[1;33m(\u001b[0m\u001b[0mfull\u001b[0m\u001b[1;33m.\u001b[0m\u001b[0mreshape\u001b[0m\u001b[1;33m(\u001b[0m\u001b[1;36m9\u001b[0m\u001b[1;33m,\u001b[0m\u001b[0me_dims\u001b[0m\u001b[1;33m[\u001b[0m\u001b[1;36m1\u001b[0m\u001b[1;33m]\u001b[0m\u001b[1;33m*\u001b[0m\u001b[0me_dims\u001b[0m\u001b[1;33m[\u001b[0m\u001b[1;36m2\u001b[0m\u001b[1;33m]\u001b[0m\u001b[1;33m)\u001b[0m\u001b[1;33m,\u001b[0m\u001b[1;36m0\u001b[0m\u001b[1;33m,\u001b[0m\u001b[1;36m2\u001b[0m\u001b[1;33m)\u001b[0m\u001b[1;33m\u001b[0m\u001b[1;33m\u001b[0m\u001b[0m\n\u001b[0;32m      7\u001b[0m     \u001b[0mprint\u001b[0m\u001b[1;33m(\u001b[0m\u001b[0mtestbals\u001b[0m\u001b[1;33m)\u001b[0m\u001b[1;33m\u001b[0m\u001b[1;33m\u001b[0m\u001b[0m\n\u001b[1;32m----> 8\u001b[1;33m     \u001b[0mprediction\u001b[0m \u001b[1;33m=\u001b[0m \u001b[0mtrained_model\u001b[0m\u001b[1;33m.\u001b[0m\u001b[0mpredict\u001b[0m\u001b[1;33m(\u001b[0m\u001b[0mtestbals\u001b[0m\u001b[1;33m)\u001b[0m\u001b[1;33m\u001b[0m\u001b[1;33m\u001b[0m\u001b[0m\n\u001b[0m\u001b[0;32m      9\u001b[0m \u001b[1;33m\u001b[0m\u001b[0m\n\u001b[0;32m     10\u001b[0m     \u001b[0mprediction\u001b[0m \u001b[1;33m=\u001b[0m \u001b[0mprediction\u001b[0m\u001b[1;33m.\u001b[0m\u001b[0mreshape\u001b[0m\u001b[1;33m(\u001b[0m\u001b[0me_dims\u001b[0m\u001b[1;33m[\u001b[0m\u001b[1;36m1\u001b[0m\u001b[1;33m]\u001b[0m\u001b[1;33m,\u001b[0m\u001b[0me_dims\u001b[0m\u001b[1;33m[\u001b[0m\u001b[1;36m2\u001b[0m\u001b[1;33m]\u001b[0m\u001b[1;33m)\u001b[0m\u001b[1;33m\u001b[0m\u001b[1;33m\u001b[0m\u001b[0m\n",
      "\u001b[1;32m~\\miniconda3\\envs\\capstone\\lib\\site-packages\\sklearn\\svm\\_base.py\u001b[0m in \u001b[0;36mpredict\u001b[1;34m(self, X)\u001b[0m\n\u001b[0;32m    789\u001b[0m             \u001b[0my\u001b[0m \u001b[1;33m=\u001b[0m \u001b[0mnp\u001b[0m\u001b[1;33m.\u001b[0m\u001b[0margmax\u001b[0m\u001b[1;33m(\u001b[0m\u001b[0mself\u001b[0m\u001b[1;33m.\u001b[0m\u001b[0mdecision_function\u001b[0m\u001b[1;33m(\u001b[0m\u001b[0mX\u001b[0m\u001b[1;33m)\u001b[0m\u001b[1;33m,\u001b[0m \u001b[0maxis\u001b[0m\u001b[1;33m=\u001b[0m\u001b[1;36m1\u001b[0m\u001b[1;33m)\u001b[0m\u001b[1;33m\u001b[0m\u001b[1;33m\u001b[0m\u001b[0m\n\u001b[0;32m    790\u001b[0m         \u001b[1;32melse\u001b[0m\u001b[1;33m:\u001b[0m\u001b[1;33m\u001b[0m\u001b[1;33m\u001b[0m\u001b[0m\n\u001b[1;32m--> 791\u001b[1;33m             \u001b[0my\u001b[0m \u001b[1;33m=\u001b[0m \u001b[0msuper\u001b[0m\u001b[1;33m(\u001b[0m\u001b[1;33m)\u001b[0m\u001b[1;33m.\u001b[0m\u001b[0mpredict\u001b[0m\u001b[1;33m(\u001b[0m\u001b[0mX\u001b[0m\u001b[1;33m)\u001b[0m\u001b[1;33m\u001b[0m\u001b[1;33m\u001b[0m\u001b[0m\n\u001b[0m\u001b[0;32m    792\u001b[0m         \u001b[1;32mreturn\u001b[0m \u001b[0mself\u001b[0m\u001b[1;33m.\u001b[0m\u001b[0mclasses_\u001b[0m\u001b[1;33m.\u001b[0m\u001b[0mtake\u001b[0m\u001b[1;33m(\u001b[0m\u001b[0mnp\u001b[0m\u001b[1;33m.\u001b[0m\u001b[0masarray\u001b[0m\u001b[1;33m(\u001b[0m\u001b[0my\u001b[0m\u001b[1;33m,\u001b[0m \u001b[0mdtype\u001b[0m\u001b[1;33m=\u001b[0m\u001b[0mnp\u001b[0m\u001b[1;33m.\u001b[0m\u001b[0mintp\u001b[0m\u001b[1;33m)\u001b[0m\u001b[1;33m)\u001b[0m\u001b[1;33m\u001b[0m\u001b[1;33m\u001b[0m\u001b[0m\n\u001b[0;32m    793\u001b[0m \u001b[1;33m\u001b[0m\u001b[0m\n",
      "\u001b[1;32m~\\miniconda3\\envs\\capstone\\lib\\site-packages\\sklearn\\svm\\_base.py\u001b[0m in \u001b[0;36mpredict\u001b[1;34m(self, X)\u001b[0m\n\u001b[0;32m    412\u001b[0m             \u001b[0mThe\u001b[0m \u001b[0mpredicted\u001b[0m \u001b[0mvalues\u001b[0m\u001b[1;33m.\u001b[0m\u001b[1;33m\u001b[0m\u001b[1;33m\u001b[0m\u001b[0m\n\u001b[0;32m    413\u001b[0m         \"\"\"\n\u001b[1;32m--> 414\u001b[1;33m         \u001b[0mX\u001b[0m \u001b[1;33m=\u001b[0m \u001b[0mself\u001b[0m\u001b[1;33m.\u001b[0m\u001b[0m_validate_for_predict\u001b[0m\u001b[1;33m(\u001b[0m\u001b[0mX\u001b[0m\u001b[1;33m)\u001b[0m\u001b[1;33m\u001b[0m\u001b[1;33m\u001b[0m\u001b[0m\n\u001b[0m\u001b[0;32m    415\u001b[0m         \u001b[0mpredict\u001b[0m \u001b[1;33m=\u001b[0m \u001b[0mself\u001b[0m\u001b[1;33m.\u001b[0m\u001b[0m_sparse_predict\u001b[0m \u001b[1;32mif\u001b[0m \u001b[0mself\u001b[0m\u001b[1;33m.\u001b[0m\u001b[0m_sparse\u001b[0m \u001b[1;32melse\u001b[0m \u001b[0mself\u001b[0m\u001b[1;33m.\u001b[0m\u001b[0m_dense_predict\u001b[0m\u001b[1;33m\u001b[0m\u001b[1;33m\u001b[0m\u001b[0m\n\u001b[0;32m    416\u001b[0m         \u001b[1;32mreturn\u001b[0m \u001b[0mpredict\u001b[0m\u001b[1;33m(\u001b[0m\u001b[0mX\u001b[0m\u001b[1;33m)\u001b[0m\u001b[1;33m\u001b[0m\u001b[1;33m\u001b[0m\u001b[0m\n",
      "\u001b[1;32m~\\miniconda3\\envs\\capstone\\lib\\site-packages\\sklearn\\svm\\_base.py\u001b[0m in \u001b[0;36m_validate_for_predict\u001b[1;34m(self, X)\u001b[0m\n\u001b[0;32m    590\u001b[0m \u001b[1;33m\u001b[0m\u001b[0m\n\u001b[0;32m    591\u001b[0m         \u001b[1;32mif\u001b[0m \u001b[1;32mnot\u001b[0m \u001b[0mcallable\u001b[0m\u001b[1;33m(\u001b[0m\u001b[0mself\u001b[0m\u001b[1;33m.\u001b[0m\u001b[0mkernel\u001b[0m\u001b[1;33m)\u001b[0m\u001b[1;33m:\u001b[0m\u001b[1;33m\u001b[0m\u001b[1;33m\u001b[0m\u001b[0m\n\u001b[1;32m--> 592\u001b[1;33m             X = self._validate_data(\n\u001b[0m\u001b[0;32m    593\u001b[0m                 \u001b[0mX\u001b[0m\u001b[1;33m,\u001b[0m\u001b[1;33m\u001b[0m\u001b[1;33m\u001b[0m\u001b[0m\n\u001b[0;32m    594\u001b[0m                 \u001b[0maccept_sparse\u001b[0m\u001b[1;33m=\u001b[0m\u001b[1;34m\"csr\"\u001b[0m\u001b[1;33m,\u001b[0m\u001b[1;33m\u001b[0m\u001b[1;33m\u001b[0m\u001b[0m\n",
      "\u001b[1;32m~\\miniconda3\\envs\\capstone\\lib\\site-packages\\sklearn\\base.py\u001b[0m in \u001b[0;36m_validate_data\u001b[1;34m(self, X, y, reset, validate_separately, **check_params)\u001b[0m\n\u001b[0;32m    559\u001b[0m             \u001b[1;32mraise\u001b[0m \u001b[0mValueError\u001b[0m\u001b[1;33m(\u001b[0m\u001b[1;34m\"Validation should be done on X, y or both.\"\u001b[0m\u001b[1;33m)\u001b[0m\u001b[1;33m\u001b[0m\u001b[1;33m\u001b[0m\u001b[0m\n\u001b[0;32m    560\u001b[0m         \u001b[1;32melif\u001b[0m \u001b[1;32mnot\u001b[0m \u001b[0mno_val_X\u001b[0m \u001b[1;32mand\u001b[0m \u001b[0mno_val_y\u001b[0m\u001b[1;33m:\u001b[0m\u001b[1;33m\u001b[0m\u001b[1;33m\u001b[0m\u001b[0m\n\u001b[1;32m--> 561\u001b[1;33m             \u001b[0mX\u001b[0m \u001b[1;33m=\u001b[0m \u001b[0mcheck_array\u001b[0m\u001b[1;33m(\u001b[0m\u001b[0mX\u001b[0m\u001b[1;33m,\u001b[0m \u001b[1;33m**\u001b[0m\u001b[0mcheck_params\u001b[0m\u001b[1;33m)\u001b[0m\u001b[1;33m\u001b[0m\u001b[1;33m\u001b[0m\u001b[0m\n\u001b[0m\u001b[0;32m    562\u001b[0m             \u001b[0mout\u001b[0m \u001b[1;33m=\u001b[0m \u001b[0mX\u001b[0m\u001b[1;33m\u001b[0m\u001b[1;33m\u001b[0m\u001b[0m\n\u001b[0;32m    563\u001b[0m         \u001b[1;32melif\u001b[0m \u001b[0mno_val_X\u001b[0m \u001b[1;32mand\u001b[0m \u001b[1;32mnot\u001b[0m \u001b[0mno_val_y\u001b[0m\u001b[1;33m:\u001b[0m\u001b[1;33m\u001b[0m\u001b[1;33m\u001b[0m\u001b[0m\n",
      "\u001b[1;32m~\\miniconda3\\envs\\capstone\\lib\\site-packages\\sklearn\\utils\\validation.py\u001b[0m in \u001b[0;36mcheck_array\u001b[1;34m(array, accept_sparse, accept_large_sparse, dtype, order, copy, force_all_finite, ensure_2d, allow_nd, ensure_min_samples, ensure_min_features, estimator)\u001b[0m\n\u001b[0;32m    790\u001b[0m \u001b[1;33m\u001b[0m\u001b[0m\n\u001b[0;32m    791\u001b[0m         \u001b[1;32mif\u001b[0m \u001b[0mforce_all_finite\u001b[0m\u001b[1;33m:\u001b[0m\u001b[1;33m\u001b[0m\u001b[1;33m\u001b[0m\u001b[0m\n\u001b[1;32m--> 792\u001b[1;33m             \u001b[0m_assert_all_finite\u001b[0m\u001b[1;33m(\u001b[0m\u001b[0marray\u001b[0m\u001b[1;33m,\u001b[0m \u001b[0mallow_nan\u001b[0m\u001b[1;33m=\u001b[0m\u001b[0mforce_all_finite\u001b[0m \u001b[1;33m==\u001b[0m \u001b[1;34m\"allow-nan\"\u001b[0m\u001b[1;33m)\u001b[0m\u001b[1;33m\u001b[0m\u001b[1;33m\u001b[0m\u001b[0m\n\u001b[0m\u001b[0;32m    793\u001b[0m \u001b[1;33m\u001b[0m\u001b[0m\n\u001b[0;32m    794\u001b[0m     \u001b[1;32mif\u001b[0m \u001b[0mensure_min_samples\u001b[0m \u001b[1;33m>\u001b[0m \u001b[1;36m0\u001b[0m\u001b[1;33m:\u001b[0m\u001b[1;33m\u001b[0m\u001b[1;33m\u001b[0m\u001b[0m\n",
      "\u001b[1;32m~\\miniconda3\\envs\\capstone\\lib\\site-packages\\sklearn\\utils\\validation.py\u001b[0m in \u001b[0;36m_assert_all_finite\u001b[1;34m(X, allow_nan, msg_dtype)\u001b[0m\n\u001b[0;32m    112\u001b[0m         ):\n\u001b[0;32m    113\u001b[0m             \u001b[0mtype_err\u001b[0m \u001b[1;33m=\u001b[0m \u001b[1;34m\"infinity\"\u001b[0m \u001b[1;32mif\u001b[0m \u001b[0mallow_nan\u001b[0m \u001b[1;32melse\u001b[0m \u001b[1;34m\"NaN, infinity\"\u001b[0m\u001b[1;33m\u001b[0m\u001b[1;33m\u001b[0m\u001b[0m\n\u001b[1;32m--> 114\u001b[1;33m             raise ValueError(\n\u001b[0m\u001b[0;32m    115\u001b[0m                 msg_err.format(\n\u001b[0;32m    116\u001b[0m                     \u001b[0mtype_err\u001b[0m\u001b[1;33m,\u001b[0m \u001b[0mmsg_dtype\u001b[0m \u001b[1;32mif\u001b[0m \u001b[0mmsg_dtype\u001b[0m \u001b[1;32mis\u001b[0m \u001b[1;32mnot\u001b[0m \u001b[1;32mNone\u001b[0m \u001b[1;32melse\u001b[0m \u001b[0mX\u001b[0m\u001b[1;33m.\u001b[0m\u001b[0mdtype\u001b[0m\u001b[1;33m\u001b[0m\u001b[1;33m\u001b[0m\u001b[0m\n",
      "\u001b[1;31mValueError\u001b[0m: Input contains NaN, infinity or a value too large for dtype('float64')."
     ]
    }
   ],
   "source": [
    "loadAndTest(full_directory, ndsi_directory, sclf)"
   ]
  },
  {
   "cell_type": "code",
   "execution_count": 271,
   "id": "ba679f44",
   "metadata": {},
   "outputs": [
    {
     "data": {
      "text/plain": [
       "SVC(gamma='auto')"
      ]
     },
     "execution_count": 271,
     "metadata": {},
     "output_type": "execute_result"
    }
   ],
   "source": [
    "sclf"
   ]
  },
  {
   "cell_type": "code",
   "execution_count": null,
   "id": "8c0171c3",
   "metadata": {},
   "outputs": [],
   "source": []
  },
  {
   "cell_type": "code",
   "execution_count": 169,
   "id": "c942b016",
   "metadata": {},
   "outputs": [],
   "source": [
    "full,ndsi = runNapari(test_img,full_directory,ndsi_directory)"
   ]
  },
  {
   "cell_type": "code",
   "execution_count": 247,
   "id": "87b0d369",
   "metadata": {},
   "outputs": [
    {
     "data": {
      "text/plain": [
       "(145, 363)"
      ]
     },
     "execution_count": 247,
     "metadata": {},
     "output_type": "execute_result"
    }
   ],
   "source": [
    "e_dims = full.shape\n",
    "testbals = np.rollaxis(full.reshape(9,e_dims[1]*e_dims[2]),0,2)\n",
    "prediction = fclf.predict(testbals)\n",
    "\n",
    "prediction = prediction.reshape(e_dims[1],e_dims[2])\n",
    "# np.count_nonzero(testbals.reshape(9,145,363) != full)\n",
    "display_dims = prediction.shape\n",
    "display_dims"
   ]
  },
  {
   "cell_type": "code",
   "execution_count": 239,
   "id": "be59df00",
   "metadata": {},
   "outputs": [],
   "source": [
    "img_coordinates = np.array(list(zip(np.arange(0,display_dims[1]),np.arange(0,display_dims[2]))))"
   ]
  },
  {
   "cell_type": "code",
   "execution_count": 250,
   "id": "216a929b",
   "metadata": {},
   "outputs": [],
   "source": [
    "ice_indexes = np.where(prediction == \"Ice\")\n",
    "non_ice_indexes = np.where(prediction == \"Not Ice\")"
   ]
  },
  {
   "cell_type": "code",
   "execution_count": 251,
   "id": "0374ab54",
   "metadata": {},
   "outputs": [],
   "source": [
    "ice_coordinates = list(zip(ice_indexes[0],ice_indexes[1]))\n",
    "non_ice_coordinates = list(zip(non_ice_indexes[0], non_ice_indexes[1]))"
   ]
  },
  {
   "cell_type": "code",
   "execution_count": 253,
   "id": "bc2783ba",
   "metadata": {},
   "outputs": [],
   "source": [
    "viewer = napari.view_image(ndsi)"
   ]
  },
  {
   "cell_type": "code",
   "execution_count": 255,
   "id": "14e8e306",
   "metadata": {},
   "outputs": [
    {
     "data": {
      "text/plain": [
       "<Points layer 'Not Ice' at 0x21aaee09520>"
      ]
     },
     "execution_count": 255,
     "metadata": {},
     "output_type": "execute_result"
    }
   ],
   "source": [
    "viewer.add_points(ice_coordinates,face_color=\"red\",edge_color =\"red\",size=1, name=\"Ice\")\n",
    "viewer.add_points(non_ice_coordinates,face_color=\"blue\",edge_color =\"blue\",size=1, name=\"Not Ice\")\n"
   ]
  },
  {
   "cell_type": "code",
   "execution_count": null,
   "id": "ae1b2d90",
   "metadata": {},
   "outputs": [],
   "source": []
  }
 ],
 "metadata": {
  "kernelspec": {
   "display_name": "Python 3 (ipykernel)",
   "language": "python",
   "name": "python3"
  },
  "language_info": {
   "codemirror_mode": {
    "name": "ipython",
    "version": 3
   },
   "file_extension": ".py",
   "mimetype": "text/x-python",
   "name": "python",
   "nbconvert_exporter": "python",
   "pygments_lexer": "ipython3",
   "version": "3.8.12"
  }
 },
 "nbformat": 4,
 "nbformat_minor": 5
}
