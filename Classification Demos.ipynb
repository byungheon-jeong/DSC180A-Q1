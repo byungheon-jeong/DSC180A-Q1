{
 "cells": [
  {
   "cell_type": "code",
   "execution_count": 143,
   "id": "376c6395",
   "metadata": {},
   "outputs": [],
   "source": [
    "import sklearn as sk\n",
    "import numpy as np\n",
    "import pandas as pd\n",
    "import rasterio, os, napari\n",
    "from sklearn.model_selection import train_test_split\n",
    "from sklearn.ensemble import RandomForestClassifier\n",
    "from sklearn.svm import SVC\n",
    "from sklearn.cluster import KMeans"
   ]
  },
  {
   "cell_type": "code",
   "execution_count": 153,
   "id": "c93da2ce",
   "metadata": {
    "scrolled": true
   },
   "outputs": [],
   "source": [
    "with open(r\"C:\\Users\\marke\\Documents\\DSC180A-Q1\\testing_data\\checkpoints\\data.npy\", \"rb\") as file:\n",
    "    data = np.load(file)"
   ]
  },
  {
   "cell_type": "code",
   "execution_count": 155,
   "id": "dea31293",
   "metadata": {},
   "outputs": [],
   "source": [
    "with open(r\"C:\\Users\\marke\\Documents\\DSC180A-Q1\\testing_data\\checkpoints\\labels.npy\", \"rb\") as file:\n",
    "    labels = np.load(file)"
   ]
  },
  {
   "cell_type": "code",
   "execution_count": 156,
   "id": "2b68ebf6",
   "metadata": {},
   "outputs": [
    {
     "data": {
      "text/plain": [
       "array(['Ice', 'Ice', 'Ice', ..., 'Not Ice', 'Not Ice', 'Not Ice'],\n",
       "      dtype='<U32')"
      ]
     },
     "execution_count": 156,
     "metadata": {},
     "output_type": "execute_result"
    }
   ],
   "source": [
    "labels"
   ]
  },
  {
   "cell_type": "code",
   "execution_count": 154,
   "id": "99e988b0",
   "metadata": {},
   "outputs": [
    {
     "data": {
      "text/plain": [
       "(7658, 9)"
      ]
     },
     "execution_count": 154,
     "metadata": {},
     "output_type": "execute_result"
    }
   ],
   "source": [
    "data.shape"
   ]
  },
  {
   "cell_type": "code",
   "execution_count": 94,
   "id": "fda8968d",
   "metadata": {},
   "outputs": [
    {
     "data": {
      "text/plain": [
       "(58737,)"
      ]
     },
     "execution_count": 94,
     "metadata": {},
     "output_type": "execute_result"
    }
   ],
   "source": [
    "labels.shape"
   ]
  },
  {
   "cell_type": "code",
   "execution_count": 157,
   "id": "a1ebdb89",
   "metadata": {},
   "outputs": [],
   "source": [
    " X_train, X_test, y_train, y_test = train_test_split(data,labels, test_size=0.2)"
   ]
  },
  {
   "cell_type": "code",
   "execution_count": 158,
   "id": "e59050eb",
   "metadata": {},
   "outputs": [
    {
     "data": {
      "text/plain": [
       "array([[1.62146568e-01, 1.66878968e-01, 1.84082046e-01, ...,\n",
       "        2.87476715e+02, 1.70462698e-01, 1.83871254e-01],\n",
       "       [3.76224101e-01, 4.23249632e-01, 4.00827229e-01, ...,\n",
       "        2.71747742e+02, 3.45703885e-02, 7.36823678e-01],\n",
       "       [3.76224101e-01, 4.23249632e-01, 4.00827229e-01, ...,\n",
       "        2.62050262e+02, 3.51652443e-01, 6.45157754e-01],\n",
       "       ...,\n",
       "       [1.16272815e-01, 1.06657669e-01, 1.02598883e-01, ...,\n",
       "        2.91664246e+02, 5.18265553e-02, 9.81192812e-02],\n",
       "       [2.15665951e-01, 2.13335395e-01, 2.24823624e-01, ...,\n",
       "        2.79252716e+02, 1.87718868e-01, 1.95699126e-01],\n",
       "       [9.48650613e-02, 7.74073228e-02, 7.16352835e-02, ...,\n",
       "        2.79581024e+02, 4.31984700e-02, 7.44635612e-02]])"
      ]
     },
     "execution_count": 158,
     "metadata": {},
     "output_type": "execute_result"
    }
   ],
   "source": [
    "X_train"
   ]
  },
  {
   "cell_type": "code",
   "execution_count": 159,
   "id": "70aa6e7a",
   "metadata": {},
   "outputs": [
    {
     "name": "stdout",
     "output_type": "stream",
     "text": [
      "Not Ice    3665\n",
      "Ice        2461\n",
      "dtype: int64\n",
      "\n",
      "\n",
      "Not Ice    891\n",
      "Ice        641\n",
      "dtype: int64\n"
     ]
    }
   ],
   "source": [
    "a = pd.Series(y_train).value_counts()\n",
    "b = pd.Series(y_test).value_counts()\n",
    "\n",
    "print(a)\n",
    "print(\"\\n\")\n",
    "print(b)"
   ]
  },
  {
   "cell_type": "code",
   "execution_count": null,
   "id": "e5fbfefc",
   "metadata": {},
   "outputs": [],
   "source": []
  },
  {
   "cell_type": "markdown",
   "id": "3c45b34c",
   "metadata": {},
   "source": [
    "### Random Forest"
   ]
  },
  {
   "cell_type": "code",
   "execution_count": 160,
   "id": "4ba55f7c",
   "metadata": {},
   "outputs": [],
   "source": [
    "fclf = RandomForestClassifier(max_depth=5, n_estimators=10, max_features=1)"
   ]
  },
  {
   "cell_type": "code",
   "execution_count": 161,
   "id": "a1d37e6b",
   "metadata": {},
   "outputs": [
    {
     "data": {
      "text/plain": [
       "RandomForestClassifier(max_depth=5, max_features=1, n_estimators=10)"
      ]
     },
     "execution_count": 161,
     "metadata": {},
     "output_type": "execute_result"
    }
   ],
   "source": [
    "fclf.fit(X_train, y_train)"
   ]
  },
  {
   "cell_type": "code",
   "execution_count": 162,
   "id": "ed077f9b",
   "metadata": {},
   "outputs": [
    {
     "data": {
      "text/plain": [
       "0.9347258485639687"
      ]
     },
     "execution_count": 162,
     "metadata": {},
     "output_type": "execute_result"
    }
   ],
   "source": [
    "fclf.score(X_test, y_test)"
   ]
  },
  {
   "cell_type": "code",
   "execution_count": 163,
   "id": "1174f7e9",
   "metadata": {},
   "outputs": [
    {
     "data": {
      "text/plain": [
       "array(['Not Ice', 'Not Ice', 'Not Ice', ..., 'Not Ice', 'Ice', 'Not Ice'],\n",
       "      dtype='<U32')"
      ]
     },
     "execution_count": 163,
     "metadata": {},
     "output_type": "execute_result"
    }
   ],
   "source": [
    "fclf.predict(X_test)\n"
   ]
  },
  {
   "cell_type": "code",
   "execution_count": 164,
   "id": "ab0579f0",
   "metadata": {},
   "outputs": [
    {
     "data": {
      "text/plain": [
       "array(['Not Ice', 'Not Ice', 'Not Ice', ..., 'Not Ice', 'Ice', 'Not Ice'],\n",
       "      dtype='<U32')"
      ]
     },
     "execution_count": 164,
     "metadata": {},
     "output_type": "execute_result"
    }
   ],
   "source": [
    "fclf.predict(X_test)"
   ]
  },
  {
   "cell_type": "code",
   "execution_count": 165,
   "id": "d1b8e7f6",
   "metadata": {},
   "outputs": [
    {
     "data": {
      "text/plain": [
       "0.9432463110102157"
      ]
     },
     "execution_count": 165,
     "metadata": {},
     "output_type": "execute_result"
    }
   ],
   "source": [
    "sklearn.metrics.f1_score(y_test,fclf.predict(X_test), pos_label='Not Ice')"
   ]
  },
  {
   "cell_type": "code",
   "execution_count": null,
   "id": "cf4ff43a",
   "metadata": {},
   "outputs": [],
   "source": []
  },
  {
   "cell_type": "markdown",
   "id": "fd72c3f1",
   "metadata": {},
   "source": [
    "### SVM"
   ]
  },
  {
   "cell_type": "code",
   "execution_count": null,
   "id": "f0de064b",
   "metadata": {},
   "outputs": [],
   "source": [
    "sclf = SVC(gamma='auto')"
   ]
  },
  {
   "cell_type": "code",
   "execution_count": 259,
   "id": "e93524d8",
   "metadata": {},
   "outputs": [
    {
     "data": {
      "text/plain": [
       "SVC(gamma='auto')"
      ]
     },
     "execution_count": 259,
     "metadata": {},
     "output_type": "execute_result"
    }
   ],
   "source": [
    "sclf.fit(X_train,y_train)"
   ]
  },
  {
   "cell_type": "code",
   "execution_count": 262,
   "id": "88265b99",
   "metadata": {},
   "outputs": [
    {
     "data": {
      "text/plain": [
       "0.8838120104438643"
      ]
     },
     "execution_count": 262,
     "metadata": {},
     "output_type": "execute_result"
    }
   ],
   "source": [
    "sclf.score(X_test, y_test)"
   ]
  },
  {
   "cell_type": "code",
   "execution_count": 261,
   "id": "b85c33f8",
   "metadata": {},
   "outputs": [
    {
     "data": {
      "text/plain": [
       "0.8960280373831776"
      ]
     },
     "execution_count": 261,
     "metadata": {},
     "output_type": "execute_result"
    }
   ],
   "source": [
    "sklearn.metrics.f1_score(y_test,sclf.predict(X_test), pos_label='Not Ice')"
   ]
  },
  {
   "cell_type": "code",
   "execution_count": null,
   "id": "56bba227",
   "metadata": {},
   "outputs": [],
   "source": []
  },
  {
   "cell_type": "markdown",
   "id": "3cb0f19b",
   "metadata": {},
   "source": [
    "### Dimentionality Reduction"
   ]
  },
  {
   "cell_type": "code",
   "execution_count": 87,
   "id": "1081de33",
   "metadata": {},
   "outputs": [],
   "source": [
    "cclf = KMeans()"
   ]
  },
  {
   "cell_type": "code",
   "execution_count": 88,
   "id": "23c42e53",
   "metadata": {},
   "outputs": [
    {
     "data": {
      "text/plain": [
       "KMeans()"
      ]
     },
     "execution_count": 88,
     "metadata": {},
     "output_type": "execute_result"
    }
   ],
   "source": [
    "cclf.fit(X_train)"
   ]
  },
  {
   "cell_type": "markdown",
   "id": "c1174d57",
   "metadata": {},
   "source": [
    "# Display prediction"
   ]
  },
  {
   "cell_type": "code",
   "execution_count": 166,
   "id": "67aa57ec",
   "metadata": {},
   "outputs": [],
   "source": [
    "test_img = \"Engilchek_glacier_2002-08-18.tif\""
   ]
  },
  {
   "cell_type": "code",
   "execution_count": 167,
   "id": "a659a492",
   "metadata": {},
   "outputs": [],
   "source": [
    "full_directory = os.path.join(r\"C:\\Users\\marke\\Documents\\DSC180A-Q1\\raw_data\\full_img\",test_img)\n",
    "ndsi_directory = os.path.join(r\"C:\\Users\\marke\\Documents\\DSC180A-Q1\\raw_data\\ndsi_imgs\",test_img)"
   ]
  },
  {
   "cell_type": "code",
   "execution_count": 132,
   "id": "70597de8",
   "metadata": {},
   "outputs": [
    {
     "data": {
      "text/plain": [
       "'C:\\\\Users\\\\marke\\\\Documents\\\\DSC180A-Q1\\\\raw_data\\\\full_img\\\\Engilchek_glacier_2002-08-18.tif'"
      ]
     },
     "execution_count": 132,
     "metadata": {},
     "output_type": "execute_result"
    }
   ],
   "source": [
    "full_directory"
   ]
  },
  {
   "cell_type": "code",
   "execution_count": 168,
   "id": "c9650b1d",
   "metadata": {},
   "outputs": [],
   "source": [
    "def loadImage(img_path, full_img_path, ndsi_directory):\n",
    "    with rasterio.open(full_directory) as src:\n",
    "        full_img = src.read()\n",
    "    \n",
    "    with rasterio.open(ndsi_directory) as src:\n",
    "        ndsi_img = src.read()\n",
    "\n",
    "    return full_img, ndsi_img"
   ]
  },
  {
   "cell_type": "code",
   "execution_count": 264,
   "id": "614f741f",
   "metadata": {},
   "outputs": [],
   "source": [
    "def loadAndTest(test_img,full_directory,ndsi_directory, trained_model):\n",
    "    full,ndsi = runNapari(test_img,full_directory,ndsi_directory)\n",
    "    \n",
    "    e_dims = full.shape\n",
    "    testbals = np.rollaxis(full.reshape(9,e_dims[1]*e_dims[2]),0,2)\n",
    "    prediction = trained_model.predict(testbals)\n",
    "\n",
    "    prediction = prediction.reshape(e_dims[1],e_dims[2])\n",
    "    # np.count_nonzero(testbals.reshape(9,145,363) != full)\n",
    "    display_dims = prediction.shape\n",
    "    img_coordinates = np.array(list(zip(np.arange(0,display_dims[0]),np.arange(0,display_dims[1]))))\n",
    "    \n",
    "    ice_indexes = np.where(prediction == \"Ice\")\n",
    "    non_ice_indexes = np.where(prediction == \"Not Ice\")\n",
    "    ice_coordinates = list(zip(ice_indexes[0],ice_indexes[1]))\n",
    "    non_ice_coordinates = list(zip(non_ice_indexes[0], non_ice_indexes[1]))\n",
    "    \n",
    "    viewer = napari.view_image(ndsi)\n",
    "    viewer.add_points(ice_coordinates,face_color=\"red\",edge_color =\"red\",size=1, name=\"Ice\")\n",
    "    viewer.add_points(non_ice_coordinates,face_color=\"blue\",edge_color =\"blue\",size=1, name=\"Not Ice\")\n"
   ]
  },
  {
   "cell_type": "code",
   "execution_count": 265,
   "id": "82c71e78",
   "metadata": {},
   "outputs": [],
   "source": [
    "loadAndTest(test_img,full_directory,ndsi_directory, sclf)"
   ]
  },
  {
   "cell_type": "code",
   "execution_count": null,
   "id": "d868feb7",
   "metadata": {},
   "outputs": [],
   "source": []
  },
  {
   "cell_type": "code",
   "execution_count": null,
   "id": "2fc8c275",
   "metadata": {},
   "outputs": [],
   "source": []
  },
  {
   "cell_type": "code",
   "execution_count": 169,
   "id": "91cdd28f",
   "metadata": {},
   "outputs": [],
   "source": [
    "full,ndsi = runNapari(test_img,full_directory,ndsi_directory)"
   ]
  },
  {
   "cell_type": "code",
   "execution_count": 247,
   "id": "ad29ef57",
   "metadata": {},
   "outputs": [
    {
     "data": {
      "text/plain": [
       "(145, 363)"
      ]
     },
     "execution_count": 247,
     "metadata": {},
     "output_type": "execute_result"
    }
   ],
   "source": [
    "e_dims = full.shape\n",
    "testbals = np.rollaxis(full.reshape(9,e_dims[1]*e_dims[2]),0,2)\n",
    "prediction = fclf.predict(testbals)\n",
    "\n",
    "prediction = prediction.reshape(e_dims[1],e_dims[2])\n",
    "# np.count_nonzero(testbals.reshape(9,145,363) != full)\n",
    "display_dims = prediction.shape\n",
    "display_dims"
   ]
  },
  {
   "cell_type": "code",
   "execution_count": 239,
   "id": "275a38d2",
   "metadata": {},
   "outputs": [],
   "source": [
    "img_coordinates = np.array(list(zip(np.arange(0,display_dims[1]),np.arange(0,display_dims[2]))))"
   ]
  },
  {
   "cell_type": "code",
   "execution_count": 250,
   "id": "c5ada202",
   "metadata": {},
   "outputs": [],
   "source": [
    "ice_indexes = np.where(prediction == \"Ice\")\n",
    "non_ice_indexes = np.where(prediction == \"Not Ice\")"
   ]
  },
  {
   "cell_type": "code",
   "execution_count": 251,
   "id": "7234cee7",
   "metadata": {},
   "outputs": [],
   "source": [
    "ice_coordinates = list(zip(ice_indexes[0],ice_indexes[1]))\n",
    "non_ice_coordinates = list(zip(non_ice_indexes[0], non_ice_indexes[1]))"
   ]
  },
  {
   "cell_type": "code",
   "execution_count": 253,
   "id": "3cf26e75",
   "metadata": {},
   "outputs": [],
   "source": [
    "viewer = napari.view_image(ndsi)"
   ]
  },
  {
   "cell_type": "code",
   "execution_count": 255,
   "id": "f2a080c6",
   "metadata": {},
   "outputs": [
    {
     "data": {
      "text/plain": [
       "<Points layer 'Not Ice' at 0x21aaee09520>"
      ]
     },
     "execution_count": 255,
     "metadata": {},
     "output_type": "execute_result"
    }
   ],
   "source": [
    "viewer.add_points(ice_coordinates,face_color=\"red\",edge_color =\"red\",size=1, name=\"Ice\")\n",
    "viewer.add_points(non_ice_coordinates,face_color=\"blue\",edge_color =\"blue\",size=1, name=\"Not Ice\")\n"
   ]
  },
  {
   "cell_type": "code",
   "execution_count": null,
   "id": "5c354263",
   "metadata": {},
   "outputs": [],
   "source": []
  }
 ],
 "metadata": {
  "kernelspec": {
   "display_name": "Python 3 (ipykernel)",
   "language": "python",
   "name": "python3"
  },
  "language_info": {
   "codemirror_mode": {
    "name": "ipython",
    "version": 3
   },
   "file_extension": ".py",
   "mimetype": "text/x-python",
   "name": "python",
   "nbconvert_exporter": "python",
   "pygments_lexer": "ipython3",
   "version": "3.8.12"
  }
 },
 "nbformat": 4,
 "nbformat_minor": 5
}
