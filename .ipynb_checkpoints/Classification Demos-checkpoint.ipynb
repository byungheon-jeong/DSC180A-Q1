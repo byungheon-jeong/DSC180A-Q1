{
 "cells": [
  {
   "cell_type": "code",
   "execution_count": 1,
   "id": "376c6395",
   "metadata": {},
   "outputs": [],
   "source": [
    "import sklearn as sk\n",
    "import numpy as np\n",
    "import pandas as pd\n",
    "import rasterio, os, napari\n",
    "from sklearn.model_selection import train_test_split\n",
    "from sklearn.ensemble import RandomForestClassifier\n",
    "from sklearn.svm import SVC\n",
    "from sklearn.cluster import KMeans"
   ]
  },
  {
   "cell_type": "code",
   "execution_count": 2,
   "id": "c93da2ce",
   "metadata": {
    "scrolled": true
   },
   "outputs": [],
   "source": [
    "with open(r\"C:\\Users\\marke\\Documents\\DSC180A-Q1\\raw_data\\checkpoints\\data.npy\", \"rb\") as file:\n",
    "    data = np.load(file)"
   ]
  },
  {
   "cell_type": "code",
   "execution_count": 3,
   "id": "88a3485e",
   "metadata": {},
   "outputs": [],
   "source": [
    "with open(r\"C:\\Users\\marke\\Documents\\DSC180A-Q1\\checkpoint_data\\labels.npy\", \"rb\") as file:\n",
    "    labels = np.load(file)"
   ]
  },
  {
   "cell_type": "code",
   "execution_count": 4,
   "id": "2408a5fc",
   "metadata": {},
   "outputs": [
    {
     "data": {
      "text/plain": [
       "(12669, 9)"
      ]
     },
     "execution_count": 4,
     "metadata": {},
     "output_type": "execute_result"
    }
   ],
   "source": [
    "data.shape"
   ]
  },
  {
   "cell_type": "code",
   "execution_count": 5,
   "id": "6fdf3895",
   "metadata": {},
   "outputs": [
    {
     "data": {
      "text/plain": [
       "(12669, 9)"
      ]
     },
     "execution_count": 5,
     "metadata": {},
     "output_type": "execute_result"
    }
   ],
   "source": [
    "data.shape"
   ]
  },
  {
   "cell_type": "code",
   "execution_count": 6,
   "id": "02314089",
   "metadata": {},
   "outputs": [
    {
     "data": {
      "text/plain": [
       "(12669,)"
      ]
     },
     "execution_count": 6,
     "metadata": {},
     "output_type": "execute_result"
    }
   ],
   "source": [
    "labels.shape"
   ]
  },
  {
   "cell_type": "code",
   "execution_count": 68,
   "id": "3b8c52ce",
   "metadata": {},
   "outputs": [],
   "source": [
    " X_train, X_test, y_train, y_test = train_test_split(data,labels, test_size=0.2)"
   ]
  },
  {
   "cell_type": "code",
   "execution_count": 79,
   "id": "a6d76365",
   "metadata": {},
   "outputs": [
    {
     "data": {
      "text/plain": [
       "9435"
      ]
     },
     "execution_count": 79,
     "metadata": {},
     "output_type": "execute_result"
    }
   ],
   "source": [
    "list(labels).count(\"Not Ice\")"
   ]
  },
  {
   "cell_type": "code",
   "execution_count": 61,
   "id": "69d0027c",
   "metadata": {},
   "outputs": [
    {
     "name": "stdout",
     "output_type": "stream",
     "text": [
      "Not Ice    7578\n",
      "Ice        2557\n",
      "dtype: int64\n",
      "\n",
      "\n",
      "Not Ice    1857\n",
      "Ice         677\n",
      "dtype: int64\n"
     ]
    }
   ],
   "source": [
    "a = pd.Series(y_train).value_counts()\n",
    "b = pd.Series(y_test).value_counts()\n",
    "\n",
    "print(a)\n",
    "print(\"\\n\")\n",
    "print(b)"
   ]
  },
  {
   "cell_type": "markdown",
   "id": "1794cf98",
   "metadata": {},
   "source": [
    "### Random Forest"
   ]
  },
  {
   "cell_type": "code",
   "execution_count": 62,
   "id": "bccb7e16",
   "metadata": {},
   "outputs": [],
   "source": [
    "fclf = RandomForestClassifier(max_depth=5, n_estimators=10, max_features=1)"
   ]
  },
  {
   "cell_type": "code",
   "execution_count": 63,
   "id": "d648052b",
   "metadata": {},
   "outputs": [
    {
     "data": {
      "text/plain": [
       "RandomForestClassifier(max_depth=5, max_features=1, n_estimators=10)"
      ]
     },
     "execution_count": 63,
     "metadata": {},
     "output_type": "execute_result"
    }
   ],
   "source": [
    "fclf.fit(X_train, y_train)"
   ]
  },
  {
   "cell_type": "code",
   "execution_count": 64,
   "id": "ef80e97c",
   "metadata": {},
   "outputs": [
    {
     "data": {
      "text/plain": [
       "0.7663772691397001"
      ]
     },
     "execution_count": 64,
     "metadata": {},
     "output_type": "execute_result"
    }
   ],
   "source": [
    "fclf.score(X_test, y_test)"
   ]
  },
  {
   "cell_type": "code",
   "execution_count": 65,
   "id": "a105e0b3",
   "metadata": {},
   "outputs": [
    {
     "data": {
      "text/plain": [
       "array(['Not Ice', 'Not Ice', 'Not Ice', ..., 'Not Ice', 'Not Ice',\n",
       "       'Not Ice'], dtype='<U32')"
      ]
     },
     "execution_count": 65,
     "metadata": {},
     "output_type": "execute_result"
    }
   ],
   "source": [
    "fclf.predict(X_test)\n"
   ]
  },
  {
   "cell_type": "code",
   "execution_count": 66,
   "id": "b7595d2a",
   "metadata": {},
   "outputs": [
    {
     "data": {
      "text/plain": [
       "array(['Not Ice', 'Not Ice', 'Not Ice', ..., 'Not Ice', 'Not Ice',\n",
       "       'Not Ice'], dtype='<U32')"
      ]
     },
     "execution_count": 66,
     "metadata": {},
     "output_type": "execute_result"
    }
   ],
   "source": [
    "fclf.predict(X_test)"
   ]
  },
  {
   "cell_type": "code",
   "execution_count": 67,
   "id": "a63f2746",
   "metadata": {},
   "outputs": [
    {
     "data": {
      "text/plain": [
       "0.859515899383009"
      ]
     },
     "execution_count": 67,
     "metadata": {},
     "output_type": "execute_result"
    }
   ],
   "source": [
    "sk.metrics.f1_score(y_test,fclf.predict(X_test), pos_label='Not Ice')"
   ]
  },
  {
   "cell_type": "code",
   "execution_count": null,
   "id": "e7fd96f1",
   "metadata": {},
   "outputs": [],
   "source": []
  },
  {
   "cell_type": "markdown",
   "id": "2792d545",
   "metadata": {},
   "source": [
    "### SVM"
   ]
  },
  {
   "cell_type": "code",
   "execution_count": 43,
   "id": "06680bb4",
   "metadata": {},
   "outputs": [],
   "source": [
    "sclf = SVC(gamma='auto')"
   ]
  },
  {
   "cell_type": "code",
   "execution_count": 44,
   "id": "bb41372d",
   "metadata": {},
   "outputs": [
    {
     "data": {
      "text/plain": [
       "SVC(gamma='auto')"
      ]
     },
     "execution_count": 44,
     "metadata": {},
     "output_type": "execute_result"
    }
   ],
   "source": [
    "sclf.fit(X_train,y_train)"
   ]
  },
  {
   "cell_type": "code",
   "execution_count": 45,
   "id": "5abba881",
   "metadata": {},
   "outputs": [
    {
     "data": {
      "text/plain": [
       "0.7407261247040252"
      ]
     },
     "execution_count": 45,
     "metadata": {},
     "output_type": "execute_result"
    }
   ],
   "source": [
    "sclf.score(X_test, y_test)"
   ]
  },
  {
   "cell_type": "code",
   "execution_count": 46,
   "id": "59eb4a75",
   "metadata": {},
   "outputs": [
    {
     "data": {
      "text/plain": [
       "0.8510541827250055"
      ]
     },
     "execution_count": 46,
     "metadata": {},
     "output_type": "execute_result"
    }
   ],
   "source": [
    "sk.metrics.f1_score(y_test,sclf.predict(X_test), pos_label='Not Ice')"
   ]
  },
  {
   "cell_type": "code",
   "execution_count": null,
   "id": "486c4424",
   "metadata": {},
   "outputs": [],
   "source": []
  },
  {
   "cell_type": "markdown",
   "id": "bffd8165",
   "metadata": {},
   "source": [
    "### Dimentionality Reduction"
   ]
  },
  {
   "cell_type": "code",
   "execution_count": 20,
   "id": "c9217981",
   "metadata": {},
   "outputs": [],
   "source": [
    "cclf = KMeans()"
   ]
  },
  {
   "cell_type": "code",
   "execution_count": 21,
   "id": "9e8c006f",
   "metadata": {},
   "outputs": [
    {
     "data": {
      "text/plain": [
       "KMeans()"
      ]
     },
     "execution_count": 21,
     "metadata": {},
     "output_type": "execute_result"
    }
   ],
   "source": [
    "cclf.fit(X_train)"
   ]
  },
  {
   "cell_type": "markdown",
   "id": "f9bfdf4a",
   "metadata": {},
   "source": [
    "# Display prediction"
   ]
  },
  {
   "cell_type": "code",
   "execution_count": 42,
   "id": "e84484c7",
   "metadata": {},
   "outputs": [
    {
     "ename": "NameError",
     "evalue": "name 'Xtrain' is not defined",
     "output_type": "error",
     "traceback": [
      "\u001b[1;31m------------------------------------------------------------------\u001b[0m",
      "\u001b[1;31mNameError\u001b[0m                        Traceback (most recent call last)",
      "\u001b[1;32m~\\AppData\\Local\\Temp/ipykernel_36204/95441280.py\u001b[0m in \u001b[0;36m<module>\u001b[1;34m\u001b[0m\n\u001b[1;32m----> 1\u001b[1;33m \u001b[0mXtrain\u001b[0m\u001b[1;33m\u001b[0m\u001b[1;33m\u001b[0m\u001b[0m\n\u001b[0m",
      "\u001b[1;31mNameError\u001b[0m: name 'Xtrain' is not defined"
     ]
    }
   ],
   "source": [
    "Xtrain"
   ]
  },
  {
   "cell_type": "code",
   "execution_count": null,
   "id": "912373a7",
   "metadata": {},
   "outputs": [],
   "source": [
    "napari.view_image()"
   ]
  },
  {
   "cell_type": "code",
   "execution_count": 37,
   "id": "57044ac7",
   "metadata": {},
   "outputs": [],
   "source": [
    "test_img = \"Engilchek_glacier_2001-03-24.tif\""
   ]
  },
  {
   "cell_type": "code",
   "execution_count": 38,
   "id": "451c2af0",
   "metadata": {},
   "outputs": [],
   "source": [
    "full_directory = os.path.join(r\"C:\\Users\\marke\\Documents\\DSC180A-Q1\\raw_data\\full_img\",test_img)\n",
    "ndsi_directory = os.path.join(r\"C:\\Users\\marke\\Documents\\DSC180A-Q1\\raw_data\\ndsi_imgs\",test_img)"
   ]
  },
  {
   "cell_type": "code",
   "execution_count": 39,
   "id": "795e461a",
   "metadata": {},
   "outputs": [],
   "source": [
    "def runNapari(img_path, full_img_path):\n",
    "    with rasterio.open(img_path) as src:\n",
    "        img = src.read()\n",
    "    \n",
    "    with rasterio.open(full_img_path) as src:\n",
    "        img_full = src.read()\n",
    "\n",
    "    viewer = napari.view_image(img)\n",
    "    return viewer, img, img_full\n"
   ]
  },
  {
   "cell_type": "code",
   "execution_count": null,
   "id": "4a586914",
   "metadata": {},
   "outputs": [],
   "source": []
  },
  {
   "cell_type": "code",
   "execution_count": 40,
   "id": "9eaac253",
   "metadata": {},
   "outputs": [],
   "source": [
    "def loadAndTest(full_directory,ndsi_directory, trained_model):\n",
    "    \n",
    "    viewer,ndsi,full = runNapari(ndsi_directory,full_directory)\n",
    "    e_dims = full.shape\n",
    "    print(e_dims)\n",
    "    testbals = np.rollaxis(full.reshape(9,e_dims[1]*e_dims[2]),0,2)\n",
    "    print(testbals)\n",
    "    prediction = trained_model.predict(testbals)\n",
    "\n",
    "    prediction = prediction.reshape(e_dims[1],e_dims[2])\n",
    "    # np.count_nonzero(testbals.reshape(9,145,363) != full)\n",
    "    display_dims = prediction.shape\n",
    "    img_coordinates = np.array(list(zip(np.arange(0,display_dims[0]),np.arange(0,display_dims[1]))))\n",
    "    \n",
    "    ice_indexes = np.where(prediction == \"Ice\")\n",
    "    non_ice_indexes = np.where(prediction == \"Not Ice\")\n",
    "    ice_coordinates = list(zip(ice_indexes[0],ice_indexes[1]))\n",
    "    non_ice_coordinates = list(zip(non_ice_indexes[0], non_ice_indexes[1]))\n",
    "    \n",
    "    viewer = napari.view_image(ndsi)\n",
    "    viewer.add_points(ice_coordinates,face_color=\"red\",edge_color =\"red\",size=1, name=\"Ice\")\n",
    "    viewer.add_points(non_ice_coordinates,face_color=\"blue\",edge_color =\"blue\",size=1, name=\"Not Ice\")\n"
   ]
  },
  {
   "cell_type": "code",
   "execution_count": 41,
   "id": "94e50c27",
   "metadata": {},
   "outputs": [
    {
     "name": "stderr",
     "output_type": "stream",
     "text": [
      "WARNING: QWindowsWindow::setGeometry: Unable to set geometry 960x689+0+22 (frame: 978x736-9-16) on QWidgetWindow/\"_QtMainWindowClassWindow\" on \"\\\\.\\DISPLAY5\". Resulting geometry: 1202x863+1+29 (frame: 1220x910-8-9) margins: 9, 38, 9, 9 minimum size: 612x566 MINMAXINFO maxSize=0,0 maxpos=0,0 mintrack=630,613 maxtrack=0,0)\n"
     ]
    },
    {
     "name": "stdout",
     "output_type": "stream",
     "text": [
      "(9, 145, 363)\n",
      "[[3.97761971e-01 3.85932624e-01 4.12743956e-01 ... 2.75570343e+02\n",
      "  7.56096169e-02 4.19656366e-01]\n",
      " [3.74478161e-01 3.65576059e-01 3.79657179e-01 ... 2.76249878e+02\n",
      "  8.29020441e-02 4.06457782e-01]\n",
      " [3.64129812e-01 3.48127544e-01 3.65871042e-01 ... 2.74542389e+02\n",
      "  7.19634071e-02 3.80060583e-01]\n",
      " ...\n",
      " [2.99452543e-01 2.49252677e-01 2.36281231e-01 ... 2.47945862e+02\n",
      "  1.36240125e-02 2.41475388e-01]\n",
      " [3.51194352e-01 3.01598191e-01 2.88668603e-01 ... 2.45573410e+02\n",
      "  1.72702242e-02 2.90970117e-01]\n",
      " [3.12387973e-01 2.63793111e-01 2.50067383e-01 ... 2.44603073e+02\n",
      "  1.72702242e-02 2.44775042e-01]]\n"
     ]
    },
    {
     "name": "stderr",
     "output_type": "stream",
     "text": [
      "WARNING: QWindowsWindow::setGeometry: Unable to set geometry 960x689+0+22 (frame: 978x736-9-16) on QWidgetWindow/\"_QtMainWindowClassWindow\" on \"\\\\.\\DISPLAY5\". Resulting geometry: 1202x863+1+29 (frame: 1220x910-8-9) margins: 9, 38, 9, 9 minimum size: 612x566 MINMAXINFO maxSize=0,0 maxpos=0,0 mintrack=630,613 maxtrack=0,0)\n"
     ]
    }
   ],
   "source": [
    "loadAndTest(full_directory, ndsi_directory, sclf)"
   ]
  },
  {
   "cell_type": "code",
   "execution_count": 271,
   "id": "ba679f44",
   "metadata": {},
   "outputs": [
    {
     "data": {
      "text/plain": [
       "SVC(gamma='auto')"
      ]
     },
     "execution_count": 271,
     "metadata": {},
     "output_type": "execute_result"
    }
   ],
   "source": [
    "sclf"
   ]
  },
  {
   "cell_type": "code",
   "execution_count": null,
   "id": "8c0171c3",
   "metadata": {},
   "outputs": [],
   "source": []
  },
  {
   "cell_type": "code",
   "execution_count": 169,
   "id": "c942b016",
   "metadata": {},
   "outputs": [],
   "source": [
    "full,ndsi = runNapari(test_img,full_directory,ndsi_directory)"
   ]
  },
  {
   "cell_type": "code",
   "execution_count": 247,
   "id": "87b0d369",
   "metadata": {},
   "outputs": [
    {
     "data": {
      "text/plain": [
       "(145, 363)"
      ]
     },
     "execution_count": 247,
     "metadata": {},
     "output_type": "execute_result"
    }
   ],
   "source": [
    "e_dims = full.shape\n",
    "testbals = np.rollaxis(full.reshape(9,e_dims[1]*e_dims[2]),0,2)\n",
    "prediction = fclf.predict(testbals)\n",
    "\n",
    "prediction = prediction.reshape(e_dims[1],e_dims[2])\n",
    "# np.count_nonzero(testbals.reshape(9,145,363) != full)\n",
    "display_dims = prediction.shape\n",
    "display_dims"
   ]
  },
  {
   "cell_type": "code",
   "execution_count": 239,
   "id": "be59df00",
   "metadata": {},
   "outputs": [],
   "source": [
    "img_coordinates = np.array(list(zip(np.arange(0,display_dims[1]),np.arange(0,display_dims[2]))))"
   ]
  },
  {
   "cell_type": "code",
   "execution_count": 250,
   "id": "216a929b",
   "metadata": {},
   "outputs": [],
   "source": [
    "ice_indexes = np.where(prediction == \"Ice\")\n",
    "non_ice_indexes = np.where(prediction == \"Not Ice\")"
   ]
  },
  {
   "cell_type": "code",
   "execution_count": 251,
   "id": "0374ab54",
   "metadata": {},
   "outputs": [],
   "source": [
    "ice_coordinates = list(zip(ice_indexes[0],ice_indexes[1]))\n",
    "non_ice_coordinates = list(zip(non_ice_indexes[0], non_ice_indexes[1]))"
   ]
  },
  {
   "cell_type": "code",
   "execution_count": 253,
   "id": "bc2783ba",
   "metadata": {},
   "outputs": [],
   "source": [
    "viewer = napari.view_image(ndsi)"
   ]
  },
  {
   "cell_type": "code",
   "execution_count": 255,
   "id": "14e8e306",
   "metadata": {},
   "outputs": [
    {
     "data": {
      "text/plain": [
       "<Points layer 'Not Ice' at 0x21aaee09520>"
      ]
     },
     "execution_count": 255,
     "metadata": {},
     "output_type": "execute_result"
    }
   ],
   "source": [
    "viewer.add_points(ice_coordinates,face_color=\"red\",edge_color =\"red\",size=1, name=\"Ice\")\n",
    "viewer.add_points(non_ice_coordinates,face_color=\"blue\",edge_color =\"blue\",size=1, name=\"Not Ice\")\n"
   ]
  },
  {
   "cell_type": "code",
   "execution_count": null,
   "id": "ae1b2d90",
   "metadata": {},
   "outputs": [],
   "source": []
  }
 ],
 "metadata": {
  "kernelspec": {
   "display_name": "Python 3 (ipykernel)",
   "language": "python",
   "name": "python3"
  },
  "language_info": {
   "codemirror_mode": {
    "name": "ipython",
    "version": 3
   },
   "file_extension": ".py",
   "mimetype": "text/x-python",
   "name": "python",
   "nbconvert_exporter": "python",
   "pygments_lexer": "ipython3",
   "version": "3.8.12"
  }
 },
 "nbformat": 4,
 "nbformat_minor": 5
}
