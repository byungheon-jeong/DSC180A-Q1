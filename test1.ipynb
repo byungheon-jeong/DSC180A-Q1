{
 "cells": [
  {
   "cell_type": "code",
   "execution_count": 1,
   "id": "019c1a44",
   "metadata": {},
   "outputs": [],
   "source": [
    "import numpy as np\n",
    "import pandas as pd"
   ]
  },
  {
   "cell_type": "code",
   "execution_count": 2,
   "id": "abefe348",
   "metadata": {},
   "outputs": [],
   "source": [
    "import napari\n"
   ]
  },
  {
   "cell_type": "code",
   "execution_count": 3,
   "id": "2acb490b",
   "metadata": {},
   "outputs": [],
   "source": [
    "viewer = napari.Viewer()\n",
    "napari.run()"
   ]
  },
  {
   "cell_type": "code",
   "execution_count": 16,
   "id": "2caf9b19",
   "metadata": {},
   "outputs": [],
   "source": [
    "ts = [layer for layer in viewer.layers]"
   ]
  },
  {
   "cell_type": "code",
   "execution_count": 17,
   "id": "d1ce2bf4",
   "metadata": {},
   "outputs": [
    {
     "data": {
      "text/plain": [
       "array([[21.6550308 , 37.47106846],\n",
       "       [30.80866195, 39.66793993],\n",
       "       [27.51335473, 52.11687829],\n",
       "       [20.19044982, 52.11687829],\n",
       "       [16.16285212, 41.13252092],\n",
       "       [19.82430457, 43.32939239],\n",
       "       [23.48575703, 46.6246996 ],\n",
       "       [27.51335473, 46.6246996 ],\n",
       "       [27.51335473, 43.32939239],\n",
       "       [22.38732129, 39.66793993],\n",
       "       [26.78106424, 26.85285633],\n",
       "       [28.61179047, 27.58514682]])"
      ]
     },
     "execution_count": 17,
     "metadata": {},
     "output_type": "execute_result"
    }
   ],
   "source": [
    "ts[2].data"
   ]
  },
  {
   "cell_type": "code",
   "execution_count": null,
   "id": "d27aba26",
   "metadata": {},
   "outputs": [],
   "source": []
  }
 ],
 "metadata": {
  "kernelspec": {
   "display_name": "Python 3 (ipykernel)",
   "language": "python",
   "name": "python3"
  },
  "language_info": {
   "codemirror_mode": {
    "name": "ipython",
    "version": 3
   },
   "file_extension": ".py",
   "mimetype": "text/x-python",
   "name": "python",
   "nbconvert_exporter": "python",
   "pygments_lexer": "ipython3",
   "version": "3.8.12"
  }
 },
 "nbformat": 4,
 "nbformat_minor": 5
}
