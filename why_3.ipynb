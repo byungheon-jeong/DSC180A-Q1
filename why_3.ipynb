{
 "cells": [
  {
   "cell_type": "code",
   "execution_count": 1,
   "id": "6a19f801",
   "metadata": {},
   "outputs": [],
   "source": [
    "import ee, os\n",
    "import geemap\n",
    "from datetime import datetime\n",
    "import numpy as np\n",
    "import rasterio #for reading images\n",
    "import matplotlib.pyplot as plt \n",
    "import pandas as pd\n",
    "import napari\n",
    "from matplotlib import path"
   ]
  },
  {
   "cell_type": "code",
   "execution_count": 2,
   "id": "b3c3ca38",
   "metadata": {},
   "outputs": [],
   "source": [
    " def cloudscore(image):\n",
    "        '''\n",
    "        Inner function for computing cloud score such that we can remove \n",
    "        bad images from the landsat collections we download.\n",
    "        Implementation in javascript can be found of Google Earth Engine \n",
    "        website under (landsat algorithms), translation to python by KH.\n",
    "        Further help from Nicholas Clinton at \n",
    "        https://urldefense.com/v3/__https://gis.stackexchange.com/questions/252685/filter-landsat-images-base-on-cloud-cover-over-a-region-of-interest*5Cn__;JQ!!LLK065n_VXAQ!zP9K-68-_oPkaNWFZdbTYYnai85ggL4j3FhdqssLkim-RneBr2NqD6Ka4fu6yw-v$         '''\n",
    "        cloud = ee.Algorithms.Landsat.simpleCloudScore(image).select('cloud')\n",
    "        cloudiness = cloud.reduceRegion(ee.Reducer.mean(),\n",
    "                                        geometry=region,\n",
    "                                        scale=30)\n",
    "        image = image.set(cloudiness)\n",
    "        return image"
   ]
  },
  {
   "cell_type": "code",
   "execution_count": 3,
   "id": "d287150c",
   "metadata": {},
   "outputs": [
    {
     "data": {
      "text/html": [
       "<p>To authorize access needed by Earth Engine, open the following\n",
       "        URL in a web browser and follow the instructions:</p>\n",
       "        <p><a href=https://accounts.google.com/o/oauth2/auth?client_id=517222506229-vsmmajv00ul0bs7p89v5m89qs8eb9359.apps.googleusercontent.com&scope=https%3A%2F%2Fwww.googleapis.com%2Fauth%2Fearthengine+https%3A%2F%2Fwww.googleapis.com%2Fauth%2Fdevstorage.full_control&redirect_uri=urn%3Aietf%3Awg%3Aoauth%3A2.0%3Aoob&response_type=code&code_challenge=Q9K_zL3JBvkVX-YR0aPzKlTdz1w1Cgn09mO6otQwQOs&code_challenge_method=S256>https://accounts.google.com/o/oauth2/auth?client_id=517222506229-vsmmajv00ul0bs7p89v5m89qs8eb9359.apps.googleusercontent.com&scope=https%3A%2F%2Fwww.googleapis.com%2Fauth%2Fearthengine+https%3A%2F%2Fwww.googleapis.com%2Fauth%2Fdevstorage.full_control&redirect_uri=urn%3Aietf%3Awg%3Aoauth%3A2.0%3Aoob&response_type=code&code_challenge=Q9K_zL3JBvkVX-YR0aPzKlTdz1w1Cgn09mO6otQwQOs&code_challenge_method=S256</a></p>\n",
       "        <p>The authorization workflow will generate a code, which you\n",
       "        should paste in the box below</p>\n",
       "        "
      ],
      "text/plain": [
       "<IPython.core.display.HTML object>"
      ]
     },
     "metadata": {},
     "output_type": "display_data"
    },
    {
     "ename": "KeyboardInterrupt",
     "evalue": "Interrupted by user",
     "output_type": "error",
     "traceback": [
      "\u001b[1;31m---------------------------------------------------------------------------\u001b[0m",
      "\u001b[1;31mKeyboardInterrupt\u001b[0m                         Traceback (most recent call last)",
      "\u001b[1;32m~\\AppData\\Local\\Temp/ipykernel_32452/1004108853.py\u001b[0m in \u001b[0;36m<module>\u001b[1;34m\u001b[0m\n\u001b[0;32m      1\u001b[0m \u001b[1;31m# Trigger the authentication flow\u001b[0m\u001b[1;33m\u001b[0m\u001b[1;33m\u001b[0m\u001b[1;33m\u001b[0m\u001b[0m\n\u001b[1;32m----> 2\u001b[1;33m \u001b[0mee\u001b[0m\u001b[1;33m.\u001b[0m\u001b[0mAuthenticate\u001b[0m\u001b[1;33m(\u001b[0m\u001b[1;33m)\u001b[0m\u001b[1;33m\u001b[0m\u001b[1;33m\u001b[0m\u001b[0m\n\u001b[0m\u001b[0;32m      3\u001b[0m \u001b[1;33m\u001b[0m\u001b[0m\n\u001b[0;32m      4\u001b[0m \u001b[1;31m# Initialize the library\u001b[0m\u001b[1;33m\u001b[0m\u001b[1;33m\u001b[0m\u001b[1;33m\u001b[0m\u001b[0m\n\u001b[0;32m      5\u001b[0m \u001b[0mee\u001b[0m\u001b[1;33m.\u001b[0m\u001b[0mInitialize\u001b[0m\u001b[1;33m(\u001b[0m\u001b[1;33m)\u001b[0m\u001b[1;33m\u001b[0m\u001b[1;33m\u001b[0m\u001b[0m\n",
      "\u001b[1;32m~\\miniconda3\\envs\\capstone\\lib\\site-packages\\ee\\__init__.py\u001b[0m in \u001b[0;36mAuthenticate\u001b[1;34m(authorization_code, quiet, code_verifier)\u001b[0m\n\u001b[0;32m     87\u001b[0m     \u001b[0mcode_verifier\u001b[0m\u001b[1;33m:\u001b[0m \u001b[0mPKCE\u001b[0m \u001b[0mverifier\u001b[0m \u001b[0mto\u001b[0m \u001b[0mprevent\u001b[0m \u001b[0mauth\u001b[0m \u001b[0mcode\u001b[0m \u001b[0mstealing\u001b[0m\u001b[1;33m.\u001b[0m\u001b[1;33m\u001b[0m\u001b[1;33m\u001b[0m\u001b[0m\n\u001b[0;32m     88\u001b[0m   \"\"\"\n\u001b[1;32m---> 89\u001b[1;33m   \u001b[0moauth\u001b[0m\u001b[1;33m.\u001b[0m\u001b[0mauthenticate\u001b[0m\u001b[1;33m(\u001b[0m\u001b[0mauthorization_code\u001b[0m\u001b[1;33m,\u001b[0m \u001b[0mquiet\u001b[0m\u001b[1;33m,\u001b[0m \u001b[0mcode_verifier\u001b[0m\u001b[1;33m)\u001b[0m\u001b[1;33m\u001b[0m\u001b[1;33m\u001b[0m\u001b[0m\n\u001b[0m\u001b[0;32m     90\u001b[0m \u001b[1;33m\u001b[0m\u001b[0m\n\u001b[0;32m     91\u001b[0m \u001b[1;33m\u001b[0m\u001b[0m\n",
      "\u001b[1;32m~\\miniconda3\\envs\\capstone\\lib\\site-packages\\ee\\oauth.py\u001b[0m in \u001b[0;36mauthenticate\u001b[1;34m(cli_authorization_code, quiet, cli_code_verifier)\u001b[0m\n\u001b[0;32m    233\u001b[0m   \u001b[0mwebbrowser\u001b[0m\u001b[1;33m.\u001b[0m\u001b[0mopen_new\u001b[0m\u001b[1;33m(\u001b[0m\u001b[0mauth_url\u001b[0m\u001b[1;33m)\u001b[0m\u001b[1;33m\u001b[0m\u001b[1;33m\u001b[0m\u001b[0m\n\u001b[0;32m    234\u001b[0m \u001b[1;33m\u001b[0m\u001b[0m\n\u001b[1;32m--> 235\u001b[1;33m   \u001b[0m_obtain_and_write_token\u001b[0m\u001b[1;33m(\u001b[0m\u001b[1;32mNone\u001b[0m\u001b[1;33m,\u001b[0m \u001b[0mcode_verifier\u001b[0m\u001b[1;33m)\u001b[0m  \u001b[1;31m# Will prompt for auth_code.\u001b[0m\u001b[1;33m\u001b[0m\u001b[1;33m\u001b[0m\u001b[0m\n\u001b[0m",
      "\u001b[1;32m~\\miniconda3\\envs\\capstone\\lib\\site-packages\\ee\\oauth.py\u001b[0m in \u001b[0;36m_obtain_and_write_token\u001b[1;34m(auth_code, code_verifier)\u001b[0m\n\u001b[0;32m    137\u001b[0m   \u001b[1;34m\"\"\"Obtains and writes credentials token based on an authorization code.\"\"\"\u001b[0m\u001b[1;33m\u001b[0m\u001b[1;33m\u001b[0m\u001b[0m\n\u001b[0;32m    138\u001b[0m   \u001b[1;32mif\u001b[0m \u001b[1;32mnot\u001b[0m \u001b[0mauth_code\u001b[0m\u001b[1;33m:\u001b[0m\u001b[1;33m\u001b[0m\u001b[1;33m\u001b[0m\u001b[0m\n\u001b[1;32m--> 139\u001b[1;33m     \u001b[0mauth_code\u001b[0m \u001b[1;33m=\u001b[0m \u001b[0minput\u001b[0m\u001b[1;33m(\u001b[0m\u001b[1;34m'Enter verification code: '\u001b[0m\u001b[1;33m)\u001b[0m\u001b[1;33m\u001b[0m\u001b[1;33m\u001b[0m\u001b[0m\n\u001b[0m\u001b[0;32m    140\u001b[0m   \u001b[1;32massert\u001b[0m \u001b[0misinstance\u001b[0m\u001b[1;33m(\u001b[0m\u001b[0mauth_code\u001b[0m\u001b[1;33m,\u001b[0m \u001b[0msix\u001b[0m\u001b[1;33m.\u001b[0m\u001b[0mstring_types\u001b[0m\u001b[1;33m)\u001b[0m\u001b[1;33m\u001b[0m\u001b[1;33m\u001b[0m\u001b[0m\n\u001b[0;32m    141\u001b[0m   \u001b[0mtoken\u001b[0m \u001b[1;33m=\u001b[0m \u001b[0mrequest_token\u001b[0m\u001b[1;33m(\u001b[0m\u001b[0mauth_code\u001b[0m\u001b[1;33m.\u001b[0m\u001b[0mstrip\u001b[0m\u001b[1;33m(\u001b[0m\u001b[1;33m)\u001b[0m\u001b[1;33m,\u001b[0m \u001b[0mcode_verifier\u001b[0m\u001b[1;33m)\u001b[0m\u001b[1;33m\u001b[0m\u001b[1;33m\u001b[0m\u001b[0m\n",
      "\u001b[1;32m~\\miniconda3\\envs\\capstone\\lib\\site-packages\\ipykernel\\kernelbase.py\u001b[0m in \u001b[0;36mraw_input\u001b[1;34m(self, prompt)\u001b[0m\n\u001b[0;32m   1004\u001b[0m                 \u001b[1;34m\"raw_input was called, but this frontend does not support input requests.\"\u001b[0m\u001b[1;33m\u001b[0m\u001b[1;33m\u001b[0m\u001b[0m\n\u001b[0;32m   1005\u001b[0m             )\n\u001b[1;32m-> 1006\u001b[1;33m         return self._input_request(\n\u001b[0m\u001b[0;32m   1007\u001b[0m             \u001b[0mstr\u001b[0m\u001b[1;33m(\u001b[0m\u001b[0mprompt\u001b[0m\u001b[1;33m)\u001b[0m\u001b[1;33m,\u001b[0m\u001b[1;33m\u001b[0m\u001b[1;33m\u001b[0m\u001b[0m\n\u001b[0;32m   1008\u001b[0m             \u001b[0mself\u001b[0m\u001b[1;33m.\u001b[0m\u001b[0m_parent_ident\u001b[0m\u001b[1;33m[\u001b[0m\u001b[1;34m\"shell\"\u001b[0m\u001b[1;33m]\u001b[0m\u001b[1;33m,\u001b[0m\u001b[1;33m\u001b[0m\u001b[1;33m\u001b[0m\u001b[0m\n",
      "\u001b[1;32m~\\miniconda3\\envs\\capstone\\lib\\site-packages\\ipykernel\\kernelbase.py\u001b[0m in \u001b[0;36m_input_request\u001b[1;34m(self, prompt, ident, parent, password)\u001b[0m\n\u001b[0;32m   1049\u001b[0m             \u001b[1;32mexcept\u001b[0m \u001b[0mKeyboardInterrupt\u001b[0m\u001b[1;33m:\u001b[0m\u001b[1;33m\u001b[0m\u001b[1;33m\u001b[0m\u001b[0m\n\u001b[0;32m   1050\u001b[0m                 \u001b[1;31m# re-raise KeyboardInterrupt, to truncate traceback\u001b[0m\u001b[1;33m\u001b[0m\u001b[1;33m\u001b[0m\u001b[1;33m\u001b[0m\u001b[0m\n\u001b[1;32m-> 1051\u001b[1;33m                 \u001b[1;32mraise\u001b[0m \u001b[0mKeyboardInterrupt\u001b[0m\u001b[1;33m(\u001b[0m\u001b[1;34m\"Interrupted by user\"\u001b[0m\u001b[1;33m)\u001b[0m \u001b[1;32mfrom\u001b[0m \u001b[1;32mNone\u001b[0m\u001b[1;33m\u001b[0m\u001b[1;33m\u001b[0m\u001b[0m\n\u001b[0m\u001b[0;32m   1052\u001b[0m             \u001b[1;32mexcept\u001b[0m \u001b[0mException\u001b[0m\u001b[1;33m:\u001b[0m\u001b[1;33m\u001b[0m\u001b[1;33m\u001b[0m\u001b[0m\n\u001b[0;32m   1053\u001b[0m                 \u001b[0mself\u001b[0m\u001b[1;33m.\u001b[0m\u001b[0mlog\u001b[0m\u001b[1;33m.\u001b[0m\u001b[0mwarning\u001b[0m\u001b[1;33m(\u001b[0m\u001b[1;34m\"Invalid Message:\"\u001b[0m\u001b[1;33m,\u001b[0m \u001b[0mexc_info\u001b[0m\u001b[1;33m=\u001b[0m\u001b[1;32mTrue\u001b[0m\u001b[1;33m)\u001b[0m\u001b[1;33m\u001b[0m\u001b[1;33m\u001b[0m\u001b[0m\n",
      "\u001b[1;31mKeyboardInterrupt\u001b[0m: Interrupted by user"
     ]
    }
   ],
   "source": [
    "# Trigger the authentication flow\n",
    "ee.Authenticate()\n",
    "\n",
    "# Initialize the library\n",
    "ee.Initialize()"
   ]
  },
  {
   "cell_type": "code",
   "execution_count": 2,
   "id": "3a77cc6e",
   "metadata": {},
   "outputs": [],
   "source": [
    "def band_select(bands):\n",
    "    \n",
    "    bbox =[(79.8096398872554,42.295437794411406),\n",
    "(79.8096398872554,42.169352359125746),\n",
    "(80.24634643022415,42.169352359125746),\n",
    "(80.24634643022415,42.295437794411406)]\n",
    "\n",
    "    start_date = datetime(1999,1,1)\n",
    "    end_date = datetime(2003,1,1)\n",
    "\n",
    "    region = ee.Geometry.Polygon(bbox)\n",
    "\n",
    "    collection = ee.ImageCollection('LANDSAT/LE07/C01/T1_TOA').filterDate(start_date,end_date).filterBounds(region)\n",
    "    \n",
    "    collection = collection.select(bands)\n",
    "    collection_list = collection.toList(collection.size())\n",
    "\n",
    "    # type(collection_list)\n",
    "    collection_size = collection_list.size().getInfo()\n",
    "    dates = geemap.image_dates(collection, date_format='YYYY-MM-dd').getInfo()\n",
    "    glacier_name = \"Engilchek\"\n",
    "\n",
    "#     list_a = []\n",
    "    for i, date in enumerate(dates):\n",
    "        subdir = \"ee_data\"\n",
    "        image = ee.Image(collection_list.get(i))\n",
    "        geemap.ee_export_image(image, filename = os.path.join(\"ee_data\", \"{}_{}.tif\".format(glacier_name,date)), scale = 100, region = region, file_per_band = False)\n",
    "    #     list_a.append(filename)\n",
    "    image_names = []\n",
    "    for i, date in enumerate(dates):\n",
    "        image_names.append(os.path.join(\"ee_data\", \"{}_{}.tif\".format(glacier_name,date)))\n",
    "    return dates, region, bbox, image_names\n"
   ]
  },
  {
   "cell_type": "code",
   "execution_count": 14,
   "id": "41307fce",
   "metadata": {},
   "outputs": [
    {
     "name": "stdout",
     "output_type": "stream",
     "text": [
      "Generating URL ...\n",
      "Downloading data from https://earthengine.googleapis.com/v1alpha/projects/earthengine-legacy/thumbnails/826c6f611132a9b40cc0aa4b70c3fdca-738471ecf9822b6171b530a51efb7b7e:getPixels\n",
      "Please wait ...\n",
      "Data downloaded to D:\\github\\DSC180A-Q1\\ee_data\\Engilchek_1999-07-09.tif\n",
      "Generating URL ...\n",
      "Downloading data from https://earthengine.googleapis.com/v1alpha/projects/earthengine-legacy/thumbnails/3f190dd999470e5d79491bae230d6e40-85f48ac194698f2ea64d1b9ca700fa3f:getPixels\n",
      "Please wait ...\n",
      "Data downloaded to D:\\github\\DSC180A-Q1\\ee_data\\Engilchek_1999-07-25.tif\n",
      "Generating URL ...\n",
      "Downloading data from https://earthengine.googleapis.com/v1alpha/projects/earthengine-legacy/thumbnails/d58a760501e9fc9e40dbc68087f081b6-22d4f5c0cc49cb401697bb2860c79005:getPixels\n",
      "Please wait ...\n",
      "Data downloaded to D:\\github\\DSC180A-Q1\\ee_data\\Engilchek_1999-08-10.tif\n",
      "Generating URL ...\n",
      "Downloading data from https://earthengine.googleapis.com/v1alpha/projects/earthengine-legacy/thumbnails/45d613a0430c9895d5d98be41deee09d-a2a7489f36f610ffaac4e627f3828282:getPixels\n",
      "Please wait ...\n",
      "Data downloaded to D:\\github\\DSC180A-Q1\\ee_data\\Engilchek_1999-08-26.tif\n",
      "Generating URL ...\n",
      "Downloading data from https://earthengine.googleapis.com/v1alpha/projects/earthengine-legacy/thumbnails/660c31586a83f332da7c81e4973741ef-5a02a86334610cf0a207bf851e7b6bf8:getPixels\n",
      "Please wait ...\n",
      "Data downloaded to D:\\github\\DSC180A-Q1\\ee_data\\Engilchek_1999-10-13.tif\n",
      "Generating URL ...\n",
      "Downloading data from https://earthengine.googleapis.com/v1alpha/projects/earthengine-legacy/thumbnails/163e9f6604137cbd1e4a0db8b4161bf9-b88d2bfaf536577f4b13877f502d3275:getPixels\n",
      "Please wait ...\n",
      "Data downloaded to D:\\github\\DSC180A-Q1\\ee_data\\Engilchek_1999-11-30.tif\n",
      "Generating URL ...\n",
      "Downloading data from https://earthengine.googleapis.com/v1alpha/projects/earthengine-legacy/thumbnails/f90bc50e68f8aba51cd05c1e349e191c-6e0152a0258eac22ac7f5b59975630e1:getPixels\n",
      "Please wait ...\n",
      "Data downloaded to D:\\github\\DSC180A-Q1\\ee_data\\Engilchek_1999-12-16.tif\n",
      "Generating URL ...\n",
      "Downloading data from https://earthengine.googleapis.com/v1alpha/projects/earthengine-legacy/thumbnails/ed736beb31888ba4231e7b8fb330c11d-970b43f7c011b87a42a9726bc72f0e27:getPixels\n",
      "Please wait ...\n",
      "Data downloaded to D:\\github\\DSC180A-Q1\\ee_data\\Engilchek_2000-01-17.tif\n",
      "Generating URL ...\n",
      "Downloading data from https://earthengine.googleapis.com/v1alpha/projects/earthengine-legacy/thumbnails/f2424f21d078a18cc0d3a873870f032b-a961f48950f38990609973a0a7075496:getPixels\n",
      "Please wait ...\n",
      "Data downloaded to D:\\github\\DSC180A-Q1\\ee_data\\Engilchek_2000-02-18.tif\n",
      "Generating URL ...\n",
      "Downloading data from https://earthengine.googleapis.com/v1alpha/projects/earthengine-legacy/thumbnails/8ae56725b72b9b08ac5ce558ce453aa6-baa0e3bdb500c8d2b5d5573c62952001:getPixels\n",
      "Please wait ...\n",
      "Data downloaded to D:\\github\\DSC180A-Q1\\ee_data\\Engilchek_2000-03-21.tif\n",
      "Generating URL ...\n",
      "Downloading data from https://earthengine.googleapis.com/v1alpha/projects/earthengine-legacy/thumbnails/2f324018e185fe4d7439eae72a1a8636-0925f97f98da3e73caeaaa584771561a:getPixels\n",
      "Please wait ...\n",
      "Data downloaded to D:\\github\\DSC180A-Q1\\ee_data\\Engilchek_2000-05-24.tif\n",
      "Generating URL ...\n",
      "Downloading data from https://earthengine.googleapis.com/v1alpha/projects/earthengine-legacy/thumbnails/88d0f2d836a39ec6a8c15f3aeb6daa2e-336e11a9062a8626dfa4d531657b9cd1:getPixels\n",
      "Please wait ...\n",
      "Data downloaded to D:\\github\\DSC180A-Q1\\ee_data\\Engilchek_2000-07-11.tif\n",
      "Generating URL ...\n",
      "Downloading data from https://earthengine.googleapis.com/v1alpha/projects/earthengine-legacy/thumbnails/59b38d29b12875b8e13aa59636ff38c1-e721fc7850475d5daf55993af866765f:getPixels\n",
      "Please wait ...\n",
      "Data downloaded to D:\\github\\DSC180A-Q1\\ee_data\\Engilchek_2000-08-12.tif\n",
      "Generating URL ...\n",
      "Downloading data from https://earthengine.googleapis.com/v1alpha/projects/earthengine-legacy/thumbnails/bd6aeb248c1fc469f2967d9c46a29f26-690558b80ad09e89fe91c84cdd5e03f8:getPixels\n",
      "Please wait ...\n",
      "Data downloaded to D:\\github\\DSC180A-Q1\\ee_data\\Engilchek_2000-09-13.tif\n",
      "Generating URL ...\n",
      "Downloading data from https://earthengine.googleapis.com/v1alpha/projects/earthengine-legacy/thumbnails/62e0980c260957c4d56de2c562ee0baa-be0984b798a894e470bf1b9e123616c4:getPixels\n",
      "Please wait ...\n",
      "Data downloaded to D:\\github\\DSC180A-Q1\\ee_data\\Engilchek_2000-10-31.tif\n",
      "Generating URL ...\n",
      "Downloading data from https://earthengine.googleapis.com/v1alpha/projects/earthengine-legacy/thumbnails/6593cd71c99a4596fe3e4f906ded07da-fafbb20ecab8d87b4b8b12270b5fd234:getPixels\n",
      "Please wait ...\n",
      "Data downloaded to D:\\github\\DSC180A-Q1\\ee_data\\Engilchek_2001-01-03.tif\n",
      "Generating URL ...\n",
      "Downloading data from https://earthengine.googleapis.com/v1alpha/projects/earthengine-legacy/thumbnails/9c468173e74d445ba6b54f4b501e66f2-1d85b95c0aff7f4e685497b7cb6d568d:getPixels\n",
      "Please wait ...\n",
      "Data downloaded to D:\\github\\DSC180A-Q1\\ee_data\\Engilchek_2001-01-19.tif\n",
      "Generating URL ...\n",
      "Downloading data from https://earthengine.googleapis.com/v1alpha/projects/earthengine-legacy/thumbnails/1661e95ff61134d3d00dc106d9c0b440-e4ae9b74383c11685eab58659962b781:getPixels\n",
      "Please wait ...\n",
      "Data downloaded to D:\\github\\DSC180A-Q1\\ee_data\\Engilchek_2001-03-08.tif\n",
      "Generating URL ...\n",
      "Downloading data from https://earthengine.googleapis.com/v1alpha/projects/earthengine-legacy/thumbnails/064fbb81417300c4e876edd8de8d8223-bf45c429b18ad4c66e9bf72fda30206a:getPixels\n",
      "Please wait ...\n",
      "Data downloaded to D:\\github\\DSC180A-Q1\\ee_data\\Engilchek_2001-03-24.tif\n",
      "Generating URL ...\n",
      "Downloading data from https://earthengine.googleapis.com/v1alpha/projects/earthengine-legacy/thumbnails/cef1c97548b4f7aaf853808eb3384e5e-3e04debb20ee82d2956f92f8cd2a4b1f:getPixels\n",
      "Please wait ...\n",
      "Data downloaded to D:\\github\\DSC180A-Q1\\ee_data\\Engilchek_2001-05-11.tif\n",
      "Generating URL ...\n",
      "Downloading data from https://earthengine.googleapis.com/v1alpha/projects/earthengine-legacy/thumbnails/f4fec47d759e6c498a4f42f06172bd70-108d9ec184c27462b2bb14bca7dc1c37:getPixels\n",
      "Please wait ...\n",
      "Data downloaded to D:\\github\\DSC180A-Q1\\ee_data\\Engilchek_2001-05-27.tif\n",
      "Generating URL ...\n",
      "Downloading data from https://earthengine.googleapis.com/v1alpha/projects/earthengine-legacy/thumbnails/e662e98725ff935d13f63722f73ba627-02bc55f7a309310b3955c2eaf4732724:getPixels\n",
      "Please wait ...\n",
      "Data downloaded to D:\\github\\DSC180A-Q1\\ee_data\\Engilchek_2001-06-28.tif\n",
      "Generating URL ...\n",
      "Downloading data from https://earthengine.googleapis.com/v1alpha/projects/earthengine-legacy/thumbnails/a71f51f01252549fb714c8d4b68aac99-e37289078abbc1ced21b20050a24b32e:getPixels\n",
      "Please wait ...\n",
      "Data downloaded to D:\\github\\DSC180A-Q1\\ee_data\\Engilchek_2001-07-14.tif\n",
      "Generating URL ...\n",
      "Downloading data from https://earthengine.googleapis.com/v1alpha/projects/earthengine-legacy/thumbnails/43cbcfb1f0f63606f9ab50e2c7ab4511-22ba5396bfe57cdbbdba26f74b60d043:getPixels\n",
      "Please wait ...\n",
      "Data downloaded to D:\\github\\DSC180A-Q1\\ee_data\\Engilchek_2001-08-31.tif\n",
      "Generating URL ...\n",
      "Downloading data from https://earthengine.googleapis.com/v1alpha/projects/earthengine-legacy/thumbnails/892cef644ad21d8bcf8bd828567457bc-43d16b97647ce6876ac54dc25a2a6db0:getPixels\n",
      "Please wait ...\n",
      "Data downloaded to D:\\github\\DSC180A-Q1\\ee_data\\Engilchek_2001-09-16.tif\n",
      "Generating URL ...\n",
      "Downloading data from https://earthengine.googleapis.com/v1alpha/projects/earthengine-legacy/thumbnails/3247a2b884094cbcb260c17323c36ed7-16ca18ecec9eb59df4d8ed255a3fb1f6:getPixels\n",
      "Please wait ...\n",
      "Data downloaded to D:\\github\\DSC180A-Q1\\ee_data\\Engilchek_2001-10-02.tif\n",
      "Generating URL ...\n",
      "Downloading data from https://earthengine.googleapis.com/v1alpha/projects/earthengine-legacy/thumbnails/428701e4ea8659cef9b37826626fed23-28234c16adbf16038713e797629f4959:getPixels\n",
      "Please wait ...\n",
      "Data downloaded to D:\\github\\DSC180A-Q1\\ee_data\\Engilchek_2001-12-21.tif\n",
      "Generating URL ...\n",
      "Downloading data from https://earthengine.googleapis.com/v1alpha/projects/earthengine-legacy/thumbnails/e498e22e02249397303698a0ea54f90c-107235f8083a12bc24986765143ad0a1:getPixels\n",
      "Please wait ...\n",
      "Data downloaded to D:\\github\\DSC180A-Q1\\ee_data\\Engilchek_2002-01-06.tif\n",
      "Generating URL ...\n",
      "Downloading data from https://earthengine.googleapis.com/v1alpha/projects/earthengine-legacy/thumbnails/99c04e09b3749cb2ca78d55f79823e12-f134828efc17beb5a051b604715c83e0:getPixels\n",
      "Please wait ...\n"
     ]
    },
    {
     "name": "stdout",
     "output_type": "stream",
     "text": [
      "Data downloaded to D:\\github\\DSC180A-Q1\\ee_data\\Engilchek_2002-01-22.tif\n",
      "Generating URL ...\n",
      "Downloading data from https://earthengine.googleapis.com/v1alpha/projects/earthengine-legacy/thumbnails/ac6b620db7c35347dad4acafc42cac84-b3f91f9a7f55efb685c472d8b902c5d6:getPixels\n",
      "Please wait ...\n",
      "Data downloaded to D:\\github\\DSC180A-Q1\\ee_data\\Engilchek_2002-02-23.tif\n",
      "Generating URL ...\n",
      "Downloading data from https://earthengine.googleapis.com/v1alpha/projects/earthengine-legacy/thumbnails/5173c9dfec268c5664aa507b3605f8cb-a093bafd01f28456680cfbfd2e44a03d:getPixels\n",
      "Please wait ...\n",
      "Data downloaded to D:\\github\\DSC180A-Q1\\ee_data\\Engilchek_2002-07-01.tif\n",
      "Generating URL ...\n",
      "Downloading data from https://earthengine.googleapis.com/v1alpha/projects/earthengine-legacy/thumbnails/81c40e1154f0e922d7917f71a5378c56-d39b593cebaf957f1b977a4e74bc8815:getPixels\n",
      "Please wait ...\n",
      "Data downloaded to D:\\github\\DSC180A-Q1\\ee_data\\Engilchek_2002-07-17.tif\n",
      "Generating URL ...\n",
      "Downloading data from https://earthengine.googleapis.com/v1alpha/projects/earthengine-legacy/thumbnails/304f2dbf5f980993ff716e462ef5f3bc-efd8de33c514841958d63299682f9b9b:getPixels\n",
      "Please wait ...\n",
      "Data downloaded to D:\\github\\DSC180A-Q1\\ee_data\\Engilchek_2002-08-18.tif\n",
      "Generating URL ...\n",
      "Downloading data from https://earthengine.googleapis.com/v1alpha/projects/earthengine-legacy/thumbnails/bbf9f39a396deebe24de46759b14e626-3999e4d01ea20cd32460a9694361d68d:getPixels\n",
      "Please wait ...\n",
      "Data downloaded to D:\\github\\DSC180A-Q1\\ee_data\\Engilchek_2002-10-05.tif\n",
      "Generating URL ...\n",
      "Downloading data from https://earthengine.googleapis.com/v1alpha/projects/earthengine-legacy/thumbnails/692c0e4040a249d0587989a62f265554-d753303a0e71f18087ee7d1fa9ab8d19:getPixels\n",
      "Please wait ...\n",
      "Data downloaded to D:\\github\\DSC180A-Q1\\ee_data\\Engilchek_2002-12-08.tif\n",
      "Generating URL ...\n",
      "Downloading data from https://earthengine.googleapis.com/v1alpha/projects/earthengine-legacy/thumbnails/ceb8854ff5206c513c975ff55d49b0ed-188d5da5e356881fb4753bdd976ec53e:getPixels\n",
      "Please wait ...\n",
      "Data downloaded to D:\\github\\DSC180A-Q1\\ee_data\\Engilchek_1999-06-30.tif\n",
      "Generating URL ...\n",
      "Downloading data from https://earthengine.googleapis.com/v1alpha/projects/earthengine-legacy/thumbnails/09518a427ae0d4aa0a845fe3bd45a1ae-ca763c3e3fea5a5e7caea7e1558491c5:getPixels\n",
      "Please wait ...\n",
      "Data downloaded to D:\\github\\DSC180A-Q1\\ee_data\\Engilchek_1999-07-16.tif\n",
      "Generating URL ...\n",
      "Downloading data from https://earthengine.googleapis.com/v1alpha/projects/earthengine-legacy/thumbnails/87638694acfaf7822f469c06027379b4-bc156e2d2b8f758b24d478d3f6f5c85d:getPixels\n",
      "Please wait ...\n",
      "Data downloaded to D:\\github\\DSC180A-Q1\\ee_data\\Engilchek_1999-08-17.tif\n",
      "Generating URL ...\n",
      "Downloading data from https://earthengine.googleapis.com/v1alpha/projects/earthengine-legacy/thumbnails/126bcddbb30721f8d109298adefb542c-66e8cbb586a4d83b79de706003148344:getPixels\n",
      "Please wait ...\n",
      "Data downloaded to D:\\github\\DSC180A-Q1\\ee_data\\Engilchek_1999-09-18.tif\n",
      "Generating URL ...\n",
      "Downloading data from https://earthengine.googleapis.com/v1alpha/projects/earthengine-legacy/thumbnails/dc77f30fd448c0b6d436828d53bb5f9d-9ee19a839cc50e1f49f1b9d18efa4be8:getPixels\n",
      "Please wait ...\n",
      "Data downloaded to D:\\github\\DSC180A-Q1\\ee_data\\Engilchek_1999-12-07.tif\n",
      "Generating URL ...\n",
      "Downloading data from https://earthengine.googleapis.com/v1alpha/projects/earthengine-legacy/thumbnails/2f640706e674fb2c49f324421e2ca2d7-6afef8219d7ce5226e7263ec815b1bcd:getPixels\n",
      "Please wait ...\n",
      "Data downloaded to D:\\github\\DSC180A-Q1\\ee_data\\Engilchek_2000-02-25.tif\n",
      "Generating URL ...\n",
      "Downloading data from https://earthengine.googleapis.com/v1alpha/projects/earthengine-legacy/thumbnails/53f58d4ce0f0e9daccb1246af2809aeb-a81c6c6be5035f8c2b407bc48b7340d4:getPixels\n",
      "Please wait ...\n",
      "Data downloaded to D:\\github\\DSC180A-Q1\\ee_data\\Engilchek_2000-04-13.tif\n",
      "Generating URL ...\n",
      "Downloading data from https://earthengine.googleapis.com/v1alpha/projects/earthengine-legacy/thumbnails/687a37559815eebbb4a7157817d0ddd7-82f75897b949c3b2d160f854d9083d1f:getPixels\n",
      "Please wait ...\n",
      "Data downloaded to D:\\github\\DSC180A-Q1\\ee_data\\Engilchek_2000-05-15.tif\n",
      "Generating URL ...\n",
      "Downloading data from https://earthengine.googleapis.com/v1alpha/projects/earthengine-legacy/thumbnails/100b947b01246f74474b81db5afeb129-496316b08041f8c34817e285305066c1:getPixels\n",
      "Please wait ...\n",
      "Data downloaded to D:\\github\\DSC180A-Q1\\ee_data\\Engilchek_2000-08-19.tif\n",
      "Generating URL ...\n",
      "Downloading data from https://earthengine.googleapis.com/v1alpha/projects/earthengine-legacy/thumbnails/73b41a9eeeabdd70c2df005cfb3e5954-73849a965988d25cf4cf157284deadf9:getPixels\n",
      "Please wait ...\n",
      "Data downloaded to D:\\github\\DSC180A-Q1\\ee_data\\Engilchek_2000-09-04.tif\n",
      "Generating URL ...\n",
      "Downloading data from https://earthengine.googleapis.com/v1alpha/projects/earthengine-legacy/thumbnails/f5ee34716f12a6e59642d0c4def624ba-adb523086ff70df2b3f09393bc8c7449:getPixels\n",
      "Please wait ...\n",
      "Data downloaded to D:\\github\\DSC180A-Q1\\ee_data\\Engilchek_2000-10-06.tif\n",
      "Generating URL ...\n",
      "Downloading data from https://earthengine.googleapis.com/v1alpha/projects/earthengine-legacy/thumbnails/5c8a3f2b33871dc7748479e0e66c438e-369c46d79eb4b2fddc0542d72e66d122:getPixels\n",
      "Please wait ...\n",
      "Data downloaded to D:\\github\\DSC180A-Q1\\ee_data\\Engilchek_2000-11-07.tif\n",
      "Generating URL ...\n",
      "Downloading data from https://earthengine.googleapis.com/v1alpha/projects/earthengine-legacy/thumbnails/dd52271d521958885d73afa64d80868c-1c303321fcfcd48f3e4a818caf4b99bf:getPixels\n",
      "Please wait ...\n",
      "Data downloaded to D:\\github\\DSC180A-Q1\\ee_data\\Engilchek_2001-01-26.tif\n",
      "Generating URL ...\n",
      "Downloading data from https://earthengine.googleapis.com/v1alpha/projects/earthengine-legacy/thumbnails/42bcebc549c3ae34c3f445e63726fb59-ec0719ac038f009c9262e37d9f671d3a:getPixels\n",
      "Please wait ...\n",
      "Data downloaded to D:\\github\\DSC180A-Q1\\ee_data\\Engilchek_2001-02-11.tif\n",
      "Generating URL ...\n",
      "Downloading data from https://earthengine.googleapis.com/v1alpha/projects/earthengine-legacy/thumbnails/506741c2a7db755064be3d9160003fb4-fd88875ada776614075b32b8d9fb455e:getPixels\n",
      "Please wait ...\n",
      "Data downloaded to D:\\github\\DSC180A-Q1\\ee_data\\Engilchek_2001-02-27.tif\n",
      "Generating URL ...\n",
      "Downloading data from https://earthengine.googleapis.com/v1alpha/projects/earthengine-legacy/thumbnails/21e5fb73dcf25df6eb17e1137a30839d-c3d6907c1f0b0fad66bb48bce29f2c23:getPixels\n",
      "Please wait ...\n",
      "Data downloaded to D:\\github\\DSC180A-Q1\\ee_data\\Engilchek_2001-03-31.tif\n",
      "Generating URL ...\n",
      "Downloading data from https://earthengine.googleapis.com/v1alpha/projects/earthengine-legacy/thumbnails/25d988f7d2ac1731e1085bfe156460bf-effbe5eaf35d3436b9a1bf2d0b6f12e7:getPixels\n",
      "Please wait ...\n",
      "Data downloaded to D:\\github\\DSC180A-Q1\\ee_data\\Engilchek_2001-05-02.tif\n",
      "Generating URL ...\n",
      "Downloading data from https://earthengine.googleapis.com/v1alpha/projects/earthengine-legacy/thumbnails/c9807e3f914f6339a65d49849f8f7454-48155524f39ac5d9412b9f4ff29316a3:getPixels\n",
      "Please wait ...\n",
      "Data downloaded to D:\\github\\DSC180A-Q1\\ee_data\\Engilchek_2001-05-18.tif\n",
      "Generating URL ...\n",
      "Downloading data from https://earthengine.googleapis.com/v1alpha/projects/earthengine-legacy/thumbnails/f93e92d026f496ee7ade8ac26b46f4c4-2f2f8edf6a5df9ee42187f1fe1be7c92:getPixels\n",
      "Please wait ...\n",
      "Data downloaded to D:\\github\\DSC180A-Q1\\ee_data\\Engilchek_2001-07-21.tif\n",
      "Generating URL ...\n",
      "Downloading data from https://earthengine.googleapis.com/v1alpha/projects/earthengine-legacy/thumbnails/3a83e54bfe6d87ec9c49523b256b3466-51f4f54f7d2f166b782dd89d2f42bb35:getPixels\n",
      "Please wait ...\n",
      "Data downloaded to D:\\github\\DSC180A-Q1\\ee_data\\Engilchek_2001-08-22.tif\n",
      "Generating URL ...\n",
      "Downloading data from https://earthengine.googleapis.com/v1alpha/projects/earthengine-legacy/thumbnails/a956b6e8cfb65de2df228f455c5ed46d-012bee27c94ea009e6b31191eab907bb:getPixels\n",
      "Please wait ...\n",
      "Data downloaded to D:\\github\\DSC180A-Q1\\ee_data\\Engilchek_2001-12-12.tif\n",
      "Generating URL ...\n",
      "Downloading data from https://earthengine.googleapis.com/v1alpha/projects/earthengine-legacy/thumbnails/b3578e62795fd85d5e346839063d6402-01e92482534aa1c9545df73c839ba25e:getPixels\n",
      "Please wait ...\n",
      "Data downloaded to D:\\github\\DSC180A-Q1\\ee_data\\Engilchek_2002-01-29.tif\n",
      "Generating URL ...\n",
      "Downloading data from https://earthengine.googleapis.com/v1alpha/projects/earthengine-legacy/thumbnails/2a2b8933d43a5992f5cff0f11c3cda50-aefc56bedc98c35fa2ca900c18f01753:getPixels\n",
      "Please wait ...\n"
     ]
    },
    {
     "name": "stdout",
     "output_type": "stream",
     "text": [
      "Data downloaded to D:\\github\\DSC180A-Q1\\ee_data\\Engilchek_2002-03-02.tif\n",
      "Generating URL ...\n",
      "Downloading data from https://earthengine.googleapis.com/v1alpha/projects/earthengine-legacy/thumbnails/f99943b5abfb196e50a364e855a4703c-bac69adfb78c12fce6068e9df883c197:getPixels\n",
      "Please wait ...\n",
      "Data downloaded to D:\\github\\DSC180A-Q1\\ee_data\\Engilchek_2002-04-03.tif\n",
      "Generating URL ...\n",
      "Downloading data from https://earthengine.googleapis.com/v1alpha/projects/earthengine-legacy/thumbnails/489f9b12bdf09123c393dfce39b51f5a-a58e38fb9703eca5fd33c040d2f8a3f0:getPixels\n",
      "Please wait ...\n",
      "Data downloaded to D:\\github\\DSC180A-Q1\\ee_data\\Engilchek_2002-05-05.tif\n",
      "Generating URL ...\n",
      "Downloading data from https://earthengine.googleapis.com/v1alpha/projects/earthengine-legacy/thumbnails/137093089e7aa8e7ee2b5e5c86aeeea4-c576075289e9eddb22eb6e70fbfcddfe:getPixels\n",
      "Please wait ...\n",
      "Data downloaded to D:\\github\\DSC180A-Q1\\ee_data\\Engilchek_2002-06-22.tif\n",
      "Generating URL ...\n",
      "Downloading data from https://earthengine.googleapis.com/v1alpha/projects/earthengine-legacy/thumbnails/9639937b8159e4e74522fde6b64649ce-0fed3f94d6ab032a65f9e2d55e0e10b5:getPixels\n",
      "Please wait ...\n",
      "Data downloaded to D:\\github\\DSC180A-Q1\\ee_data\\Engilchek_2002-07-24.tif\n",
      "Generating URL ...\n",
      "Downloading data from https://earthengine.googleapis.com/v1alpha/projects/earthengine-legacy/thumbnails/f279a28be6a715812726d4fd2c23259a-69321b96f9a75838a2268c84315b2628:getPixels\n",
      "Please wait ...\n",
      "Data downloaded to D:\\github\\DSC180A-Q1\\ee_data\\Engilchek_2002-08-25.tif\n",
      "Generating URL ...\n",
      "Downloading data from https://earthengine.googleapis.com/v1alpha/projects/earthengine-legacy/thumbnails/41b79166eb89b112de251054209f84ac-9ee41813b517a60a55baef4a91c1c331:getPixels\n",
      "Please wait ...\n",
      "Data downloaded to D:\\github\\DSC180A-Q1\\ee_data\\Engilchek_2002-10-28.tif\n",
      "Generating URL ...\n",
      "Downloading data from https://earthengine.googleapis.com/v1alpha/projects/earthengine-legacy/thumbnails/0ed9aff842e91933b79e787a3ce872a1-8aebff0d6b4ac661085e0e07bf37f54d:getPixels\n",
      "Please wait ...\n",
      "Data downloaded to D:\\github\\DSC180A-Q1\\ee_data\\Engilchek_2002-11-13.tif\n",
      "Generating URL ...\n",
      "Downloading data from https://earthengine.googleapis.com/v1alpha/projects/earthengine-legacy/thumbnails/8141e962dd4b5fd8a0dd3ba4d41fdf25-290f2aa7dbd4bc872c2962f8023cb839:getPixels\n",
      "Please wait ...\n",
      "Data downloaded to D:\\github\\DSC180A-Q1\\ee_data\\Engilchek_1999-06-30.tif\n",
      "Generating URL ...\n",
      "Downloading data from https://earthengine.googleapis.com/v1alpha/projects/earthengine-legacy/thumbnails/615a2c1036fe481b9b122055a28a0280-bba32c3909215e6c2fe471e64365033f:getPixels\n",
      "Please wait ...\n",
      "Data downloaded to D:\\github\\DSC180A-Q1\\ee_data\\Engilchek_1999-07-16.tif\n",
      "Generating URL ...\n",
      "Downloading data from https://earthengine.googleapis.com/v1alpha/projects/earthengine-legacy/thumbnails/cdc9d74d7a846408363cb34d612aaac6-d46dfa4fdbab130cbb6d090b9a7bd3d8:getPixels\n",
      "Please wait ...\n",
      "Data downloaded to D:\\github\\DSC180A-Q1\\ee_data\\Engilchek_1999-08-17.tif\n",
      "Generating URL ...\n",
      "Downloading data from https://earthengine.googleapis.com/v1alpha/projects/earthengine-legacy/thumbnails/af7142b8c142afffc054dcaa93a2fd73-e22522d508532ab209aacc02d8c11ce0:getPixels\n",
      "Please wait ...\n",
      "Data downloaded to D:\\github\\DSC180A-Q1\\ee_data\\Engilchek_1999-09-18.tif\n",
      "Generating URL ...\n",
      "Downloading data from https://earthengine.googleapis.com/v1alpha/projects/earthengine-legacy/thumbnails/bc639b2a2d2025f4b8d1f9ace2cd1327-329d42056a07205dc8dfe1347214a801:getPixels\n",
      "Please wait ...\n",
      "Data downloaded to D:\\github\\DSC180A-Q1\\ee_data\\Engilchek_1999-12-07.tif\n",
      "Generating URL ...\n",
      "Downloading data from https://earthengine.googleapis.com/v1alpha/projects/earthengine-legacy/thumbnails/edd16660fad0a430e61be1664490d67c-1313beac47ead2d7a6a1866befe53104:getPixels\n",
      "Please wait ...\n",
      "Data downloaded to D:\\github\\DSC180A-Q1\\ee_data\\Engilchek_2000-02-25.tif\n",
      "Generating URL ...\n",
      "Downloading data from https://earthengine.googleapis.com/v1alpha/projects/earthengine-legacy/thumbnails/5d4bdbdc734b1e7e0a29e957a0d62c49-67194e01b65f33ac215f5eef4528890a:getPixels\n",
      "Please wait ...\n",
      "Data downloaded to D:\\github\\DSC180A-Q1\\ee_data\\Engilchek_2000-04-13.tif\n",
      "Generating URL ...\n",
      "Downloading data from https://earthengine.googleapis.com/v1alpha/projects/earthengine-legacy/thumbnails/af9f835f9599323bc66665cbc8a6937d-971329e71ae1526c32f9aac48596326f:getPixels\n",
      "Please wait ...\n",
      "Data downloaded to D:\\github\\DSC180A-Q1\\ee_data\\Engilchek_2000-05-15.tif\n",
      "Generating URL ...\n",
      "Downloading data from https://earthengine.googleapis.com/v1alpha/projects/earthengine-legacy/thumbnails/cf102b05488afd56b21a764b39349a79-bcccecc83be30796153d8c04b081cb21:getPixels\n",
      "Please wait ...\n",
      "Data downloaded to D:\\github\\DSC180A-Q1\\ee_data\\Engilchek_2000-07-02.tif\n",
      "Generating URL ...\n",
      "Downloading data from https://earthengine.googleapis.com/v1alpha/projects/earthengine-legacy/thumbnails/3b9bac4f62d4e4c44005d59baa97ce00-4d6fc7a22b4dfe22f75ccb5df98bca11:getPixels\n",
      "Please wait ...\n",
      "Data downloaded to D:\\github\\DSC180A-Q1\\ee_data\\Engilchek_2000-08-19.tif\n",
      "Generating URL ...\n",
      "Downloading data from https://earthengine.googleapis.com/v1alpha/projects/earthengine-legacy/thumbnails/d0eb405c3176561fe4235e257fcb48ed-87805eba74fc37c24be114d8406887d6:getPixels\n",
      "Please wait ...\n",
      "Data downloaded to D:\\github\\DSC180A-Q1\\ee_data\\Engilchek_2000-09-04.tif\n",
      "Generating URL ...\n",
      "Downloading data from https://earthengine.googleapis.com/v1alpha/projects/earthengine-legacy/thumbnails/fb979e679bcf96ee816215606bee862a-da01217f43e00563462f00fb3bfb616c:getPixels\n",
      "Please wait ...\n",
      "Data downloaded to D:\\github\\DSC180A-Q1\\ee_data\\Engilchek_2000-10-06.tif\n",
      "Generating URL ...\n",
      "Downloading data from https://earthengine.googleapis.com/v1alpha/projects/earthengine-legacy/thumbnails/6895470e425c67e3cef90bece0708576-eb4aa2de0fe20cf24017c3b828c83b43:getPixels\n",
      "Please wait ...\n",
      "Data downloaded to D:\\github\\DSC180A-Q1\\ee_data\\Engilchek_2000-10-22.tif\n",
      "Generating URL ...\n",
      "Downloading data from https://earthengine.googleapis.com/v1alpha/projects/earthengine-legacy/thumbnails/a3cccfd48ef55fe9440861bffd7ee952-2fc48d1177d54691cfde8c04c3409cd3:getPixels\n",
      "Please wait ...\n",
      "Data downloaded to D:\\github\\DSC180A-Q1\\ee_data\\Engilchek_2001-01-10.tif\n",
      "Generating URL ...\n",
      "Downloading data from https://earthengine.googleapis.com/v1alpha/projects/earthengine-legacy/thumbnails/38dd0be41ae421b067039294837ca592-5e1bcefcc26ba8324adf4aeaf3beed83:getPixels\n",
      "Please wait ...\n",
      "Data downloaded to D:\\github\\DSC180A-Q1\\ee_data\\Engilchek_2001-01-26.tif\n",
      "Generating URL ...\n",
      "Downloading data from https://earthengine.googleapis.com/v1alpha/projects/earthengine-legacy/thumbnails/3801d283caa76159bd341dec0bd40bae-ce2a3e592b8f820def6bcc66c00f4f79:getPixels\n",
      "Please wait ...\n",
      "Data downloaded to D:\\github\\DSC180A-Q1\\ee_data\\Engilchek_2001-02-11.tif\n",
      "Generating URL ...\n",
      "Downloading data from https://earthengine.googleapis.com/v1alpha/projects/earthengine-legacy/thumbnails/b538bf469b98d95a27d5570481597959-5f72f88366c6122a4ae2e344e4baca4e:getPixels\n",
      "Please wait ...\n",
      "Data downloaded to D:\\github\\DSC180A-Q1\\ee_data\\Engilchek_2001-02-27.tif\n",
      "Generating URL ...\n",
      "Downloading data from https://earthengine.googleapis.com/v1alpha/projects/earthengine-legacy/thumbnails/a85887f27ec5c1f3e0c58663d4d1c12e-e2dd94b364f5047d524453deecb7a28c:getPixels\n",
      "Please wait ...\n",
      "Data downloaded to D:\\github\\DSC180A-Q1\\ee_data\\Engilchek_2001-03-31.tif\n",
      "Generating URL ...\n",
      "Downloading data from https://earthengine.googleapis.com/v1alpha/projects/earthengine-legacy/thumbnails/32231dbf8d3fdaf62e3f677ffe7bb5e9-0a0b447635c15edff7d6e9146b5acf81:getPixels\n",
      "Please wait ...\n",
      "Data downloaded to D:\\github\\DSC180A-Q1\\ee_data\\Engilchek_2001-05-18.tif\n",
      "Generating URL ...\n",
      "Downloading data from https://earthengine.googleapis.com/v1alpha/projects/earthengine-legacy/thumbnails/f5f15acebb59d3b6218b8b3e057a4a1d-69fe93398289eeaffb448a188e8fd975:getPixels\n",
      "Please wait ...\n",
      "Data downloaded to D:\\github\\DSC180A-Q1\\ee_data\\Engilchek_2001-08-22.tif\n",
      "Generating URL ...\n",
      "Downloading data from https://earthengine.googleapis.com/v1alpha/projects/earthengine-legacy/thumbnails/b1a505b9b89c5bd2375efbc9d39a3ad1-0f48b4550f02e6f7f21aebb8e12b154b:getPixels\n",
      "Please wait ...\n",
      "Data downloaded to D:\\github\\DSC180A-Q1\\ee_data\\Engilchek_2001-09-07.tif\n",
      "Generating URL ...\n",
      "Downloading data from https://earthengine.googleapis.com/v1alpha/projects/earthengine-legacy/thumbnails/c0ffdf5cb7d098ffa47526b47830bc34-3d8db1ff76b7966eab9c3be2e80079b5:getPixels\n",
      "Please wait ...\n"
     ]
    },
    {
     "name": "stdout",
     "output_type": "stream",
     "text": [
      "Data downloaded to D:\\github\\DSC180A-Q1\\ee_data\\Engilchek_2001-11-26.tif\n",
      "Generating URL ...\n",
      "Downloading data from https://earthengine.googleapis.com/v1alpha/projects/earthengine-legacy/thumbnails/5170dc596b4593ebc610be577a5d2b72-d8131ded2a29ebfc951891fcb47c7dfb:getPixels\n",
      "Please wait ...\n",
      "Data downloaded to D:\\github\\DSC180A-Q1\\ee_data\\Engilchek_2001-12-12.tif\n",
      "Generating URL ...\n",
      "Downloading data from https://earthengine.googleapis.com/v1alpha/projects/earthengine-legacy/thumbnails/a7f823143b3ce999a6d9a839f03a3332-3b35d9f2aa4b626e4f3f2ffb54432793:getPixels\n",
      "Please wait ...\n",
      "Data downloaded to D:\\github\\DSC180A-Q1\\ee_data\\Engilchek_2001-12-28.tif\n",
      "Generating URL ...\n",
      "Downloading data from https://earthengine.googleapis.com/v1alpha/projects/earthengine-legacy/thumbnails/816875b8bbeb034770eb6684e75cb76d-bad618b81abd8368c10ad276fe1c9903:getPixels\n",
      "Please wait ...\n",
      "Data downloaded to D:\\github\\DSC180A-Q1\\ee_data\\Engilchek_2002-01-29.tif\n",
      "Generating URL ...\n",
      "Downloading data from https://earthengine.googleapis.com/v1alpha/projects/earthengine-legacy/thumbnails/c37a435df706d94bc89633f840a15a00-56d0c1c6e9539b894e37688c1ba9a34f:getPixels\n",
      "Please wait ...\n",
      "Data downloaded to D:\\github\\DSC180A-Q1\\ee_data\\Engilchek_2002-04-03.tif\n",
      "Generating URL ...\n",
      "Downloading data from https://earthengine.googleapis.com/v1alpha/projects/earthengine-legacy/thumbnails/a155cf05954b4bd151b81653ea7df0e9-733013364a7a305b90fa9743a9036f2a:getPixels\n",
      "Please wait ...\n",
      "Data downloaded to D:\\github\\DSC180A-Q1\\ee_data\\Engilchek_2002-05-05.tif\n",
      "Generating URL ...\n",
      "Downloading data from https://earthengine.googleapis.com/v1alpha/projects/earthengine-legacy/thumbnails/081cf6abf07fb31843a4a9a314ab8d1d-cddcef0d4d63206fed430dc9ee9b7b4e:getPixels\n",
      "Please wait ...\n",
      "Data downloaded to D:\\github\\DSC180A-Q1\\ee_data\\Engilchek_2002-06-22.tif\n",
      "Generating URL ...\n",
      "Downloading data from https://earthengine.googleapis.com/v1alpha/projects/earthengine-legacy/thumbnails/a066f4b44591298e0f357dec2e6f6209-e868d4ef54257f0067fd6da0cb9b2f88:getPixels\n",
      "Please wait ...\n",
      "Data downloaded to D:\\github\\DSC180A-Q1\\ee_data\\Engilchek_2002-07-24.tif\n",
      "Generating URL ...\n",
      "Downloading data from https://earthengine.googleapis.com/v1alpha/projects/earthengine-legacy/thumbnails/66df0fe63cc235340f485fc7f0acd72a-897a798b984a6e4f874a8bc7b66c4d5d:getPixels\n",
      "Please wait ...\n",
      "Data downloaded to D:\\github\\DSC180A-Q1\\ee_data\\Engilchek_2002-08-25.tif\n",
      "Generating URL ...\n",
      "Downloading data from https://earthengine.googleapis.com/v1alpha/projects/earthengine-legacy/thumbnails/574d9fe7e4eca620e83cde202bed2ac3-c770ad00c5ad58bcdbeb4d83dfc4aa54:getPixels\n",
      "Please wait ...\n",
      "Data downloaded to D:\\github\\DSC180A-Q1\\ee_data\\Engilchek_2002-10-28.tif\n",
      "Generating URL ...\n",
      "Downloading data from https://earthengine.googleapis.com/v1alpha/projects/earthengine-legacy/thumbnails/7b1b53062230bbfc74a72dd18fa1d843-25714500ce3dd52d2c3dc10db5d9f3e1:getPixels\n",
      "Please wait ...\n",
      "Data downloaded to D:\\github\\DSC180A-Q1\\ee_data\\Engilchek_2002-11-13.tif\n",
      "Generating URL ...\n",
      "Downloading data from https://earthengine.googleapis.com/v1alpha/projects/earthengine-legacy/thumbnails/8f92a7040dee814014830c308fe240bd-e4d10690765b690971535c4112c19e51:getPixels\n",
      "Please wait ...\n",
      "Data downloaded to D:\\github\\DSC180A-Q1\\ee_data\\Engilchek_2002-12-31.tif\n"
     ]
    }
   ],
   "source": [
    "dates, region, bbox, image_names = band_select(['B1','B2','B3'])"
   ]
  },
  {
   "cell_type": "code",
   "execution_count": null,
   "id": "c079bc2b",
   "metadata": {},
   "outputs": [],
   "source": []
  },
  {
   "cell_type": "code",
   "execution_count": 3,
   "id": "caced5b9",
   "metadata": {},
   "outputs": [],
   "source": [
    "with rasterio.open('ee_data//Engilchek_2001-10-02.tif') as src:\n",
    "    first_band = src.read(1)\n",
    "    img = src.read()"
   ]
  },
  {
   "cell_type": "code",
   "execution_count": 4,
   "id": "f3be88bd",
   "metadata": {},
   "outputs": [
    {
     "data": {
      "text/plain": [
       "(3, 145, 363)"
      ]
     },
     "execution_count": 4,
     "metadata": {},
     "output_type": "execute_result"
    }
   ],
   "source": [
    "img.shape"
   ]
  },
  {
   "cell_type": "code",
   "execution_count": 4,
   "id": "aa0ba1fe",
   "metadata": {},
   "outputs": [
    {
     "name": "stderr",
     "output_type": "stream",
     "text": [
      "WARNING: QWindowsWindow::setGeometry: Unable to set geometry 960x686+0+22 (frame: 978x733-9-16) on QWidgetWindow/\"_QtMainWindowClassWindow\" on \"\\\\.\\DISPLAY57\". Resulting geometry: 1202x859+1+29 (frame: 1220x906-8-9) margins: 9, 38, 9, 9 minimum size: 612x568 MINMAXINFO maxSize=0,0 maxpos=0,0 mintrack=630,615 maxtrack=0,0)\n"
     ]
    }
   ],
   "source": [
    "viewer = napari.view_image(img)\n",
    "napari.run()"
   ]
  },
  {
   "cell_type": "code",
   "execution_count": 9,
   "id": "5fc9509c",
   "metadata": {},
   "outputs": [
    {
     "data": {
      "text/plain": [
       "dict_keys(['img', 'ice', 'ice [1]', 'not_ice'])"
      ]
     },
     "execution_count": 9,
     "metadata": {},
     "output_type": "execute_result"
    }
   ],
   "source": [
    "ts = {str.lower(layer.name):layer.data for layer in viewer.layers}\n",
    "ts.keys()"
   ]
  },
  {
   "cell_type": "code",
   "execution_count": 17,
   "id": "58b1c1df",
   "metadata": {},
   "outputs": [
    {
     "data": {
      "text/plain": [
       "<re.Match object; span=(0, 7), match='ice [0]'>"
      ]
     },
     "execution_count": 17,
     "metadata": {},
     "output_type": "execute_result"
    }
   ],
   "source": [
    "import re\n",
    "re.match(\"^ice.*\", \"ice [0]\")"
   ]
  },
  {
   "cell_type": "code",
   "execution_count": 18,
   "id": "93e839fb",
   "metadata": {},
   "outputs": [],
   "source": [
    "ice_layers = {str.lower(layer.name):layer.data for layer in viewer.layers if re.match(\"^ice.*\", str.lower(layer.name))}"
   ]
  },
  {
   "cell_type": "code",
   "execution_count": 35,
   "id": "6cc7ad66",
   "metadata": {},
   "outputs": [
    {
     "data": {
      "text/plain": [
       "{'not_ice': [array([[  0.        , 111.76998161,  43.39173962],\n",
       "         [  0.        ,  98.5944238 ,  59.64159426],\n",
       "         [  0.        ,  92.00664489,  77.64818994],\n",
       "         [  0.        ,  90.68908911,  97.85071192],\n",
       "         [  0.        ,  83.66212494,  95.65478562],\n",
       "         [  0.        ,  80.14864286,  84.6751541 ],\n",
       "         [  0.        ,  84.54049546,  60.08077952],\n",
       "         [  0.        ,  84.97968072,  50.41870379],\n",
       "         [  0.        ,  95.52012698,  44.7092954 ],\n",
       "         [  0.        , 103.42546166,  36.80396072],\n",
       "         [  0.        , 110.45242583,  42.5133691 ]])]}"
      ]
     },
     "execution_count": 35,
     "metadata": {},
     "output_type": "execute_result"
    }
   ],
   "source": [
    "non_ice_layers= {str.lower(layer.name):layer.data for layer in viewer.layers if re.match(\"^not_ice.*\", str.lower(layer.name))}\n",
    "non_ice_layers"
   ]
  },
  {
   "cell_type": "code",
   "execution_count": 66,
   "id": "649d2c2c",
   "metadata": {},
   "outputs": [],
   "source": [
    "for i, (x,y) in enumerate(non_ice_layers.items()):\n",
    "    coordinates = np.delete(y[0],(0),axis=1)"
   ]
  },
  {
   "cell_type": "code",
   "execution_count": 67,
   "id": "41cde3b6",
   "metadata": {},
   "outputs": [
    {
     "data": {
      "text/plain": [
       "array([[111.76998161,  43.39173962],\n",
       "       [ 98.5944238 ,  59.64159426],\n",
       "       [ 92.00664489,  77.64818994],\n",
       "       [ 90.68908911,  97.85071192],\n",
       "       [ 83.66212494,  95.65478562],\n",
       "       [ 80.14864286,  84.6751541 ],\n",
       "       [ 84.54049546,  60.08077952],\n",
       "       [ 84.97968072,  50.41870379],\n",
       "       [ 95.52012698,  44.7092954 ],\n",
       "       [103.42546166,  36.80396072],\n",
       "       [110.45242583,  42.5133691 ]])"
      ]
     },
     "execution_count": 67,
     "metadata": {},
     "output_type": "execute_result"
    }
   ],
   "source": [
    "coordinates"
   ]
  },
  {
   "cell_type": "code",
   "execution_count": 59,
   "id": "c2f131e8",
   "metadata": {},
   "outputs": [
    {
     "data": {
      "text/plain": [
       "array([[111.76998161,  43.39173962],\n",
       "       [ 98.5944238 ,  59.64159426],\n",
       "       [ 92.00664489,  77.64818994],\n",
       "       [ 90.68908911,  97.85071192],\n",
       "       [ 83.66212494,  95.65478562],\n",
       "       [ 80.14864286,  84.6751541 ],\n",
       "       [ 84.54049546,  60.08077952],\n",
       "       [ 84.97968072,  50.41870379],\n",
       "       [ 95.52012698,  44.7092954 ],\n",
       "       [103.42546166,  36.80396072],\n",
       "       [110.45242583,  42.5133691 ]])"
      ]
     },
     "execution_count": 59,
     "metadata": {},
     "output_type": "execute_result"
    }
   ],
   "source": [
    "test = np.delete(b[0],(0),axis=1)\n",
    "test"
   ]
  },
  {
   "cell_type": "code",
   "execution_count": 65,
   "id": "f97b34c3",
   "metadata": {},
   "outputs": [
    {
     "data": {
      "text/plain": [
       "array([[False, False, False, ..., False, False, False],\n",
       "       [False, False, False, ..., False, False, False],\n",
       "       [False, False, False, ..., False, False, False],\n",
       "       ...,\n",
       "       [False, False, False, ..., False, False, False],\n",
       "       [False, False, False, ..., False, False, False],\n",
       "       [False, False, False, ..., False, False, False]])"
      ]
     },
     "execution_count": 65,
     "metadata": {},
     "output_type": "execute_result"
    }
   ],
   "source": [
    "mask = containsWithin(test, img)\n",
    "mask"
   ]
  },
  {
   "cell_type": "code",
   "execution_count": 9,
   "id": "b904fd7e",
   "metadata": {},
   "outputs": [
    {
     "data": {
      "text/plain": [
       "<Shapes layer 'test' at 0x23edce8e940>"
      ]
     },
     "execution_count": 9,
     "metadata": {},
     "output_type": "execute_result"
    }
   ],
   "source": [
    "viewer.add_shapes(test, shape_type=\"polygon\", edge_color='red', face_color=\"blue\")"
   ]
  },
  {
   "cell_type": "code",
   "execution_count": 60,
   "id": "d9636d67",
   "metadata": {},
   "outputs": [],
   "source": [
    "glacier = path.Path(test)"
   ]
  },
  {
   "cell_type": "code",
   "execution_count": 61,
   "id": "913bcfd4",
   "metadata": {},
   "outputs": [
    {
     "data": {
      "text/plain": [
       "array([False])"
      ]
     },
     "execution_count": 61,
     "metadata": {},
     "output_type": "execute_result"
    }
   ],
   "source": [
    "glacier.contains_points(np.array([[26,200]]))"
   ]
  },
  {
   "cell_type": "code",
   "execution_count": 14,
   "id": "42e12ffb",
   "metadata": {},
   "outputs": [],
   "source": [
    "indices = np.where(np.all(img == img, axis=0))\n",
    "pixels = np.array(list(zip(indices[0],indices[1])))"
   ]
  },
  {
   "cell_type": "code",
   "execution_count": 17,
   "id": "dbcdc68f",
   "metadata": {},
   "outputs": [
    {
     "data": {
      "text/plain": [
       "array([[  0,   0],\n",
       "       [  0,   1],\n",
       "       [  0,   2],\n",
       "       ...,\n",
       "       [144, 360],\n",
       "       [144, 361],\n",
       "       [144, 362]], dtype=int64)"
      ]
     },
     "execution_count": 17,
     "metadata": {},
     "output_type": "execute_result"
    }
   ],
   "source": [
    "pixels"
   ]
  },
  {
   "cell_type": "code",
   "execution_count": 99,
   "id": "e76ef78e",
   "metadata": {},
   "outputs": [
    {
     "data": {
      "text/plain": [
       "(52635,)"
      ]
     },
     "execution_count": 99,
     "metadata": {},
     "output_type": "execute_result"
    }
   ],
   "source": [
    "glacier.contains_points(pixels).shape"
   ]
  },
  {
   "cell_type": "code",
   "execution_count": 32,
   "id": "4bf0c80d",
   "metadata": {},
   "outputs": [
    {
     "data": {
      "text/plain": [
       "<Shapes layer 'Shapes' at 0x23edcdb2e80>"
      ]
     },
     "execution_count": 32,
     "metadata": {},
     "output_type": "execute_result"
    }
   ],
   "source": [
    "viewer.layers[1]"
   ]
  },
  {
   "cell_type": "code",
   "execution_count": 63,
   "id": "8246dc90",
   "metadata": {},
   "outputs": [],
   "source": [
    "# label_data = {str.lower(layer.name):layer.data for layer in viewer.layers}\n",
    "# path_dimention = np.delete(ts[\"shapes\"][0], (0), axis=1)\n",
    "\n",
    "def containsWithin(path_dimention, img):\n",
    "    glacier = path.Path(path_dimention)\n",
    "    indices = np.where(np.all(img == img, axis=0))\n",
    "    pixels = np.array(list(zip(indices[0],indices[1])))\n",
    "#     return pixels\n",
    "    return glacier.contains_points(pixels).reshape(img.shape[1:])\n",
    "\n",
    "    "
   ]
  },
  {
   "cell_type": "code",
   "execution_count": 20,
   "id": "e77dc4bd",
   "metadata": {},
   "outputs": [],
   "source": [
    "mask = containsWithin(path_dimention, img)"
   ]
  },
  {
   "cell_type": "code",
   "execution_count": 22,
   "id": "3b2ab5d5",
   "metadata": {},
   "outputs": [
    {
     "data": {
      "text/plain": [
       "<Points layer 'Points' at 0x23edcde0ee0>"
      ]
     },
     "execution_count": 22,
     "metadata": {},
     "output_type": "execute_result"
    }
   ],
   "source": [
    "viewer.add_points(list(zip(np.where(mask == True)[0],np.where(mask == True)[1]))[100])"
   ]
  },
  {
   "cell_type": "code",
   "execution_count": null,
   "id": "47e9b76a",
   "metadata": {},
   "outputs": [],
   "source": []
  },
  {
   "cell_type": "markdown",
   "id": "08ee7f87",
   "metadata": {},
   "source": [
    "### CODIFIED"
   ]
  },
  {
   "cell_type": "code",
   "execution_count": 144,
   "id": "d23dbff6",
   "metadata": {},
   "outputs": [],
   "source": [
    "def run_napari(img):\n",
    "\n",
    "    viewer = napari.view_image(img)\n",
    "    napari.run()\n",
    "    return viewer\n",
    "\n",
    "def get_mask(fileName):\n",
    "\n",
    "    with rasterio.open('ee_data//Engilchek_2001-10-02.tif') as src:\n",
    "        img = src.read() \n",
    "    napariConcurrent = mlt.Process(target=run_napari, args=img)\n",
    "    viewer = napariConcurrent.get()\n",
    "    input(\"Press ENTER after annotation\")\n",
    "    while True:\n",
    "        try:\n",
    "            path_dimention = get_polygon_paths(viewer)\n",
    "            mask = containsWithin(path_dimention, img)\n",
    "        except KeyError:\n",
    "            print(\"Annotate on UI\")\n",
    "            time.sleep(5)\n",
    "        break\n",
    "    return mask\n",
    "    \n",
    "\n",
    "def get_polygon_paths(viewer)-> list:\n",
    "\n",
    "    ice_layers = {str.lower(layer.name):layer.data for layer in viewer.layers if re.match(\"^ice.*\", str.lower(layer.name))}\n",
    "    non_ice_layers= {str.lower(layer.name):layer.data for layer in viewer.layers if re.match(\"^not_ice.*\", str.lower(layer.name))}\n",
    "    ice_coordinate_list, non_ice_coordinate_list = list(),list()\n",
    "\n",
    "    for i, (x,y) in enumerate(ice_layers.items()):\n",
    "        ice_coordinate_list.append(np.delete(y[0],(0),axis=1))\n",
    "    for i, (x,y) in enumerate(non_ice_layers.items()):\n",
    "        non_ice_coordinate_list.append(np.delete(y[0],(0),axis=1))\n",
    "\n",
    "    path_results = {\"ice\":ice_coordinate_list, \"non_ice\":non_ice_coordinate_list}\n",
    "    return path_results\n",
    "\n",
    "    \n",
    "def containsWithin(path_dimention, img):\n",
    "\n",
    "    glacier = path.Path(path_dimention)\n",
    "    indices = np.where(np.all(img == img, axis=0))\n",
    "    pixels = np.array(list(zip(indices[0],indices[1])))\n",
    "#     return pixels\n",
    "    return glacier.contains_points(pixels).reshape(img.shape[1:])"
   ]
  },
  {
   "cell_type": "code",
   "execution_count": 134,
   "id": "b72ee0d9",
   "metadata": {},
   "outputs": [
    {
     "name": "stderr",
     "output_type": "stream",
     "text": [
      "WARNING: QWindowsWindow::setGeometry: Unable to set geometry 960x686+1317+763 (frame: 978x733+1308+725) on QWidgetWindow/\"_QtMainWindowClassWindow\" on \"\\\\.\\DISPLAY57\". Resulting geometry: 1202x859+1318+770 (frame: 1220x906+1309+732) margins: 9, 38, 9, 9 minimum size: 612x568 MINMAXINFO maxSize=0,0 maxpos=0,0 mintrack=630,615 maxtrack=0,0)\n",
      "WARNING: QWindowsWindow::setGeometry: Unable to set geometry 1534x839+1318+770 (frame: 1550x878+1310+739) on QWidgetWindow/\"_QtMainWindowClassWindow\" on \"\\\\.\\DISPLAY58\". Resulting geometry: 1226x670+1317+763 (frame: 1242x709+1309+732) margins: 8, 31, 8, 8 minimum size: 612x568 MINMAXINFO maxSize=0,0 maxpos=0,0 mintrack=628,607 maxtrack=0,0)\n"
     ]
    }
   ],
   "source": [
    "# test_viewer = run_napari(img)"
   ]
  },
  {
   "cell_type": "code",
   "execution_count": 137,
   "id": "ca412542",
   "metadata": {},
   "outputs": [],
   "source": [
    "test_result = list()\n",
    "for path in get_polygon_paths(viewer)[\"ice\"]:\n",
    "    test_result.append(path)\n",
    "#     test_result.append(containsWithin(paths, img))"
   ]
  },
  {
   "cell_type": "code",
   "execution_count": 145,
   "id": "19a1e23c",
   "metadata": {},
   "outputs": [
    {
     "data": {
      "text/plain": [
       "{'ice': [array([[69.16901135, 64.47263212],\n",
       "         [69.16901135, 65.5705953 ],\n",
       "         [70.26697452, 65.5705953 ],\n",
       "         [70.26697452, 64.47263212]]),\n",
       "  array([[ 59.06775036, 151.43131369],\n",
       "         [ 57.31100932, 168.55953885],\n",
       "         [ 54.67589775, 183.05265244],\n",
       "         [ 54.67589775, 190.07961661],\n",
       "         [ 57.31100932, 196.66739552],\n",
       "         [ 66.97308505, 200.1808776 ],\n",
       "         [ 66.09471453, 180.85672614],\n",
       "         [ 68.72982609, 161.53257468],\n",
       "         [ 70.04738187, 151.43131369],\n",
       "         [ 60.8244914 , 152.30968421]])],\n",
       " 'non_ice': [array([[111.76998161,  43.39173962],\n",
       "         [ 98.5944238 ,  59.64159426],\n",
       "         [ 92.00664489,  77.64818994],\n",
       "         [ 90.68908911,  97.85071192],\n",
       "         [ 83.66212494,  95.65478562],\n",
       "         [ 80.14864286,  84.6751541 ],\n",
       "         [ 84.54049546,  60.08077952],\n",
       "         [ 84.97968072,  50.41870379],\n",
       "         [ 95.52012698,  44.7092954 ],\n",
       "         [103.42546166,  36.80396072],\n",
       "         [110.45242583,  42.5133691 ]])]}"
      ]
     },
     "execution_count": 145,
     "metadata": {},
     "output_type": "execute_result"
    }
   ],
   "source": [
    " get_polygon_paths(viewer)"
   ]
  },
  {
   "cell_type": "code",
   "execution_count": 138,
   "id": "0fddfb28",
   "metadata": {},
   "outputs": [
    {
     "data": {
      "text/plain": [
       "[array([[69.16901135, 64.47263212],\n",
       "        [69.16901135, 65.5705953 ],\n",
       "        [70.26697452, 65.5705953 ],\n",
       "        [70.26697452, 64.47263212]]),\n",
       " array([[ 59.06775036, 151.43131369],\n",
       "        [ 57.31100932, 168.55953885],\n",
       "        [ 54.67589775, 183.05265244],\n",
       "        [ 54.67589775, 190.07961661],\n",
       "        [ 57.31100932, 196.66739552],\n",
       "        [ 66.97308505, 200.1808776 ],\n",
       "        [ 66.09471453, 180.85672614],\n",
       "        [ 68.72982609, 161.53257468],\n",
       "        [ 70.04738187, 151.43131369],\n",
       "        [ 60.8244914 , 152.30968421]])]"
      ]
     },
     "execution_count": 138,
     "metadata": {},
     "output_type": "execute_result"
    }
   ],
   "source": [
    "test_result"
   ]
  },
  {
   "cell_type": "code",
   "execution_count": 118,
   "id": "913479b8",
   "metadata": {},
   "outputs": [],
   "source": [
    "te = np.logical_or(test_result[0],test_result[1])"
   ]
  },
  {
   "cell_type": "code",
   "execution_count": 125,
   "id": "a4b7e364",
   "metadata": {},
   "outputs": [
    {
     "data": {
      "text/plain": [
       "1"
      ]
     },
     "execution_count": 125,
     "metadata": {},
     "output_type": "execute_result"
    }
   ],
   "source": [
    "np.count_nonzero(test_result[0])"
   ]
  },
  {
   "cell_type": "code",
   "execution_count": 130,
   "id": "dd6aa94c",
   "metadata": {},
   "outputs": [
    {
     "data": {
      "text/plain": [
       "{'ice': [array([[ 0.        , 69.16901135, 64.47263212],\n",
       "         [ 0.        , 69.16901135, 65.5705953 ],\n",
       "         [ 0.        , 70.26697452, 65.5705953 ],\n",
       "         [ 0.        , 70.26697452, 64.47263212]]),\n",
       "  array([[ 0.        , 66.09471453, 90.82374775],\n",
       "         [ 0.        , 66.09471453, 91.92171092],\n",
       "         [ 0.        , 67.1926777 , 91.92171092],\n",
       "         [ 0.        , 67.1926777 , 90.82374775]]),\n",
       "  array([[ 0.        , 66.97308505, 70.18204051],\n",
       "         [ 0.        , 66.97308505, 71.28000368],\n",
       "         [ 0.        , 68.07104822, 71.28000368],\n",
       "         [ 0.        , 68.07104822, 70.18204051]]),\n",
       "  array([[  0.        ,  72.24330817,  64.03344686],\n",
       "         [  0.        ,  66.09471453,  84.6751541 ],\n",
       "         [  0.        ,  63.89878822, 123.76264228],\n",
       "         [  0.        ,  59.50693562, 145.28272005],\n",
       "         [  0.        ,  74.00004921, 146.60027583],\n",
       "         [  0.        ,  77.07434604, 120.68834546],\n",
       "         [  0.        ,  78.83108708, 102.24256452],\n",
       "         [  0.        ,  80.58782812,  71.49959629],\n",
       "         [  0.        ,  78.83108708,  61.83752056],\n",
       "         [  0.        ,  73.56086395,  64.91181738],\n",
       "         [  0.        ,  73.56086395,  64.91181738]])],\n",
       " 'ice [1]': [array([[  0.        ,  59.06775036, 151.43131369],\n",
       "         [  0.        ,  57.31100932, 168.55953885],\n",
       "         [  0.        ,  54.67589775, 183.05265244],\n",
       "         [  0.        ,  54.67589775, 190.07961661],\n",
       "         [  0.        ,  57.31100932, 196.66739552],\n",
       "         [  0.        ,  66.97308505, 200.1808776 ],\n",
       "         [  0.        ,  66.09471453, 180.85672614],\n",
       "         [  0.        ,  68.72982609, 161.53257468],\n",
       "         [  0.        ,  70.04738187, 151.43131369],\n",
       "         [  0.        ,  60.8244914 , 152.30968421]])]}"
      ]
     },
     "execution_count": 130,
     "metadata": {},
     "output_type": "execute_result"
    }
   ],
   "source": [
    "test = {str.lower(layer.name):layer.data for layer in viewer.layers if re.match(\"^ice.*\", str.lower(layer.name))}\n",
    "test"
   ]
  },
  {
   "cell_type": "code",
   "execution_count": 135,
   "id": "85054248",
   "metadata": {},
   "outputs": [
    {
     "data": {
      "text/plain": [
       "'ICE'"
      ]
     },
     "execution_count": 135,
     "metadata": {},
     "output_type": "execute_result"
    }
   ],
   "source": [
    "viewer.layers[1].name"
   ]
  },
  {
   "cell_type": "code",
   "execution_count": 136,
   "id": "f39eb485",
   "metadata": {},
   "outputs": [
    {
     "data": {
      "text/plain": [
       "[array([[ 0.        , 69.16901135, 64.47263212],\n",
       "        [ 0.        , 69.16901135, 65.5705953 ],\n",
       "        [ 0.        , 70.26697452, 65.5705953 ],\n",
       "        [ 0.        , 70.26697452, 64.47263212]]),\n",
       " array([[ 0.        , 66.09471453, 90.82374775],\n",
       "        [ 0.        , 66.09471453, 91.92171092],\n",
       "        [ 0.        , 67.1926777 , 91.92171092],\n",
       "        [ 0.        , 67.1926777 , 90.82374775]]),\n",
       " array([[ 0.        , 66.97308505, 70.18204051],\n",
       "        [ 0.        , 66.97308505, 71.28000368],\n",
       "        [ 0.        , 68.07104822, 71.28000368],\n",
       "        [ 0.        , 68.07104822, 70.18204051]]),\n",
       " array([[  0.        ,  72.24330817,  64.03344686],\n",
       "        [  0.        ,  66.09471453,  84.6751541 ],\n",
       "        [  0.        ,  63.89878822, 123.76264228],\n",
       "        [  0.        ,  59.50693562, 145.28272005],\n",
       "        [  0.        ,  74.00004921, 146.60027583],\n",
       "        [  0.        ,  77.07434604, 120.68834546],\n",
       "        [  0.        ,  78.83108708, 102.24256452],\n",
       "        [  0.        ,  80.58782812,  71.49959629],\n",
       "        [  0.        ,  78.83108708,  61.83752056],\n",
       "        [  0.        ,  73.56086395,  64.91181738],\n",
       "        [  0.        ,  73.56086395,  64.91181738]])]"
      ]
     },
     "execution_count": 136,
     "metadata": {},
     "output_type": "execute_result"
    }
   ],
   "source": [
    "viewer.layers[1].data"
   ]
  },
  {
   "cell_type": "code",
   "execution_count": null,
   "id": "c546d792",
   "metadata": {},
   "outputs": [],
   "source": []
  }
 ],
 "metadata": {
  "kernelspec": {
   "display_name": "Python 3 (ipykernel)",
   "language": "python",
   "name": "python3"
  },
  "language_info": {
   "codemirror_mode": {
    "name": "ipython",
    "version": 3
   },
   "file_extension": ".py",
   "mimetype": "text/x-python",
   "name": "python",
   "nbconvert_exporter": "python",
   "pygments_lexer": "ipython3",
   "version": "3.8.12"
  }
 },
 "nbformat": 4,
 "nbformat_minor": 5
}
